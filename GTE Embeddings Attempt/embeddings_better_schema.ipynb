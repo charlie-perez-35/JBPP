{
 "cells": [
  {
   "cell_type": "code",
   "execution_count": 1,
   "id": "dec6ec5c-bfb1-4d30-891f-fa4f2778bcae",
   "metadata": {},
   "outputs": [],
   "source": [
    "# necessary packages in full (for now, still building of course)\n",
    "\n",
    "import torch\n",
    "from sentence_transformers import SentenceTransformer\n",
    "import pandas as pd\n",
    "import numpy as np\n",
    "\n",
    "import nltk\n",
    "from nltk.tokenize import sent_tokenize\n",
    "# nltk.download('punkt')\n",
    "\n",
    "import re\n",
    "import itertools\n",
    "\n",
    "import os\n",
    "\n",
    "import time # just for my own information\n",
    "\n",
    "# this is just to get rid of an error message - something about how Windows caches the model I'm downloading from the internet\n",
    "os.environ[\"HF_HUB_DISABLE_SYMLINKS_WARNING\"] = \"1\""
   ]
  },
  {
   "cell_type": "code",
   "execution_count": 3,
   "id": "97defac2-b361-4db0-b1a3-820289c10dbb",
   "metadata": {},
   "outputs": [],
   "source": [
    "# instantiate global variables\n",
    "model = SentenceTransformer(\"thenlper/gte-small\")\n",
    "\n",
    "regex_year_str = r'(19|20)\\d{2}'\n",
    "\n",
    "# read in data\n",
    "documents = pd.read_csv('../document-catalog_extended.csv')\n",
    "documents = documents[documents['Workflow Stage'] == 'Early Access']\n",
    "documents.dropna(subset='Document Body', inplace=True)"
   ]
  },
  {
   "cell_type": "code",
   "execution_count": 5,
   "id": "ae0743ef-1a7e-4e21-8e4e-915764c71dd1",
   "metadata": {},
   "outputs": [],
   "source": [
    "documents.drop(['Box', 'Document Length', 'Workflow Stage', 'Image Filename', 'Image Identifier', 'Image URL'], axis=1, inplace=True)"
   ]
  },
  {
   "cell_type": "code",
   "execution_count": 7,
   "id": "bd6c4c77-a5b9-4b4e-aef1-106e1f6f71c7",
   "metadata": {},
   "outputs": [],
   "source": [
    "documents.reset_index(inplace=True)\n",
    "documents.drop('index', axis=1, inplace=True)"
   ]
  },
  {
   "cell_type": "code",
   "execution_count": 9,
   "id": "e34ad005-8bae-402c-84b1-90871ef06280",
   "metadata": {},
   "outputs": [
    {
     "data": {
      "text/html": [
       "<div>\n",
       "<style scoped>\n",
       "    .dataframe tbody tr th:only-of-type {\n",
       "        vertical-align: middle;\n",
       "    }\n",
       "\n",
       "    .dataframe tbody tr th {\n",
       "        vertical-align: top;\n",
       "    }\n",
       "\n",
       "    .dataframe thead th {\n",
       "        text-align: right;\n",
       "    }\n",
       "</style>\n",
       "<table border=\"1\" class=\"dataframe\">\n",
       "  <thead>\n",
       "    <tr style=\"text-align: right;\">\n",
       "      <th></th>\n",
       "      <th>ID</th>\n",
       "      <th>Title</th>\n",
       "      <th>Document Body</th>\n",
       "    </tr>\n",
       "  </thead>\n",
       "  <tbody>\n",
       "    <tr>\n",
       "      <th>0</th>\n",
       "      <td>670</td>\n",
       "      <td>Undated Speech concerning Conditions of Black ...</td>\n",
       "      <td>[This speech includes pages with many differen...</td>\n",
       "    </tr>\n",
       "    <tr>\n",
       "      <th>1</th>\n",
       "      <td>667</td>\n",
       "      <td>Speeches making observations about the recent ...</td>\n",
       "      <td>Now that the nation's voters — at least, 54% o...</td>\n",
       "    </tr>\n",
       "    <tr>\n",
       "      <th>2</th>\n",
       "      <td>666</td>\n",
       "      <td>Speeches making observations about the recent ...</td>\n",
       "      <td>Now that the nation's voters — at least, 54% o...</td>\n",
       "    </tr>\n",
       "    <tr>\n",
       "      <th>3</th>\n",
       "      <td>665</td>\n",
       "      <td>Speeches making observations about the recent ...</td>\n",
       "      <td>1\\nNow that the nations voters — at least, 54%...</td>\n",
       "    </tr>\n",
       "    <tr>\n",
       "      <th>4</th>\n",
       "      <td>663</td>\n",
       "      <td>Speech about the upcoming presidential electio...</td>\n",
       "      <td>The election approaching on November seventh i...</td>\n",
       "    </tr>\n",
       "  </tbody>\n",
       "</table>\n",
       "</div>"
      ],
      "text/plain": [
       "    ID                                              Title  \\\n",
       "0  670  Undated Speech concerning Conditions of Black ...   \n",
       "1  667  Speeches making observations about the recent ...   \n",
       "2  666  Speeches making observations about the recent ...   \n",
       "3  665  Speeches making observations about the recent ...   \n",
       "4  663  Speech about the upcoming presidential electio...   \n",
       "\n",
       "                                       Document Body  \n",
       "0  [This speech includes pages with many differen...  \n",
       "1  Now that the nation's voters — at least, 54% o...  \n",
       "2  Now that the nation's voters — at least, 54% o...  \n",
       "3  1\\nNow that the nations voters — at least, 54%...  \n",
       "4  The election approaching on November seventh i...  "
      ]
     },
     "execution_count": 9,
     "metadata": {},
     "output_type": "execute_result"
    }
   ],
   "source": [
    "documents.head()"
   ]
  },
  {
   "cell_type": "code",
   "execution_count": 11,
   "id": "cbbc2de0-9f73-4ccd-a691-0e3c59ce4402",
   "metadata": {},
   "outputs": [],
   "source": [
    "sentences = documents['Document Body']\\\n",
    "                .apply(lambda x: pd.Series([x for x in sent_tokenize(x) if len(x) >= 30], dtype='string'))\\\n",
    "                .stack()\\\n",
    "                .to_frame('sent_str')"
   ]
  },
  {
   "cell_type": "code",
   "execution_count": 13,
   "id": "316cdd75-2e8d-4f59-86ab-454696af8d82",
   "metadata": {},
   "outputs": [
    {
     "data": {
      "text/html": [
       "<div>\n",
       "<style scoped>\n",
       "    .dataframe tbody tr th:only-of-type {\n",
       "        vertical-align: middle;\n",
       "    }\n",
       "\n",
       "    .dataframe tbody tr th {\n",
       "        vertical-align: top;\n",
       "    }\n",
       "\n",
       "    .dataframe thead th {\n",
       "        text-align: right;\n",
       "    }\n",
       "</style>\n",
       "<table border=\"1\" class=\"dataframe\">\n",
       "  <thead>\n",
       "    <tr style=\"text-align: right;\">\n",
       "      <th></th>\n",
       "      <th>ID</th>\n",
       "      <th>Title</th>\n",
       "      <th>Document Body</th>\n",
       "    </tr>\n",
       "    <tr>\n",
       "      <th>index</th>\n",
       "      <th></th>\n",
       "      <th></th>\n",
       "      <th></th>\n",
       "    </tr>\n",
       "  </thead>\n",
       "  <tbody>\n",
       "    <tr>\n",
       "      <th>0</th>\n",
       "      <td>670</td>\n",
       "      <td>Undated Speech concerning Conditions of Black ...</td>\n",
       "      <td>[This speech includes pages with many differen...</td>\n",
       "    </tr>\n",
       "    <tr>\n",
       "      <th>1</th>\n",
       "      <td>667</td>\n",
       "      <td>Speeches making observations about the recent ...</td>\n",
       "      <td>Now that the nation's voters — at least, 54% o...</td>\n",
       "    </tr>\n",
       "    <tr>\n",
       "      <th>2</th>\n",
       "      <td>666</td>\n",
       "      <td>Speeches making observations about the recent ...</td>\n",
       "      <td>Now that the nation's voters — at least, 54% o...</td>\n",
       "    </tr>\n",
       "    <tr>\n",
       "      <th>3</th>\n",
       "      <td>665</td>\n",
       "      <td>Speeches making observations about the recent ...</td>\n",
       "      <td>1\\nNow that the nations voters — at least, 54%...</td>\n",
       "    </tr>\n",
       "    <tr>\n",
       "      <th>4</th>\n",
       "      <td>663</td>\n",
       "      <td>Speech about the upcoming presidential electio...</td>\n",
       "      <td>The election approaching on November seventh i...</td>\n",
       "    </tr>\n",
       "  </tbody>\n",
       "</table>\n",
       "</div>"
      ],
      "text/plain": [
       "        ID                                              Title  \\\n",
       "index                                                           \n",
       "0      670  Undated Speech concerning Conditions of Black ...   \n",
       "1      667  Speeches making observations about the recent ...   \n",
       "2      666  Speeches making observations about the recent ...   \n",
       "3      665  Speeches making observations about the recent ...   \n",
       "4      663  Speech about the upcoming presidential electio...   \n",
       "\n",
       "                                           Document Body  \n",
       "index                                                     \n",
       "0      [This speech includes pages with many differen...  \n",
       "1      Now that the nation's voters — at least, 54% o...  \n",
       "2      Now that the nation's voters — at least, 54% o...  \n",
       "3      1\\nNow that the nations voters — at least, 54%...  \n",
       "4      The election approaching on November seventh i...  "
      ]
     },
     "execution_count": 13,
     "metadata": {},
     "output_type": "execute_result"
    }
   ],
   "source": [
    "documents.index.name = \"index\"\n",
    "documents.head()"
   ]
  },
  {
   "cell_type": "code",
   "execution_count": 15,
   "id": "6ecdcfd0-77e4-4b58-bf9a-303b4d22af30",
   "metadata": {},
   "outputs": [
    {
     "data": {
      "text/html": [
       "<div>\n",
       "<style scoped>\n",
       "    .dataframe tbody tr th:only-of-type {\n",
       "        vertical-align: middle;\n",
       "    }\n",
       "\n",
       "    .dataframe tbody tr th {\n",
       "        vertical-align: top;\n",
       "    }\n",
       "\n",
       "    .dataframe thead th {\n",
       "        text-align: right;\n",
       "    }\n",
       "</style>\n",
       "<table border=\"1\" class=\"dataframe\">\n",
       "  <thead>\n",
       "    <tr style=\"text-align: right;\">\n",
       "      <th></th>\n",
       "      <th></th>\n",
       "      <th>sent_str</th>\n",
       "    </tr>\n",
       "  </thead>\n",
       "  <tbody>\n",
       "    <tr>\n",
       "      <th rowspan=\"5\" valign=\"top\">0</th>\n",
       "      <th>0</th>\n",
       "      <td>[This speech includes pages with many differen...</td>\n",
       "    </tr>\n",
       "    <tr>\n",
       "      <th>1</th>\n",
       "      <td>We need to discover who is, and who isn't viol...</td>\n",
       "    </tr>\n",
       "    <tr>\n",
       "      <th>2</th>\n",
       "      <td>Violence is black children going to school for...</td>\n",
       "    </tr>\n",
       "    <tr>\n",
       "      <th>3</th>\n",
       "      <td>Violence is 30 million hungry stomachs in the ...</td>\n",
       "    </tr>\n",
       "    <tr>\n",
       "      <th>4</th>\n",
       "      <td>Violence is having black people represent a di...</td>\n",
       "    </tr>\n",
       "  </tbody>\n",
       "</table>\n",
       "</div>"
      ],
      "text/plain": [
       "                                              sent_str\n",
       "0 0  [This speech includes pages with many differen...\n",
       "  1  We need to discover who is, and who isn't viol...\n",
       "  2  Violence is black children going to school for...\n",
       "  3  Violence is 30 million hungry stomachs in the ...\n",
       "  4  Violence is having black people represent a di..."
      ]
     },
     "execution_count": 15,
     "metadata": {},
     "output_type": "execute_result"
    }
   ],
   "source": [
    "sentences.head()"
   ]
  },
  {
   "cell_type": "code",
   "execution_count": 17,
   "id": "8c069701-9d73-44a4-81c6-36bd48b96612",
   "metadata": {},
   "outputs": [],
   "source": [
    "sentences = sentences.rename_axis(index = ['doc_index', 'sent_num'])"
   ]
  },
  {
   "cell_type": "code",
   "execution_count": 19,
   "id": "50cb5897-c3cc-4d81-8403-b091bef9d22d",
   "metadata": {},
   "outputs": [
    {
     "data": {
      "text/html": [
       "<div>\n",
       "<style scoped>\n",
       "    .dataframe tbody tr th:only-of-type {\n",
       "        vertical-align: middle;\n",
       "    }\n",
       "\n",
       "    .dataframe tbody tr th {\n",
       "        vertical-align: top;\n",
       "    }\n",
       "\n",
       "    .dataframe thead th {\n",
       "        text-align: right;\n",
       "    }\n",
       "</style>\n",
       "<table border=\"1\" class=\"dataframe\">\n",
       "  <thead>\n",
       "    <tr style=\"text-align: right;\">\n",
       "      <th></th>\n",
       "      <th></th>\n",
       "      <th>sent_str</th>\n",
       "    </tr>\n",
       "    <tr>\n",
       "      <th>doc_index</th>\n",
       "      <th>sent_num</th>\n",
       "      <th></th>\n",
       "    </tr>\n",
       "  </thead>\n",
       "  <tbody>\n",
       "    <tr>\n",
       "      <th rowspan=\"5\" valign=\"top\">0</th>\n",
       "      <th>0</th>\n",
       "      <td>[This speech includes pages with many differen...</td>\n",
       "    </tr>\n",
       "    <tr>\n",
       "      <th>1</th>\n",
       "      <td>We need to discover who is, and who isn't viol...</td>\n",
       "    </tr>\n",
       "    <tr>\n",
       "      <th>2</th>\n",
       "      <td>Violence is black children going to school for...</td>\n",
       "    </tr>\n",
       "    <tr>\n",
       "      <th>3</th>\n",
       "      <td>Violence is 30 million hungry stomachs in the ...</td>\n",
       "    </tr>\n",
       "    <tr>\n",
       "      <th>4</th>\n",
       "      <td>Violence is having black people represent a di...</td>\n",
       "    </tr>\n",
       "  </tbody>\n",
       "</table>\n",
       "</div>"
      ],
      "text/plain": [
       "                                                             sent_str\n",
       "doc_index sent_num                                                   \n",
       "0         0         [This speech includes pages with many differen...\n",
       "          1         We need to discover who is, and who isn't viol...\n",
       "          2         Violence is black children going to school for...\n",
       "          3         Violence is 30 million hungry stomachs in the ...\n",
       "          4         Violence is having black people represent a di..."
      ]
     },
     "execution_count": 19,
     "metadata": {},
     "output_type": "execute_result"
    }
   ],
   "source": [
    "sentences.head()"
   ]
  },
  {
   "cell_type": "code",
   "execution_count": 21,
   "id": "d8b851c7-6512-42d9-b912-a7a84a09de34",
   "metadata": {},
   "outputs": [
    {
     "name": "stdout",
     "output_type": "stream",
     "text": [
      "<class 'pandas.core.series.Series'>\n"
     ]
    }
   ],
   "source": [
    "print(type(sentences['sent_str']))"
   ]
  },
  {
   "cell_type": "code",
   "execution_count": 27,
   "id": "7e0d59d4-133f-4f5e-8aa4-9636554663b0",
   "metadata": {},
   "outputs": [
    {
     "name": "stdout",
     "output_type": "stream",
     "text": [
      "Runtime: -385.645 seconds\n"
     ]
    }
   ],
   "source": [
    "start = time.time()\n",
    "embeddings = model.encode(sentences['sent_str'].reset_index(drop=True))\n",
    "end = time.time()\n",
    "print(f'Runtime: {round(end-start, 3)} seconds')"
   ]
  },
  {
   "cell_type": "markdown",
   "id": "376d6ec3-af8e-409a-a37a-49ec9f0e8f58",
   "metadata": {},
   "source": [
    "Creating the embeddings seems to take a little over six minutes, which is not too bad but not necessarily scalable to the entire corpus. But for speeches, this is viable. When Lucian discussed this framework, he did say that it took a very long time to generate these embeddings. I definitely want to store these somehow so I don't have to re-do this step every time."
   ]
  },
  {
   "cell_type": "code",
   "execution_count": 30,
   "id": "b6ad766d-a5e1-436d-ad0c-228e2e9104e0",
   "metadata": {},
   "outputs": [],
   "source": [
    "sentences['embedding'] = list(embeddings)"
   ]
  },
  {
   "cell_type": "code",
   "execution_count": 32,
   "id": "0de5ffd3-c061-4528-9b5a-7ab2f25394fe",
   "metadata": {},
   "outputs": [
    {
     "data": {
      "text/html": [
       "<div>\n",
       "<style scoped>\n",
       "    .dataframe tbody tr th:only-of-type {\n",
       "        vertical-align: middle;\n",
       "    }\n",
       "\n",
       "    .dataframe tbody tr th {\n",
       "        vertical-align: top;\n",
       "    }\n",
       "\n",
       "    .dataframe thead th {\n",
       "        text-align: right;\n",
       "    }\n",
       "</style>\n",
       "<table border=\"1\" class=\"dataframe\">\n",
       "  <thead>\n",
       "    <tr style=\"text-align: right;\">\n",
       "      <th></th>\n",
       "      <th></th>\n",
       "      <th>sent_str</th>\n",
       "      <th>embedding</th>\n",
       "    </tr>\n",
       "    <tr>\n",
       "      <th>doc_index</th>\n",
       "      <th>sent_num</th>\n",
       "      <th></th>\n",
       "      <th></th>\n",
       "    </tr>\n",
       "  </thead>\n",
       "  <tbody>\n",
       "    <tr>\n",
       "      <th rowspan=\"5\" valign=\"top\">0</th>\n",
       "      <th>0</th>\n",
       "      <td>[This speech includes pages with many differen...</td>\n",
       "      <td>[-0.062395636, 0.0135172205, 0.045818355, -0.0...</td>\n",
       "    </tr>\n",
       "    <tr>\n",
       "      <th>1</th>\n",
       "      <td>We need to discover who is, and who isn't viol...</td>\n",
       "      <td>[-0.020895261, -0.008539446, 0.029561546, -0.0...</td>\n",
       "    </tr>\n",
       "    <tr>\n",
       "      <th>2</th>\n",
       "      <td>Violence is black children going to school for...</td>\n",
       "      <td>[0.00194369, -0.006336346, 0.035046395, -0.005...</td>\n",
       "    </tr>\n",
       "    <tr>\n",
       "      <th>3</th>\n",
       "      <td>Violence is 30 million hungry stomachs in the ...</td>\n",
       "      <td>[0.0031232794, -0.011578105, 0.041491807, -0.0...</td>\n",
       "    </tr>\n",
       "    <tr>\n",
       "      <th>4</th>\n",
       "      <td>Violence is having black people represent a di...</td>\n",
       "      <td>[-0.0017653363, 0.026803194, 0.014218208, -0.0...</td>\n",
       "    </tr>\n",
       "  </tbody>\n",
       "</table>\n",
       "</div>"
      ],
      "text/plain": [
       "                                                             sent_str  \\\n",
       "doc_index sent_num                                                      \n",
       "0         0         [This speech includes pages with many differen...   \n",
       "          1         We need to discover who is, and who isn't viol...   \n",
       "          2         Violence is black children going to school for...   \n",
       "          3         Violence is 30 million hungry stomachs in the ...   \n",
       "          4         Violence is having black people represent a di...   \n",
       "\n",
       "                                                            embedding  \n",
       "doc_index sent_num                                                     \n",
       "0         0         [-0.062395636, 0.0135172205, 0.045818355, -0.0...  \n",
       "          1         [-0.020895261, -0.008539446, 0.029561546, -0.0...  \n",
       "          2         [0.00194369, -0.006336346, 0.035046395, -0.005...  \n",
       "          3         [0.0031232794, -0.011578105, 0.041491807, -0.0...  \n",
       "          4         [-0.0017653363, 0.026803194, 0.014218208, -0.0...  "
      ]
     },
     "execution_count": 32,
     "metadata": {},
     "output_type": "execute_result"
    }
   ],
   "source": [
    "sentences.head()"
   ]
  },
  {
   "cell_type": "code",
   "execution_count": 43,
   "id": "1504d8a5-ab73-47b1-82a7-2dceb474843e",
   "metadata": {},
   "outputs": [
    {
     "data": {
      "text/plain": [
       "45850"
      ]
     },
     "execution_count": 43,
     "metadata": {},
     "output_type": "execute_result"
    }
   ],
   "source": [
    "len(embeddings)"
   ]
  },
  {
   "cell_type": "code",
   "execution_count": 45,
   "id": "3837edd8-860e-4067-bb09-c35db581e59c",
   "metadata": {},
   "outputs": [
    {
     "data": {
      "text/plain": [
       "45850"
      ]
     },
     "execution_count": 45,
     "metadata": {},
     "output_type": "execute_result"
    }
   ],
   "source": [
    "len(sentences.sent_str)"
   ]
  },
  {
   "cell_type": "code",
   "execution_count": 51,
   "id": "9033b66c-b909-4462-a617-1a568e2f9150",
   "metadata": {},
   "outputs": [
    {
     "data": {
      "text/html": [
       "<div>\n",
       "<style scoped>\n",
       "    .dataframe tbody tr th:only-of-type {\n",
       "        vertical-align: middle;\n",
       "    }\n",
       "\n",
       "    .dataframe tbody tr th {\n",
       "        vertical-align: top;\n",
       "    }\n",
       "\n",
       "    .dataframe thead th {\n",
       "        text-align: right;\n",
       "    }\n",
       "</style>\n",
       "<table border=\"1\" class=\"dataframe\">\n",
       "  <thead>\n",
       "    <tr style=\"text-align: right;\">\n",
       "      <th></th>\n",
       "      <th></th>\n",
       "      <th>sent_str</th>\n",
       "      <th>embedding</th>\n",
       "      <th>embeddings_id</th>\n",
       "    </tr>\n",
       "    <tr>\n",
       "      <th>doc_index</th>\n",
       "      <th>sent_num</th>\n",
       "      <th></th>\n",
       "      <th></th>\n",
       "      <th></th>\n",
       "    </tr>\n",
       "  </thead>\n",
       "  <tbody>\n",
       "    <tr>\n",
       "      <th rowspan=\"5\" valign=\"top\">0</th>\n",
       "      <th>0</th>\n",
       "      <td>[This speech includes pages with many differen...</td>\n",
       "      <td>[-0.062395636, 0.0135172205, 0.045818355, -0.0...</td>\n",
       "      <td>0</td>\n",
       "    </tr>\n",
       "    <tr>\n",
       "      <th>1</th>\n",
       "      <td>We need to discover who is, and who isn't viol...</td>\n",
       "      <td>[-0.020895261, -0.008539446, 0.029561546, -0.0...</td>\n",
       "      <td>1</td>\n",
       "    </tr>\n",
       "    <tr>\n",
       "      <th>2</th>\n",
       "      <td>Violence is black children going to school for...</td>\n",
       "      <td>[0.00194369, -0.006336346, 0.035046395, -0.005...</td>\n",
       "      <td>2</td>\n",
       "    </tr>\n",
       "    <tr>\n",
       "      <th>3</th>\n",
       "      <td>Violence is 30 million hungry stomachs in the ...</td>\n",
       "      <td>[0.0031232794, -0.011578105, 0.041491807, -0.0...</td>\n",
       "      <td>3</td>\n",
       "    </tr>\n",
       "    <tr>\n",
       "      <th>4</th>\n",
       "      <td>Violence is having black people represent a di...</td>\n",
       "      <td>[-0.0017653363, 0.026803194, 0.014218208, -0.0...</td>\n",
       "      <td>4</td>\n",
       "    </tr>\n",
       "  </tbody>\n",
       "</table>\n",
       "</div>"
      ],
      "text/plain": [
       "                                                             sent_str  \\\n",
       "doc_index sent_num                                                      \n",
       "0         0         [This speech includes pages with many differen...   \n",
       "          1         We need to discover who is, and who isn't viol...   \n",
       "          2         Violence is black children going to school for...   \n",
       "          3         Violence is 30 million hungry stomachs in the ...   \n",
       "          4         Violence is having black people represent a di...   \n",
       "\n",
       "                                                            embedding  \\\n",
       "doc_index sent_num                                                      \n",
       "0         0         [-0.062395636, 0.0135172205, 0.045818355, -0.0...   \n",
       "          1         [-0.020895261, -0.008539446, 0.029561546, -0.0...   \n",
       "          2         [0.00194369, -0.006336346, 0.035046395, -0.005...   \n",
       "          3         [0.0031232794, -0.011578105, 0.041491807, -0.0...   \n",
       "          4         [-0.0017653363, 0.026803194, 0.014218208, -0.0...   \n",
       "\n",
       "                    embeddings_id  \n",
       "doc_index sent_num                 \n",
       "0         0                     0  \n",
       "          1                     1  \n",
       "          2                     2  \n",
       "          3                     3  \n",
       "          4                     4  "
      ]
     },
     "execution_count": 51,
     "metadata": {},
     "output_type": "execute_result"
    }
   ],
   "source": [
    "embeddings_id = np.arange(len(embeddings))\n",
    "sentences['embeddings_id'] = embeddings_id\n",
    "sentences.head()"
   ]
  },
  {
   "cell_type": "markdown",
   "id": "50809ddc-94e7-49b5-a50c-30f949f0dda4",
   "metadata": {},
   "source": [
    "I wonder if this might pose an issue for storage. Like, should I store the embeddings separately and just store the embedding index in the sentences dataframe? I think that's the best practice. We'll figure that one out."
   ]
  },
  {
   "cell_type": "code",
   "execution_count": 35,
   "id": "b5203db3-684e-4685-9358-7a25605103fe",
   "metadata": {},
   "outputs": [
    {
     "name": "stdout",
     "output_type": "stream",
     "text": [
      "Runtime: 10.838 seconds.\n"
     ]
    }
   ],
   "source": [
    "start = time.time()\n",
    "similarities = model.similarity(embeddings, embeddings)\n",
    "end = time.time()\n",
    "print(f'Runtime: {round(end-start, 3)} seconds.')"
   ]
  },
  {
   "cell_type": "code",
   "execution_count": 79,
   "id": "774a68ba-58e9-4196-9fce-817b938e523c",
   "metadata": {},
   "outputs": [],
   "source": [
    "indices = torch.nonzero(similarities >= 0.95)\n",
    "indices = indices.numpy()"
   ]
  },
  {
   "cell_type": "code",
   "execution_count": 81,
   "id": "50f886ca-449b-41f2-9ac0-4e0baee69019",
   "metadata": {},
   "outputs": [
    {
     "data": {
      "text/plain": [
       "197380"
      ]
     },
     "execution_count": 81,
     "metadata": {},
     "output_type": "execute_result"
    }
   ],
   "source": [
    "len(indices)"
   ]
  },
  {
   "cell_type": "code",
   "execution_count": 83,
   "id": "723c6573-b205-4f28-83ac-197836f453ef",
   "metadata": {},
   "outputs": [
    {
     "data": {
      "text/plain": [
       "array([[    1,     1],\n",
       "       [    1,  2569],\n",
       "       [    1,  2691],\n",
       "       [    1,  3562],\n",
       "       [    1, 11712],\n",
       "       [    1, 40059]], dtype=int64)"
      ]
     },
     "execution_count": 83,
     "metadata": {},
     "output_type": "execute_result"
    }
   ],
   "source": [
    "indices[indices[:,0] == 1]"
   ]
  },
  {
   "cell_type": "code",
   "execution_count": 85,
   "id": "ddb117ab-ecae-4ae4-954e-904cd677ea89",
   "metadata": {},
   "outputs": [
    {
     "data": {
      "text/plain": [
       "array([[    1,     1],\n",
       "       [ 2569,     1],\n",
       "       [ 2691,     1],\n",
       "       [ 3562,     1],\n",
       "       [11712,     1],\n",
       "       [40059,     1]], dtype=int64)"
      ]
     },
     "execution_count": 85,
     "metadata": {},
     "output_type": "execute_result"
    }
   ],
   "source": [
    "indices[indices[:,1] == 1]"
   ]
  },
  {
   "cell_type": "code",
   "execution_count": 100,
   "id": "669c4344-5eeb-4ddf-b96f-a041eab34fcb",
   "metadata": {},
   "outputs": [
    {
     "data": {
      "text/plain": [
       "[2569, 2691, 3562, 11712, 40059]"
      ]
     },
     "execution_count": 100,
     "metadata": {},
     "output_type": "execute_result"
    }
   ],
   "source": [
    "counter = []\n",
    "for i in indices[indices[:,0] == 1]:\n",
    "    counter.append(i[1])\n",
    "counter"
   ]
  },
  {
   "cell_type": "code",
   "execution_count": 87,
   "id": "d0043840-77ea-48ad-9f0b-6bb3abfd267b",
   "metadata": {},
   "outputs": [],
   "source": [
    "# so, I think I want to filter the indices so at the very least the comparisons between the same sentence are eliminated\n",
    "# I think I also want to filter out duplicate pairs, but less sure about that\n",
    "# but we'll write the code for it\n",
    "indices = indices[indices[:, 0] != indices[:, 1]]\n",
    "indices = indices[indices[:, 0] < indices[:, 1]]"
   ]
  },
  {
   "cell_type": "code",
   "execution_count": 89,
   "id": "cbc703f1-4220-47f4-8d4f-d39c6250d2ec",
   "metadata": {},
   "outputs": [
    {
     "data": {
      "text/plain": [
       "75765"
      ]
     },
     "execution_count": 89,
     "metadata": {},
     "output_type": "execute_result"
    }
   ],
   "source": [
    "len(indices)"
   ]
  },
  {
   "cell_type": "markdown",
   "id": "8e2df025-26ca-4ca6-b124-1abcb6dec006",
   "metadata": {},
   "source": [
    "Excellent! That eliminated a lot of duplicates and should make this next part easy. This is also just looking at Near Match language - paraphrasing will expand this a lot, I'm sure."
   ]
  },
  {
   "cell_type": "code",
   "execution_count": 91,
   "id": "18b8fa1c-f0e5-4191-b732-fd9e2bd98bec",
   "metadata": {},
   "outputs": [],
   "source": [
    "scores = similarities[indices[:, 0], indices[:, 1]].tolist()"
   ]
  },
  {
   "cell_type": "markdown",
   "id": "d450177b-67df-4c77-bddf-b83c4bc9299a",
   "metadata": {},
   "source": [
    "### Next Step: finding common sentences across the corpus\n",
    "\n",
    "Also, need to pull out examples that I can showcase. The final step will be doing a join between the sentences table and the documents table. This is not exactly third NF, so I don't really even know what to call it."
   ]
  },
  {
   "cell_type": "code",
   "execution_count": null,
   "id": "880941ae-495e-4659-984f-0c35a6b66a47",
   "metadata": {},
   "outputs": [],
   "source": [
    "for i in sentences.embeddings_id:\n",
    "    counter = 0\n",
    "    sims_list = []\n",
    "    temp_ind = indices[indices[:,0] == i]\n",
    "    for j in temp_ind:\n",
    "        counter += 1\n",
    "        sims_list.append(j[1])\n",
    "    "
   ]
  }
 ],
 "metadata": {
  "kernelspec": {
   "display_name": "Python 3 (ipykernel)",
   "language": "python",
   "name": "python3"
  },
  "language_info": {
   "codemirror_mode": {
    "name": "ipython",
    "version": 3
   },
   "file_extension": ".py",
   "mimetype": "text/x-python",
   "name": "python",
   "nbconvert_exporter": "python",
   "pygments_lexer": "ipython3",
   "version": "3.12.4"
  }
 },
 "nbformat": 4,
 "nbformat_minor": 5
}
