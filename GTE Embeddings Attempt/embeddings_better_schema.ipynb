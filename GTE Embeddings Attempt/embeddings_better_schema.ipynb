{
 "cells": [
  {
   "cell_type": "code",
   "execution_count": 1,
   "id": "dec6ec5c-bfb1-4d30-891f-fa4f2778bcae",
   "metadata": {},
   "outputs": [],
   "source": [
    "# necessary packages in full (for now, still building of course)\n",
    "\n",
    "import torch\n",
    "from sentence_transformers import SentenceTransformer\n",
    "import pandas as pd\n",
    "import numpy as np\n",
    "\n",
    "import nltk\n",
    "from nltk.tokenize import sent_tokenize\n",
    "# nltk.download('punkt')\n",
    "\n",
    "import re\n",
    "import itertools\n",
    "\n",
    "import os\n",
    "\n",
    "import time # just for my own information\n",
    "\n",
    "# this is just to get rid of an error message - something about how Windows caches the model I'm downloading from the internet\n",
    "os.environ[\"HF_HUB_DISABLE_SYMLINKS_WARNING\"] = \"1\""
   ]
  },
  {
   "cell_type": "code",
   "execution_count": 3,
   "id": "97defac2-b361-4db0-b1a3-820289c10dbb",
   "metadata": {},
   "outputs": [],
   "source": [
    "# instantiate global variables\n",
    "model = SentenceTransformer(\"thenlper/gte-small\")\n",
    "\n",
    "regex_year_str = r'(19|20)\\d{2}'\n",
    "\n",
    "# read in data\n",
    "documents = pd.read_csv('../document-catalog_extended.csv')\n",
    "documents = documents[documents['Workflow Stage'] == 'Early Access']\n",
    "documents.dropna(subset='Document Body', inplace=True)"
   ]
  },
  {
   "cell_type": "code",
   "execution_count": 5,
   "id": "ae0743ef-1a7e-4e21-8e4e-915764c71dd1",
   "metadata": {},
   "outputs": [],
   "source": [
    "documents.drop(['Box', 'Document Length', 'Workflow Stage', 'Image Filename', 'Image Identifier', 'Image URL'], axis=1, inplace=True)"
   ]
  },
  {
   "cell_type": "code",
   "execution_count": 7,
   "id": "bd6c4c77-a5b9-4b4e-aef1-106e1f6f71c7",
   "metadata": {},
   "outputs": [],
   "source": [
    "documents.reset_index(inplace=True)\n",
    "documents.drop('index', axis=1, inplace=True)"
   ]
  },
  {
   "cell_type": "code",
   "execution_count": 9,
   "id": "e34ad005-8bae-402c-84b1-90871ef06280",
   "metadata": {},
   "outputs": [
    {
     "data": {
      "text/html": [
       "<div>\n",
       "<style scoped>\n",
       "    .dataframe tbody tr th:only-of-type {\n",
       "        vertical-align: middle;\n",
       "    }\n",
       "\n",
       "    .dataframe tbody tr th {\n",
       "        vertical-align: top;\n",
       "    }\n",
       "\n",
       "    .dataframe thead th {\n",
       "        text-align: right;\n",
       "    }\n",
       "</style>\n",
       "<table border=\"1\" class=\"dataframe\">\n",
       "  <thead>\n",
       "    <tr style=\"text-align: right;\">\n",
       "      <th></th>\n",
       "      <th>ID</th>\n",
       "      <th>Title</th>\n",
       "      <th>Document Body</th>\n",
       "    </tr>\n",
       "  </thead>\n",
       "  <tbody>\n",
       "    <tr>\n",
       "      <th>0</th>\n",
       "      <td>670</td>\n",
       "      <td>Undated Speech concerning Conditions of Black ...</td>\n",
       "      <td>[This speech includes pages with many differen...</td>\n",
       "    </tr>\n",
       "    <tr>\n",
       "      <th>1</th>\n",
       "      <td>667</td>\n",
       "      <td>Speeches making observations about the recent ...</td>\n",
       "      <td>Now that the nation's voters — at least, 54% o...</td>\n",
       "    </tr>\n",
       "    <tr>\n",
       "      <th>2</th>\n",
       "      <td>666</td>\n",
       "      <td>Speeches making observations about the recent ...</td>\n",
       "      <td>Now that the nation's voters — at least, 54% o...</td>\n",
       "    </tr>\n",
       "    <tr>\n",
       "      <th>3</th>\n",
       "      <td>665</td>\n",
       "      <td>Speeches making observations about the recent ...</td>\n",
       "      <td>1\\nNow that the nations voters — at least, 54%...</td>\n",
       "    </tr>\n",
       "    <tr>\n",
       "      <th>4</th>\n",
       "      <td>663</td>\n",
       "      <td>Speech about the upcoming presidential electio...</td>\n",
       "      <td>The election approaching on November seventh i...</td>\n",
       "    </tr>\n",
       "  </tbody>\n",
       "</table>\n",
       "</div>"
      ],
      "text/plain": [
       "    ID                                              Title  \\\n",
       "0  670  Undated Speech concerning Conditions of Black ...   \n",
       "1  667  Speeches making observations about the recent ...   \n",
       "2  666  Speeches making observations about the recent ...   \n",
       "3  665  Speeches making observations about the recent ...   \n",
       "4  663  Speech about the upcoming presidential electio...   \n",
       "\n",
       "                                       Document Body  \n",
       "0  [This speech includes pages with many differen...  \n",
       "1  Now that the nation's voters — at least, 54% o...  \n",
       "2  Now that the nation's voters — at least, 54% o...  \n",
       "3  1\\nNow that the nations voters — at least, 54%...  \n",
       "4  The election approaching on November seventh i...  "
      ]
     },
     "execution_count": 9,
     "metadata": {},
     "output_type": "execute_result"
    }
   ],
   "source": [
    "documents.head()"
   ]
  },
  {
   "cell_type": "code",
   "execution_count": 11,
   "id": "cbbc2de0-9f73-4ccd-a691-0e3c59ce4402",
   "metadata": {},
   "outputs": [],
   "source": [
    "sentences = documents['Document Body']\\\n",
    "                .apply(lambda x: pd.Series([x for x in sent_tokenize(x) if len(x) >= 30], dtype='string'))\\\n",
    "                .stack()\\\n",
    "                .to_frame('sent_str')"
   ]
  },
  {
   "cell_type": "code",
   "execution_count": 13,
   "id": "316cdd75-2e8d-4f59-86ab-454696af8d82",
   "metadata": {},
   "outputs": [
    {
     "data": {
      "text/html": [
       "<div>\n",
       "<style scoped>\n",
       "    .dataframe tbody tr th:only-of-type {\n",
       "        vertical-align: middle;\n",
       "    }\n",
       "\n",
       "    .dataframe tbody tr th {\n",
       "        vertical-align: top;\n",
       "    }\n",
       "\n",
       "    .dataframe thead th {\n",
       "        text-align: right;\n",
       "    }\n",
       "</style>\n",
       "<table border=\"1\" class=\"dataframe\">\n",
       "  <thead>\n",
       "    <tr style=\"text-align: right;\">\n",
       "      <th></th>\n",
       "      <th>ID</th>\n",
       "      <th>Title</th>\n",
       "      <th>Document Body</th>\n",
       "    </tr>\n",
       "    <tr>\n",
       "      <th>index</th>\n",
       "      <th></th>\n",
       "      <th></th>\n",
       "      <th></th>\n",
       "    </tr>\n",
       "  </thead>\n",
       "  <tbody>\n",
       "    <tr>\n",
       "      <th>0</th>\n",
       "      <td>670</td>\n",
       "      <td>Undated Speech concerning Conditions of Black ...</td>\n",
       "      <td>[This speech includes pages with many differen...</td>\n",
       "    </tr>\n",
       "    <tr>\n",
       "      <th>1</th>\n",
       "      <td>667</td>\n",
       "      <td>Speeches making observations about the recent ...</td>\n",
       "      <td>Now that the nation's voters — at least, 54% o...</td>\n",
       "    </tr>\n",
       "    <tr>\n",
       "      <th>2</th>\n",
       "      <td>666</td>\n",
       "      <td>Speeches making observations about the recent ...</td>\n",
       "      <td>Now that the nation's voters — at least, 54% o...</td>\n",
       "    </tr>\n",
       "    <tr>\n",
       "      <th>3</th>\n",
       "      <td>665</td>\n",
       "      <td>Speeches making observations about the recent ...</td>\n",
       "      <td>1\\nNow that the nations voters — at least, 54%...</td>\n",
       "    </tr>\n",
       "    <tr>\n",
       "      <th>4</th>\n",
       "      <td>663</td>\n",
       "      <td>Speech about the upcoming presidential electio...</td>\n",
       "      <td>The election approaching on November seventh i...</td>\n",
       "    </tr>\n",
       "  </tbody>\n",
       "</table>\n",
       "</div>"
      ],
      "text/plain": [
       "        ID                                              Title  \\\n",
       "index                                                           \n",
       "0      670  Undated Speech concerning Conditions of Black ...   \n",
       "1      667  Speeches making observations about the recent ...   \n",
       "2      666  Speeches making observations about the recent ...   \n",
       "3      665  Speeches making observations about the recent ...   \n",
       "4      663  Speech about the upcoming presidential electio...   \n",
       "\n",
       "                                           Document Body  \n",
       "index                                                     \n",
       "0      [This speech includes pages with many differen...  \n",
       "1      Now that the nation's voters — at least, 54% o...  \n",
       "2      Now that the nation's voters — at least, 54% o...  \n",
       "3      1\\nNow that the nations voters — at least, 54%...  \n",
       "4      The election approaching on November seventh i...  "
      ]
     },
     "execution_count": 13,
     "metadata": {},
     "output_type": "execute_result"
    }
   ],
   "source": [
    "documents.index.name = \"index\"\n",
    "documents.head()"
   ]
  },
  {
   "cell_type": "code",
   "execution_count": 290,
   "id": "681f53c2-f806-48c5-880f-cbd132074c26",
   "metadata": {},
   "outputs": [
    {
     "data": {
      "text/plain": [
       "'Undated Speech concerning Conditions of Black People and Remedies of New Politics, 1969?'"
      ]
     },
     "execution_count": 290,
     "metadata": {},
     "output_type": "execute_result"
    }
   ],
   "source": [
    "documents.iloc[0,1]"
   ]
  },
  {
   "cell_type": "code",
   "execution_count": 302,
   "id": "6ac63c7f-579e-488f-9b25-75ced7794843",
   "metadata": {},
   "outputs": [],
   "source": [
    "years = []\n",
    "for i in range(len(documents)):\n",
    "    title = documents.iloc[i, 1]\n",
    "    date = re.search(regex_year_str, title)\n",
    "    if date:\n",
    "        year = date.group()\n",
    "        year = int(year)\n",
    "    else:\n",
    "        year = np.nan\n",
    "    years.append(year)"
   ]
  },
  {
   "cell_type": "code",
   "execution_count": 304,
   "id": "0cd95ed2-84ea-45f1-a2f1-8d3008b9bd74",
   "metadata": {},
   "outputs": [],
   "source": [
    "documents['Year'] = years"
   ]
  },
  {
   "cell_type": "code",
   "execution_count": 318,
   "id": "329718d2-f6bb-4028-b666-9d4e2312bea6",
   "metadata": {},
   "outputs": [],
   "source": [
    "documents['Year'] = documents['Year'].astype('Int64')"
   ]
  },
  {
   "cell_type": "code",
   "execution_count": 320,
   "id": "bc728163-63c2-4095-ac59-6c831b4010c3",
   "metadata": {},
   "outputs": [
    {
     "data": {
      "text/html": [
       "<div>\n",
       "<style scoped>\n",
       "    .dataframe tbody tr th:only-of-type {\n",
       "        vertical-align: middle;\n",
       "    }\n",
       "\n",
       "    .dataframe tbody tr th {\n",
       "        vertical-align: top;\n",
       "    }\n",
       "\n",
       "    .dataframe thead th {\n",
       "        text-align: right;\n",
       "    }\n",
       "</style>\n",
       "<table border=\"1\" class=\"dataframe\">\n",
       "  <thead>\n",
       "    <tr style=\"text-align: right;\">\n",
       "      <th></th>\n",
       "      <th>ID</th>\n",
       "      <th>Title</th>\n",
       "      <th>Document Body</th>\n",
       "      <th>Year</th>\n",
       "    </tr>\n",
       "    <tr>\n",
       "      <th>index</th>\n",
       "      <th></th>\n",
       "      <th></th>\n",
       "      <th></th>\n",
       "      <th></th>\n",
       "    </tr>\n",
       "  </thead>\n",
       "  <tbody>\n",
       "    <tr>\n",
       "      <th>0</th>\n",
       "      <td>670</td>\n",
       "      <td>Undated Speech concerning Conditions of Black ...</td>\n",
       "      <td>[This speech includes pages with many differen...</td>\n",
       "      <td>1969</td>\n",
       "    </tr>\n",
       "    <tr>\n",
       "      <th>1</th>\n",
       "      <td>667</td>\n",
       "      <td>Speeches making observations about the recent ...</td>\n",
       "      <td>Now that the nation's voters — at least, 54% o...</td>\n",
       "      <td>1972</td>\n",
       "    </tr>\n",
       "    <tr>\n",
       "      <th>2</th>\n",
       "      <td>666</td>\n",
       "      <td>Speeches making observations about the recent ...</td>\n",
       "      <td>Now that the nation's voters — at least, 54% o...</td>\n",
       "      <td>1972</td>\n",
       "    </tr>\n",
       "    <tr>\n",
       "      <th>3</th>\n",
       "      <td>665</td>\n",
       "      <td>Speeches making observations about the recent ...</td>\n",
       "      <td>1\\nNow that the nations voters — at least, 54%...</td>\n",
       "      <td>1972</td>\n",
       "    </tr>\n",
       "    <tr>\n",
       "      <th>4</th>\n",
       "      <td>663</td>\n",
       "      <td>Speech about the upcoming presidential electio...</td>\n",
       "      <td>The election approaching on November seventh i...</td>\n",
       "      <td>1972</td>\n",
       "    </tr>\n",
       "    <tr>\n",
       "      <th>...</th>\n",
       "      <td>...</td>\n",
       "      <td>...</td>\n",
       "      <td>...</td>\n",
       "      <td>...</td>\n",
       "    </tr>\n",
       "    <tr>\n",
       "      <th>352</th>\n",
       "      <td>83</td>\n",
       "      <td>Speech concerning black bankers and businesses...</td>\n",
       "      <td>Before I begin, let me tell you my financial q...</td>\n",
       "      <td>1972</td>\n",
       "    </tr>\n",
       "    <tr>\n",
       "      <th>353</th>\n",
       "      <td>84</td>\n",
       "      <td>Speech concerning challenges facing the Americ...</td>\n",
       "      <td>Now that the nation has changed had a change o...</td>\n",
       "      <td>1972</td>\n",
       "    </tr>\n",
       "    <tr>\n",
       "      <th>354</th>\n",
       "      <td>85</td>\n",
       "      <td>Speech from the Alabama Voter Education Projec...</td>\n",
       "      <td>Thank you a great deal. As John Lewis has told...</td>\n",
       "      <td>1972</td>\n",
       "    </tr>\n",
       "    <tr>\n",
       "      <th>355</th>\n",
       "      <td>86</td>\n",
       "      <td>Speech at Press Conference in Washington conce...</td>\n",
       "      <td>[Handwritten.]\\none the point of today's conce...</td>\n",
       "      <td>1973</td>\n",
       "    </tr>\n",
       "    <tr>\n",
       "      <th>356</th>\n",
       "      <td>88</td>\n",
       "      <td>Speech on the health of the United States educ...</td>\n",
       "      <td>Insert x [Handwritten pages contain the conten...</td>\n",
       "      <td>1973</td>\n",
       "    </tr>\n",
       "  </tbody>\n",
       "</table>\n",
       "<p>357 rows × 4 columns</p>\n",
       "</div>"
      ],
      "text/plain": [
       "        ID                                              Title  \\\n",
       "index                                                           \n",
       "0      670  Undated Speech concerning Conditions of Black ...   \n",
       "1      667  Speeches making observations about the recent ...   \n",
       "2      666  Speeches making observations about the recent ...   \n",
       "3      665  Speeches making observations about the recent ...   \n",
       "4      663  Speech about the upcoming presidential electio...   \n",
       "...    ...                                                ...   \n",
       "352     83  Speech concerning black bankers and businesses...   \n",
       "353     84  Speech concerning challenges facing the Americ...   \n",
       "354     85  Speech from the Alabama Voter Education Projec...   \n",
       "355     86  Speech at Press Conference in Washington conce...   \n",
       "356     88  Speech on the health of the United States educ...   \n",
       "\n",
       "                                           Document Body  Year  \n",
       "index                                                           \n",
       "0      [This speech includes pages with many differen...  1969  \n",
       "1      Now that the nation's voters — at least, 54% o...  1972  \n",
       "2      Now that the nation's voters — at least, 54% o...  1972  \n",
       "3      1\\nNow that the nations voters — at least, 54%...  1972  \n",
       "4      The election approaching on November seventh i...  1972  \n",
       "...                                                  ...   ...  \n",
       "352    Before I begin, let me tell you my financial q...  1972  \n",
       "353    Now that the nation has changed had a change o...  1972  \n",
       "354    Thank you a great deal. As John Lewis has told...  1972  \n",
       "355    [Handwritten.]\\none the point of today's conce...  1973  \n",
       "356    Insert x [Handwritten pages contain the conten...  1973  \n",
       "\n",
       "[357 rows x 4 columns]"
      ]
     },
     "execution_count": 320,
     "metadata": {},
     "output_type": "execute_result"
    }
   ],
   "source": [
    "documents"
   ]
  },
  {
   "cell_type": "code",
   "execution_count": 15,
   "id": "6ecdcfd0-77e4-4b58-bf9a-303b4d22af30",
   "metadata": {},
   "outputs": [
    {
     "data": {
      "text/html": [
       "<div>\n",
       "<style scoped>\n",
       "    .dataframe tbody tr th:only-of-type {\n",
       "        vertical-align: middle;\n",
       "    }\n",
       "\n",
       "    .dataframe tbody tr th {\n",
       "        vertical-align: top;\n",
       "    }\n",
       "\n",
       "    .dataframe thead th {\n",
       "        text-align: right;\n",
       "    }\n",
       "</style>\n",
       "<table border=\"1\" class=\"dataframe\">\n",
       "  <thead>\n",
       "    <tr style=\"text-align: right;\">\n",
       "      <th></th>\n",
       "      <th></th>\n",
       "      <th>sent_str</th>\n",
       "    </tr>\n",
       "  </thead>\n",
       "  <tbody>\n",
       "    <tr>\n",
       "      <th rowspan=\"5\" valign=\"top\">0</th>\n",
       "      <th>0</th>\n",
       "      <td>[This speech includes pages with many differen...</td>\n",
       "    </tr>\n",
       "    <tr>\n",
       "      <th>1</th>\n",
       "      <td>We need to discover who is, and who isn't viol...</td>\n",
       "    </tr>\n",
       "    <tr>\n",
       "      <th>2</th>\n",
       "      <td>Violence is black children going to school for...</td>\n",
       "    </tr>\n",
       "    <tr>\n",
       "      <th>3</th>\n",
       "      <td>Violence is 30 million hungry stomachs in the ...</td>\n",
       "    </tr>\n",
       "    <tr>\n",
       "      <th>4</th>\n",
       "      <td>Violence is having black people represent a di...</td>\n",
       "    </tr>\n",
       "  </tbody>\n",
       "</table>\n",
       "</div>"
      ],
      "text/plain": [
       "                                              sent_str\n",
       "0 0  [This speech includes pages with many differen...\n",
       "  1  We need to discover who is, and who isn't viol...\n",
       "  2  Violence is black children going to school for...\n",
       "  3  Violence is 30 million hungry stomachs in the ...\n",
       "  4  Violence is having black people represent a di..."
      ]
     },
     "execution_count": 15,
     "metadata": {},
     "output_type": "execute_result"
    }
   ],
   "source": [
    "sentences.head()"
   ]
  },
  {
   "cell_type": "code",
   "execution_count": 17,
   "id": "8c069701-9d73-44a4-81c6-36bd48b96612",
   "metadata": {},
   "outputs": [],
   "source": [
    "sentences = sentences.rename_axis(index = ['doc_index', 'sent_num'])"
   ]
  },
  {
   "cell_type": "code",
   "execution_count": 19,
   "id": "50cb5897-c3cc-4d81-8403-b091bef9d22d",
   "metadata": {},
   "outputs": [
    {
     "data": {
      "text/html": [
       "<div>\n",
       "<style scoped>\n",
       "    .dataframe tbody tr th:only-of-type {\n",
       "        vertical-align: middle;\n",
       "    }\n",
       "\n",
       "    .dataframe tbody tr th {\n",
       "        vertical-align: top;\n",
       "    }\n",
       "\n",
       "    .dataframe thead th {\n",
       "        text-align: right;\n",
       "    }\n",
       "</style>\n",
       "<table border=\"1\" class=\"dataframe\">\n",
       "  <thead>\n",
       "    <tr style=\"text-align: right;\">\n",
       "      <th></th>\n",
       "      <th></th>\n",
       "      <th>sent_str</th>\n",
       "    </tr>\n",
       "    <tr>\n",
       "      <th>doc_index</th>\n",
       "      <th>sent_num</th>\n",
       "      <th></th>\n",
       "    </tr>\n",
       "  </thead>\n",
       "  <tbody>\n",
       "    <tr>\n",
       "      <th rowspan=\"5\" valign=\"top\">0</th>\n",
       "      <th>0</th>\n",
       "      <td>[This speech includes pages with many differen...</td>\n",
       "    </tr>\n",
       "    <tr>\n",
       "      <th>1</th>\n",
       "      <td>We need to discover who is, and who isn't viol...</td>\n",
       "    </tr>\n",
       "    <tr>\n",
       "      <th>2</th>\n",
       "      <td>Violence is black children going to school for...</td>\n",
       "    </tr>\n",
       "    <tr>\n",
       "      <th>3</th>\n",
       "      <td>Violence is 30 million hungry stomachs in the ...</td>\n",
       "    </tr>\n",
       "    <tr>\n",
       "      <th>4</th>\n",
       "      <td>Violence is having black people represent a di...</td>\n",
       "    </tr>\n",
       "  </tbody>\n",
       "</table>\n",
       "</div>"
      ],
      "text/plain": [
       "                                                             sent_str\n",
       "doc_index sent_num                                                   \n",
       "0         0         [This speech includes pages with many differen...\n",
       "          1         We need to discover who is, and who isn't viol...\n",
       "          2         Violence is black children going to school for...\n",
       "          3         Violence is 30 million hungry stomachs in the ...\n",
       "          4         Violence is having black people represent a di..."
      ]
     },
     "execution_count": 19,
     "metadata": {},
     "output_type": "execute_result"
    }
   ],
   "source": [
    "sentences.head()"
   ]
  },
  {
   "cell_type": "code",
   "execution_count": 21,
   "id": "d8b851c7-6512-42d9-b912-a7a84a09de34",
   "metadata": {},
   "outputs": [
    {
     "name": "stdout",
     "output_type": "stream",
     "text": [
      "<class 'pandas.core.series.Series'>\n"
     ]
    }
   ],
   "source": [
    "print(type(sentences['sent_str']))"
   ]
  },
  {
   "cell_type": "code",
   "execution_count": 27,
   "id": "7e0d59d4-133f-4f5e-8aa4-9636554663b0",
   "metadata": {},
   "outputs": [
    {
     "name": "stdout",
     "output_type": "stream",
     "text": [
      "Runtime: -385.645 seconds\n"
     ]
    }
   ],
   "source": [
    "start = time.time()\n",
    "embeddings = model.encode(sentences['sent_str'].reset_index(drop=True))\n",
    "end = time.time()\n",
    "print(f'Runtime: {round(end-start, 3)} seconds')"
   ]
  },
  {
   "cell_type": "markdown",
   "id": "376d6ec3-af8e-409a-a37a-49ec9f0e8f58",
   "metadata": {},
   "source": [
    "Creating the embeddings seems to take a little over six minutes, which is not too bad but not necessarily scalable to the entire corpus. But for speeches, this is viable. When Lucian discussed this framework, he did say that it took a very long time to generate these embeddings. I definitely want to store these somehow so I don't have to re-do this step every time."
   ]
  },
  {
   "cell_type": "code",
   "execution_count": 30,
   "id": "b6ad766d-a5e1-436d-ad0c-228e2e9104e0",
   "metadata": {},
   "outputs": [],
   "source": [
    "sentences['embedding'] = list(embeddings)"
   ]
  },
  {
   "cell_type": "code",
   "execution_count": 32,
   "id": "0de5ffd3-c061-4528-9b5a-7ab2f25394fe",
   "metadata": {},
   "outputs": [
    {
     "data": {
      "text/html": [
       "<div>\n",
       "<style scoped>\n",
       "    .dataframe tbody tr th:only-of-type {\n",
       "        vertical-align: middle;\n",
       "    }\n",
       "\n",
       "    .dataframe tbody tr th {\n",
       "        vertical-align: top;\n",
       "    }\n",
       "\n",
       "    .dataframe thead th {\n",
       "        text-align: right;\n",
       "    }\n",
       "</style>\n",
       "<table border=\"1\" class=\"dataframe\">\n",
       "  <thead>\n",
       "    <tr style=\"text-align: right;\">\n",
       "      <th></th>\n",
       "      <th></th>\n",
       "      <th>sent_str</th>\n",
       "      <th>embedding</th>\n",
       "    </tr>\n",
       "    <tr>\n",
       "      <th>doc_index</th>\n",
       "      <th>sent_num</th>\n",
       "      <th></th>\n",
       "      <th></th>\n",
       "    </tr>\n",
       "  </thead>\n",
       "  <tbody>\n",
       "    <tr>\n",
       "      <th rowspan=\"5\" valign=\"top\">0</th>\n",
       "      <th>0</th>\n",
       "      <td>[This speech includes pages with many differen...</td>\n",
       "      <td>[-0.062395636, 0.0135172205, 0.045818355, -0.0...</td>\n",
       "    </tr>\n",
       "    <tr>\n",
       "      <th>1</th>\n",
       "      <td>We need to discover who is, and who isn't viol...</td>\n",
       "      <td>[-0.020895261, -0.008539446, 0.029561546, -0.0...</td>\n",
       "    </tr>\n",
       "    <tr>\n",
       "      <th>2</th>\n",
       "      <td>Violence is black children going to school for...</td>\n",
       "      <td>[0.00194369, -0.006336346, 0.035046395, -0.005...</td>\n",
       "    </tr>\n",
       "    <tr>\n",
       "      <th>3</th>\n",
       "      <td>Violence is 30 million hungry stomachs in the ...</td>\n",
       "      <td>[0.0031232794, -0.011578105, 0.041491807, -0.0...</td>\n",
       "    </tr>\n",
       "    <tr>\n",
       "      <th>4</th>\n",
       "      <td>Violence is having black people represent a di...</td>\n",
       "      <td>[-0.0017653363, 0.026803194, 0.014218208, -0.0...</td>\n",
       "    </tr>\n",
       "  </tbody>\n",
       "</table>\n",
       "</div>"
      ],
      "text/plain": [
       "                                                             sent_str  \\\n",
       "doc_index sent_num                                                      \n",
       "0         0         [This speech includes pages with many differen...   \n",
       "          1         We need to discover who is, and who isn't viol...   \n",
       "          2         Violence is black children going to school for...   \n",
       "          3         Violence is 30 million hungry stomachs in the ...   \n",
       "          4         Violence is having black people represent a di...   \n",
       "\n",
       "                                                            embedding  \n",
       "doc_index sent_num                                                     \n",
       "0         0         [-0.062395636, 0.0135172205, 0.045818355, -0.0...  \n",
       "          1         [-0.020895261, -0.008539446, 0.029561546, -0.0...  \n",
       "          2         [0.00194369, -0.006336346, 0.035046395, -0.005...  \n",
       "          3         [0.0031232794, -0.011578105, 0.041491807, -0.0...  \n",
       "          4         [-0.0017653363, 0.026803194, 0.014218208, -0.0...  "
      ]
     },
     "execution_count": 32,
     "metadata": {},
     "output_type": "execute_result"
    }
   ],
   "source": [
    "sentences.head()"
   ]
  },
  {
   "cell_type": "code",
   "execution_count": 43,
   "id": "1504d8a5-ab73-47b1-82a7-2dceb474843e",
   "metadata": {},
   "outputs": [
    {
     "data": {
      "text/plain": [
       "45850"
      ]
     },
     "execution_count": 43,
     "metadata": {},
     "output_type": "execute_result"
    }
   ],
   "source": [
    "len(embeddings)"
   ]
  },
  {
   "cell_type": "code",
   "execution_count": 45,
   "id": "3837edd8-860e-4067-bb09-c35db581e59c",
   "metadata": {},
   "outputs": [
    {
     "data": {
      "text/plain": [
       "45850"
      ]
     },
     "execution_count": 45,
     "metadata": {},
     "output_type": "execute_result"
    }
   ],
   "source": [
    "len(sentences.sent_str)"
   ]
  },
  {
   "cell_type": "code",
   "execution_count": 51,
   "id": "9033b66c-b909-4462-a617-1a568e2f9150",
   "metadata": {},
   "outputs": [
    {
     "data": {
      "text/html": [
       "<div>\n",
       "<style scoped>\n",
       "    .dataframe tbody tr th:only-of-type {\n",
       "        vertical-align: middle;\n",
       "    }\n",
       "\n",
       "    .dataframe tbody tr th {\n",
       "        vertical-align: top;\n",
       "    }\n",
       "\n",
       "    .dataframe thead th {\n",
       "        text-align: right;\n",
       "    }\n",
       "</style>\n",
       "<table border=\"1\" class=\"dataframe\">\n",
       "  <thead>\n",
       "    <tr style=\"text-align: right;\">\n",
       "      <th></th>\n",
       "      <th></th>\n",
       "      <th>sent_str</th>\n",
       "      <th>embedding</th>\n",
       "      <th>embeddings_id</th>\n",
       "    </tr>\n",
       "    <tr>\n",
       "      <th>doc_index</th>\n",
       "      <th>sent_num</th>\n",
       "      <th></th>\n",
       "      <th></th>\n",
       "      <th></th>\n",
       "    </tr>\n",
       "  </thead>\n",
       "  <tbody>\n",
       "    <tr>\n",
       "      <th rowspan=\"5\" valign=\"top\">0</th>\n",
       "      <th>0</th>\n",
       "      <td>[This speech includes pages with many differen...</td>\n",
       "      <td>[-0.062395636, 0.0135172205, 0.045818355, -0.0...</td>\n",
       "      <td>0</td>\n",
       "    </tr>\n",
       "    <tr>\n",
       "      <th>1</th>\n",
       "      <td>We need to discover who is, and who isn't viol...</td>\n",
       "      <td>[-0.020895261, -0.008539446, 0.029561546, -0.0...</td>\n",
       "      <td>1</td>\n",
       "    </tr>\n",
       "    <tr>\n",
       "      <th>2</th>\n",
       "      <td>Violence is black children going to school for...</td>\n",
       "      <td>[0.00194369, -0.006336346, 0.035046395, -0.005...</td>\n",
       "      <td>2</td>\n",
       "    </tr>\n",
       "    <tr>\n",
       "      <th>3</th>\n",
       "      <td>Violence is 30 million hungry stomachs in the ...</td>\n",
       "      <td>[0.0031232794, -0.011578105, 0.041491807, -0.0...</td>\n",
       "      <td>3</td>\n",
       "    </tr>\n",
       "    <tr>\n",
       "      <th>4</th>\n",
       "      <td>Violence is having black people represent a di...</td>\n",
       "      <td>[-0.0017653363, 0.026803194, 0.014218208, -0.0...</td>\n",
       "      <td>4</td>\n",
       "    </tr>\n",
       "  </tbody>\n",
       "</table>\n",
       "</div>"
      ],
      "text/plain": [
       "                                                             sent_str  \\\n",
       "doc_index sent_num                                                      \n",
       "0         0         [This speech includes pages with many differen...   \n",
       "          1         We need to discover who is, and who isn't viol...   \n",
       "          2         Violence is black children going to school for...   \n",
       "          3         Violence is 30 million hungry stomachs in the ...   \n",
       "          4         Violence is having black people represent a di...   \n",
       "\n",
       "                                                            embedding  \\\n",
       "doc_index sent_num                                                      \n",
       "0         0         [-0.062395636, 0.0135172205, 0.045818355, -0.0...   \n",
       "          1         [-0.020895261, -0.008539446, 0.029561546, -0.0...   \n",
       "          2         [0.00194369, -0.006336346, 0.035046395, -0.005...   \n",
       "          3         [0.0031232794, -0.011578105, 0.041491807, -0.0...   \n",
       "          4         [-0.0017653363, 0.026803194, 0.014218208, -0.0...   \n",
       "\n",
       "                    embeddings_id  \n",
       "doc_index sent_num                 \n",
       "0         0                     0  \n",
       "          1                     1  \n",
       "          2                     2  \n",
       "          3                     3  \n",
       "          4                     4  "
      ]
     },
     "execution_count": 51,
     "metadata": {},
     "output_type": "execute_result"
    }
   ],
   "source": [
    "embeddings_id = np.arange(len(embeddings))\n",
    "sentences['embeddings_id'] = embeddings_id\n",
    "sentences.head()"
   ]
  },
  {
   "cell_type": "markdown",
   "id": "50809ddc-94e7-49b5-a50c-30f949f0dda4",
   "metadata": {},
   "source": [
    "I wonder if this might pose an issue for storage. Like, should I store the embeddings separately and just store the embedding index in the sentences dataframe? I think that's the best practice. We'll figure that one out."
   ]
  },
  {
   "cell_type": "code",
   "execution_count": 35,
   "id": "b5203db3-684e-4685-9358-7a25605103fe",
   "metadata": {},
   "outputs": [
    {
     "name": "stdout",
     "output_type": "stream",
     "text": [
      "Runtime: 10.838 seconds.\n"
     ]
    }
   ],
   "source": [
    "start = time.time()\n",
    "similarities = model.similarity(embeddings, embeddings)\n",
    "end = time.time()\n",
    "print(f'Runtime: {round(end-start, 3)} seconds.')"
   ]
  },
  {
   "cell_type": "code",
   "execution_count": 79,
   "id": "774a68ba-58e9-4196-9fce-817b938e523c",
   "metadata": {},
   "outputs": [],
   "source": [
    "indices = torch.nonzero(similarities >= 0.95)\n",
    "indices = indices.numpy()"
   ]
  },
  {
   "cell_type": "code",
   "execution_count": 81,
   "id": "50f886ca-449b-41f2-9ac0-4e0baee69019",
   "metadata": {},
   "outputs": [
    {
     "data": {
      "text/plain": [
       "197380"
      ]
     },
     "execution_count": 81,
     "metadata": {},
     "output_type": "execute_result"
    }
   ],
   "source": [
    "len(indices)"
   ]
  },
  {
   "cell_type": "code",
   "execution_count": 83,
   "id": "723c6573-b205-4f28-83ac-197836f453ef",
   "metadata": {},
   "outputs": [
    {
     "data": {
      "text/plain": [
       "array([[    1,     1],\n",
       "       [    1,  2569],\n",
       "       [    1,  2691],\n",
       "       [    1,  3562],\n",
       "       [    1, 11712],\n",
       "       [    1, 40059]], dtype=int64)"
      ]
     },
     "execution_count": 83,
     "metadata": {},
     "output_type": "execute_result"
    }
   ],
   "source": [
    "indices[indices[:,0] == 1]"
   ]
  },
  {
   "cell_type": "code",
   "execution_count": 85,
   "id": "ddb117ab-ecae-4ae4-954e-904cd677ea89",
   "metadata": {},
   "outputs": [
    {
     "data": {
      "text/plain": [
       "array([[    1,     1],\n",
       "       [ 2569,     1],\n",
       "       [ 2691,     1],\n",
       "       [ 3562,     1],\n",
       "       [11712,     1],\n",
       "       [40059,     1]], dtype=int64)"
      ]
     },
     "execution_count": 85,
     "metadata": {},
     "output_type": "execute_result"
    }
   ],
   "source": [
    "indices[indices[:,1] == 1]"
   ]
  },
  {
   "cell_type": "code",
   "execution_count": 113,
   "id": "669c4344-5eeb-4ddf-b96f-a041eab34fcb",
   "metadata": {},
   "outputs": [
    {
     "data": {
      "text/plain": [
       "[2569, 2691, 3562, 11712, 40059]"
      ]
     },
     "execution_count": 113,
     "metadata": {},
     "output_type": "execute_result"
    }
   ],
   "source": [
    "counter = []\n",
    "for i in indices[indices[:,0] == 1]:\n",
    "    counter.append(i[1])\n",
    "counter"
   ]
  },
  {
   "cell_type": "code",
   "execution_count": 87,
   "id": "d0043840-77ea-48ad-9f0b-6bb3abfd267b",
   "metadata": {},
   "outputs": [],
   "source": [
    "# so, I think I want to filter the indices so at the very least the comparisons between the same sentence are eliminated\n",
    "# I think I also want to filter out duplicate pairs, but less sure about that\n",
    "# but we'll write the code for it\n",
    "indices = indices[indices[:, 0] != indices[:, 1]]\n",
    "indices = indices[indices[:, 0] < indices[:, 1]]"
   ]
  },
  {
   "cell_type": "code",
   "execution_count": 89,
   "id": "cbc703f1-4220-47f4-8d4f-d39c6250d2ec",
   "metadata": {},
   "outputs": [
    {
     "data": {
      "text/plain": [
       "75765"
      ]
     },
     "execution_count": 89,
     "metadata": {},
     "output_type": "execute_result"
    }
   ],
   "source": [
    "len(indices)"
   ]
  },
  {
   "cell_type": "markdown",
   "id": "8e2df025-26ca-4ca6-b124-1abcb6dec006",
   "metadata": {},
   "source": [
    "Excellent! That eliminated a lot of duplicates and should make this next part easy. This is also just looking at Near Match language - paraphrasing will expand this a lot, I'm sure."
   ]
  },
  {
   "cell_type": "code",
   "execution_count": 91,
   "id": "18b8fa1c-f0e5-4191-b732-fd9e2bd98bec",
   "metadata": {},
   "outputs": [],
   "source": [
    "scores = similarities[indices[:, 0], indices[:, 1]].tolist()"
   ]
  },
  {
   "cell_type": "code",
   "execution_count": 104,
   "id": "fa1cb78f-f0ae-4657-972a-93c4de096e83",
   "metadata": {},
   "outputs": [
    {
     "data": {
      "text/plain": [
       "[0.9655367732048035,\n",
       " 0.975104808807373,\n",
       " 0.975104808807373,\n",
       " 0.9957187175750732,\n",
       " 0.9561127424240112,\n",
       " 0.9923681020736694,\n",
       " 0.9979069828987122,\n",
       " 0.9979069828987122,\n",
       " 0.995079517364502,\n",
       " 1.0]"
      ]
     },
     "execution_count": 104,
     "metadata": {},
     "output_type": "execute_result"
    }
   ],
   "source": [
    "scores[:10]"
   ]
  },
  {
   "cell_type": "markdown",
   "id": "d450177b-67df-4c77-bddf-b83c4bc9299a",
   "metadata": {},
   "source": [
    "### Next Step: finding common sentences across the corpus\n",
    "\n",
    "Also, need to pull out examples that I can showcase. The final step will be doing a join between the sentences table and the documents table. This is not exactly third NF, so I don't really even know what to call it."
   ]
  },
  {
   "cell_type": "code",
   "execution_count": 117,
   "id": "880941ae-495e-4659-984f-0c35a6b66a47",
   "metadata": {},
   "outputs": [
    {
     "name": "stdout",
     "output_type": "stream",
     "text": [
      "Runtime: 5.751 seconds.\n"
     ]
    }
   ],
   "source": [
    "# let's make a copy so I don't mess anything up\n",
    "\n",
    "matches_counter = []\n",
    "matches_indices = []\n",
    "\n",
    "start = time.time()\n",
    "for i in sentences.embeddings_id:\n",
    "    counter = 0\n",
    "    nm_list = []\n",
    "    temp_ind = indices[indices[:,0] == i]\n",
    "    for j in temp_ind:\n",
    "        counter += 1\n",
    "        nm_list.append(j[1])\n",
    "    matches_counter.append(counter)\n",
    "    matches_indices.append(nm_list)\n",
    "end = time.time()\n",
    "print(f'Runtime: {round(end-start, 3)} seconds.')"
   ]
  },
  {
   "cell_type": "code",
   "execution_count": 121,
   "id": "29e088e2-4f3b-4c73-a024-bda26dc89145",
   "metadata": {},
   "outputs": [
    {
     "data": {
      "text/plain": [
       "45850"
      ]
     },
     "execution_count": 121,
     "metadata": {},
     "output_type": "execute_result"
    }
   ],
   "source": [
    "len(matches_counter)"
   ]
  },
  {
   "cell_type": "code",
   "execution_count": 123,
   "id": "4a804ffd-717d-41d0-8682-36fd13dc8ad3",
   "metadata": {},
   "outputs": [
    {
     "data": {
      "text/plain": [
       "45850"
      ]
     },
     "execution_count": 123,
     "metadata": {},
     "output_type": "execute_result"
    }
   ],
   "source": [
    "len(matches_indices)"
   ]
  },
  {
   "cell_type": "code",
   "execution_count": 125,
   "id": "91f5f619-855d-489d-b1f6-8d13afc14b96",
   "metadata": {},
   "outputs": [],
   "source": [
    "sentences['matches_counter'] = matches_counter\n",
    "sentences['matches_indices'] = matches_indices"
   ]
  },
  {
   "cell_type": "code",
   "execution_count": 131,
   "id": "946b3ef5-d9d5-4532-bd5e-0a6839afcb92",
   "metadata": {},
   "outputs": [
    {
     "data": {
      "text/html": [
       "<div>\n",
       "<style scoped>\n",
       "    .dataframe tbody tr th:only-of-type {\n",
       "        vertical-align: middle;\n",
       "    }\n",
       "\n",
       "    .dataframe tbody tr th {\n",
       "        vertical-align: top;\n",
       "    }\n",
       "\n",
       "    .dataframe thead th {\n",
       "        text-align: right;\n",
       "    }\n",
       "</style>\n",
       "<table border=\"1\" class=\"dataframe\">\n",
       "  <thead>\n",
       "    <tr style=\"text-align: right;\">\n",
       "      <th></th>\n",
       "      <th></th>\n",
       "      <th>sent_str</th>\n",
       "      <th>embedding</th>\n",
       "      <th>embeddings_id</th>\n",
       "      <th>matches_counter</th>\n",
       "      <th>matches_indices</th>\n",
       "    </tr>\n",
       "    <tr>\n",
       "      <th>doc_index</th>\n",
       "      <th>sent_num</th>\n",
       "      <th></th>\n",
       "      <th></th>\n",
       "      <th></th>\n",
       "      <th></th>\n",
       "      <th></th>\n",
       "    </tr>\n",
       "  </thead>\n",
       "  <tbody>\n",
       "    <tr>\n",
       "      <th rowspan=\"3\" valign=\"top\">37</th>\n",
       "      <th>41</th>\n",
       "      <td>[Two handwritten X marks appear in the right m...</td>\n",
       "      <td>[-0.06447188, -0.011960898, 0.049505513, -0.00...</td>\n",
       "      <td>4170</td>\n",
       "      <td>57</td>\n",
       "      <td>[4270, 4285, 4331, 4431, 4515, 4563, 4569, 463...</td>\n",
       "    </tr>\n",
       "    <tr>\n",
       "      <th>141</th>\n",
       "      <td>[A handwritten X mark appears in the right mar...</td>\n",
       "      <td>[-0.0653786, -0.010280782, 0.045581914, -0.008...</td>\n",
       "      <td>4270</td>\n",
       "      <td>55</td>\n",
       "      <td>[4285, 4331, 4431, 4515, 4563, 4569, 4639, 472...</td>\n",
       "    </tr>\n",
       "    <tr>\n",
       "      <th>27</th>\n",
       "      <td>[A handwritten X mark appears in the right mar...</td>\n",
       "      <td>[-0.074868046, -0.007574868, 0.04765481, -0.00...</td>\n",
       "      <td>4156</td>\n",
       "      <td>54</td>\n",
       "      <td>[4170, 4270, 4285, 4331, 4431, 4515, 4563, 456...</td>\n",
       "    </tr>\n",
       "    <tr>\n",
       "      <th>38</th>\n",
       "      <th>126</th>\n",
       "      <td>[Two handwritten X marks appear in the right m...</td>\n",
       "      <td>[-0.06447186, -0.011960899, 0.0495055, -0.0057...</td>\n",
       "      <td>4431</td>\n",
       "      <td>53</td>\n",
       "      <td>[4515, 4563, 4569, 4639, 4725, 4752, 4782, 479...</td>\n",
       "    </tr>\n",
       "    <tr>\n",
       "      <th>37</th>\n",
       "      <th>156</th>\n",
       "      <td>[Two handwritten X marks appear in the right m...</td>\n",
       "      <td>[-0.06612751, -0.00894151, 0.048094306, -0.004...</td>\n",
       "      <td>4285</td>\n",
       "      <td>53</td>\n",
       "      <td>[4331, 4431, 4515, 4563, 4569, 4639, 4725, 475...</td>\n",
       "    </tr>\n",
       "    <tr>\n",
       "      <th>35</th>\n",
       "      <th>42</th>\n",
       "      <td>[A handwritten X mark appears in the right mar...</td>\n",
       "      <td>[-0.07267322, -0.013454423, 0.056170903, -0.00...</td>\n",
       "      <td>3822</td>\n",
       "      <td>51</td>\n",
       "      <td>[4156, 4170, 4270, 4285, 4331, 4431, 4515, 456...</td>\n",
       "    </tr>\n",
       "    <tr>\n",
       "      <th rowspan=\"4\" valign=\"top\">38</th>\n",
       "      <th>210</th>\n",
       "      <td>[A handwritten X mark appears in the right mar...</td>\n",
       "      <td>[-0.074868046, -0.007574868, 0.04765481, -0.00...</td>\n",
       "      <td>4515</td>\n",
       "      <td>48</td>\n",
       "      <td>[4563, 4569, 4639, 4725, 4752, 4782, 4798, 480...</td>\n",
       "    </tr>\n",
       "    <tr>\n",
       "      <th>26</th>\n",
       "      <td>[A handwritten X appears in the right margin, ...</td>\n",
       "      <td>[-0.06757779, -0.010094775, 0.0584954, -0.0139...</td>\n",
       "      <td>4331</td>\n",
       "      <td>48</td>\n",
       "      <td>[4431, 4515, 4563, 4569, 4639, 4725, 4752, 478...</td>\n",
       "    </tr>\n",
       "    <tr>\n",
       "      <th>258</th>\n",
       "      <td>[A handwritten X mark appears in the right mar...</td>\n",
       "      <td>[-0.07486805, -0.0075748595, 0.047654834, -0.0...</td>\n",
       "      <td>4563</td>\n",
       "      <td>47</td>\n",
       "      <td>[4569, 4639, 4725, 4752, 4782, 4798, 4807, 594...</td>\n",
       "    </tr>\n",
       "    <tr>\n",
       "      <th>264</th>\n",
       "      <td>[A handwritten X mark appears in the right mar...</td>\n",
       "      <td>[-0.07486805, -0.0075748595, 0.047654834, -0.0...</td>\n",
       "      <td>4569</td>\n",
       "      <td>46</td>\n",
       "      <td>[4639, 4725, 4752, 4782, 4798, 4807, 5940, 712...</td>\n",
       "    </tr>\n",
       "    <tr>\n",
       "      <th>39</th>\n",
       "      <th>85</th>\n",
       "      <td>[Two handwritten X marks appear in the right m...</td>\n",
       "      <td>[-0.06422217, -0.012902476, 0.05572298, -0.008...</td>\n",
       "      <td>4752</td>\n",
       "      <td>45</td>\n",
       "      <td>[4782, 4798, 4807, 5940, 5992, 7126, 7141, 718...</td>\n",
       "    </tr>\n",
       "    <tr>\n",
       "      <th>38</th>\n",
       "      <th>334</th>\n",
       "      <td>[A handwritten X mark appears in the right mar...</td>\n",
       "      <td>[-0.074868046, -0.007574868, 0.04765481, -0.00...</td>\n",
       "      <td>4639</td>\n",
       "      <td>45</td>\n",
       "      <td>[4725, 4752, 4782, 4798, 4807, 5940, 7126, 714...</td>\n",
       "    </tr>\n",
       "    <tr>\n",
       "      <th>39</th>\n",
       "      <th>58</th>\n",
       "      <td>[A handwritten X mark appears in the right mar...</td>\n",
       "      <td>[-0.07242237, -0.0020393203, 0.04638, -0.00741...</td>\n",
       "      <td>4725</td>\n",
       "      <td>44</td>\n",
       "      <td>[4752, 4782, 4798, 4807, 7126, 7141, 7172, 718...</td>\n",
       "    </tr>\n",
       "    <tr>\n",
       "      <th>51</th>\n",
       "      <th>53</th>\n",
       "      <td>[Three handwritten X marks appear in the right...</td>\n",
       "      <td>[-0.051048532, -0.00959257, 0.037164517, 0.004...</td>\n",
       "      <td>7126</td>\n",
       "      <td>38</td>\n",
       "      <td>[7141, 7172, 7189, 7604, 7606, 7612, 7614, 761...</td>\n",
       "    </tr>\n",
       "    <tr>\n",
       "      <th>39</th>\n",
       "      <th>115</th>\n",
       "      <td>[A handwritten X mark appears in the right mar...</td>\n",
       "      <td>[-0.07717254, -0.009254433, 0.050056376, -0.00...</td>\n",
       "      <td>4782</td>\n",
       "      <td>38</td>\n",
       "      <td>[4798, 4807, 7126, 7141, 7604, 7606, 7612, 761...</td>\n",
       "    </tr>\n",
       "    <tr>\n",
       "      <th>51</th>\n",
       "      <th>68</th>\n",
       "      <td>[A handwritten X mark appears in the right mar...</td>\n",
       "      <td>[-0.0614387, -0.0062666694, 0.043427408, -0.01...</td>\n",
       "      <td>7141</td>\n",
       "      <td>38</td>\n",
       "      <td>[7172, 7189, 7604, 7606, 7612, 7616, 7619, 763...</td>\n",
       "    </tr>\n",
       "    <tr>\n",
       "      <th rowspan=\"2\" valign=\"top\">39</th>\n",
       "      <th>131</th>\n",
       "      <td>[A handwritten X mark appears in the right mar...</td>\n",
       "      <td>[-0.07717254, -0.009254433, 0.050056376, -0.00...</td>\n",
       "      <td>4798</td>\n",
       "      <td>37</td>\n",
       "      <td>[4807, 7126, 7141, 7604, 7606, 7612, 7616, 763...</td>\n",
       "    </tr>\n",
       "    <tr>\n",
       "      <th>140</th>\n",
       "      <td>[A handwritten X mark appears in the right mar...</td>\n",
       "      <td>[-0.07717254, -0.009254433, 0.050056376, -0.00...</td>\n",
       "      <td>4807</td>\n",
       "      <td>36</td>\n",
       "      <td>[7126, 7141, 7604, 7606, 7612, 7616, 7632, 763...</td>\n",
       "    </tr>\n",
       "    <tr>\n",
       "      <th>21</th>\n",
       "      <th>85</th>\n",
       "      <td>I believe that armies, and navies are at the b...</td>\n",
       "      <td>[-0.041832954, 0.009992504, 0.019000486, 0.001...</td>\n",
       "      <td>2631</td>\n",
       "      <td>34</td>\n",
       "      <td>[3111, 11748, 12157, 12380, 13501, 13586, 1366...</td>\n",
       "    </tr>\n",
       "    <tr>\n",
       "      <th>26</th>\n",
       "      <th>77</th>\n",
       "      <td>I believe that armies and navies are at the bo...</td>\n",
       "      <td>[-0.047528114, 0.013157649, 0.0284595, -0.0099...</td>\n",
       "      <td>3111</td>\n",
       "      <td>33</td>\n",
       "      <td>[11748, 12157, 12380, 13501, 13586, 13668, 142...</td>\n",
       "    </tr>\n",
       "  </tbody>\n",
       "</table>\n",
       "</div>"
      ],
      "text/plain": [
       "                                                             sent_str  \\\n",
       "doc_index sent_num                                                      \n",
       "37        41        [Two handwritten X marks appear in the right m...   \n",
       "          141       [A handwritten X mark appears in the right mar...   \n",
       "          27        [A handwritten X mark appears in the right mar...   \n",
       "38        126       [Two handwritten X marks appear in the right m...   \n",
       "37        156       [Two handwritten X marks appear in the right m...   \n",
       "35        42        [A handwritten X mark appears in the right mar...   \n",
       "38        210       [A handwritten X mark appears in the right mar...   \n",
       "          26        [A handwritten X appears in the right margin, ...   \n",
       "          258       [A handwritten X mark appears in the right mar...   \n",
       "          264       [A handwritten X mark appears in the right mar...   \n",
       "39        85        [Two handwritten X marks appear in the right m...   \n",
       "38        334       [A handwritten X mark appears in the right mar...   \n",
       "39        58        [A handwritten X mark appears in the right mar...   \n",
       "51        53        [Three handwritten X marks appear in the right...   \n",
       "39        115       [A handwritten X mark appears in the right mar...   \n",
       "51        68        [A handwritten X mark appears in the right mar...   \n",
       "39        131       [A handwritten X mark appears in the right mar...   \n",
       "          140       [A handwritten X mark appears in the right mar...   \n",
       "21        85        I believe that armies, and navies are at the b...   \n",
       "26        77        I believe that armies and navies are at the bo...   \n",
       "\n",
       "                                                            embedding  \\\n",
       "doc_index sent_num                                                      \n",
       "37        41        [-0.06447188, -0.011960898, 0.049505513, -0.00...   \n",
       "          141       [-0.0653786, -0.010280782, 0.045581914, -0.008...   \n",
       "          27        [-0.074868046, -0.007574868, 0.04765481, -0.00...   \n",
       "38        126       [-0.06447186, -0.011960899, 0.0495055, -0.0057...   \n",
       "37        156       [-0.06612751, -0.00894151, 0.048094306, -0.004...   \n",
       "35        42        [-0.07267322, -0.013454423, 0.056170903, -0.00...   \n",
       "38        210       [-0.074868046, -0.007574868, 0.04765481, -0.00...   \n",
       "          26        [-0.06757779, -0.010094775, 0.0584954, -0.0139...   \n",
       "          258       [-0.07486805, -0.0075748595, 0.047654834, -0.0...   \n",
       "          264       [-0.07486805, -0.0075748595, 0.047654834, -0.0...   \n",
       "39        85        [-0.06422217, -0.012902476, 0.05572298, -0.008...   \n",
       "38        334       [-0.074868046, -0.007574868, 0.04765481, -0.00...   \n",
       "39        58        [-0.07242237, -0.0020393203, 0.04638, -0.00741...   \n",
       "51        53        [-0.051048532, -0.00959257, 0.037164517, 0.004...   \n",
       "39        115       [-0.07717254, -0.009254433, 0.050056376, -0.00...   \n",
       "51        68        [-0.0614387, -0.0062666694, 0.043427408, -0.01...   \n",
       "39        131       [-0.07717254, -0.009254433, 0.050056376, -0.00...   \n",
       "          140       [-0.07717254, -0.009254433, 0.050056376, -0.00...   \n",
       "21        85        [-0.041832954, 0.009992504, 0.019000486, 0.001...   \n",
       "26        77        [-0.047528114, 0.013157649, 0.0284595, -0.0099...   \n",
       "\n",
       "                    embeddings_id  matches_counter  \\\n",
       "doc_index sent_num                                   \n",
       "37        41                 4170               57   \n",
       "          141                4270               55   \n",
       "          27                 4156               54   \n",
       "38        126                4431               53   \n",
       "37        156                4285               53   \n",
       "35        42                 3822               51   \n",
       "38        210                4515               48   \n",
       "          26                 4331               48   \n",
       "          258                4563               47   \n",
       "          264                4569               46   \n",
       "39        85                 4752               45   \n",
       "38        334                4639               45   \n",
       "39        58                 4725               44   \n",
       "51        53                 7126               38   \n",
       "39        115                4782               38   \n",
       "51        68                 7141               38   \n",
       "39        131                4798               37   \n",
       "          140                4807               36   \n",
       "21        85                 2631               34   \n",
       "26        77                 3111               33   \n",
       "\n",
       "                                                      matches_indices  \n",
       "doc_index sent_num                                                     \n",
       "37        41        [4270, 4285, 4331, 4431, 4515, 4563, 4569, 463...  \n",
       "          141       [4285, 4331, 4431, 4515, 4563, 4569, 4639, 472...  \n",
       "          27        [4170, 4270, 4285, 4331, 4431, 4515, 4563, 456...  \n",
       "38        126       [4515, 4563, 4569, 4639, 4725, 4752, 4782, 479...  \n",
       "37        156       [4331, 4431, 4515, 4563, 4569, 4639, 4725, 475...  \n",
       "35        42        [4156, 4170, 4270, 4285, 4331, 4431, 4515, 456...  \n",
       "38        210       [4563, 4569, 4639, 4725, 4752, 4782, 4798, 480...  \n",
       "          26        [4431, 4515, 4563, 4569, 4639, 4725, 4752, 478...  \n",
       "          258       [4569, 4639, 4725, 4752, 4782, 4798, 4807, 594...  \n",
       "          264       [4639, 4725, 4752, 4782, 4798, 4807, 5940, 712...  \n",
       "39        85        [4782, 4798, 4807, 5940, 5992, 7126, 7141, 718...  \n",
       "38        334       [4725, 4752, 4782, 4798, 4807, 5940, 7126, 714...  \n",
       "39        58        [4752, 4782, 4798, 4807, 7126, 7141, 7172, 718...  \n",
       "51        53        [7141, 7172, 7189, 7604, 7606, 7612, 7614, 761...  \n",
       "39        115       [4798, 4807, 7126, 7141, 7604, 7606, 7612, 761...  \n",
       "51        68        [7172, 7189, 7604, 7606, 7612, 7616, 7619, 763...  \n",
       "39        131       [4807, 7126, 7141, 7604, 7606, 7612, 7616, 763...  \n",
       "          140       [7126, 7141, 7604, 7606, 7612, 7616, 7632, 763...  \n",
       "21        85        [3111, 11748, 12157, 12380, 13501, 13586, 1366...  \n",
       "26        77        [11748, 12157, 12380, 13501, 13586, 13668, 142...  "
      ]
     },
     "execution_count": 131,
     "metadata": {},
     "output_type": "execute_result"
    }
   ],
   "source": [
    "sentences.sort_values(by = 'matches_counter', ascending = False).head(20)"
   ]
  },
  {
   "cell_type": "markdown",
   "id": "9811c714-994d-4871-ab76-8fed5fe8f9b9",
   "metadata": {},
   "source": [
    "So we have encountered our very first problem - the most commonly repeated sentences are the editorial phrasing. Let's think about how to filter all this stuff out.\n",
    "\n",
    "The second problem is that we still have a bit of a repetition issue. I don't want to delete things from the master list, so I suppose I should create a separate dataframe for it."
   ]
  },
  {
   "cell_type": "code",
   "execution_count": 140,
   "id": "3d4b7c2c-d60b-453e-81fe-8fe0bc714935",
   "metadata": {},
   "outputs": [],
   "source": [
    "test_match = sentences[sentences.embeddings_id == 2631]"
   ]
  },
  {
   "cell_type": "code",
   "execution_count": 234,
   "id": "de9bc096-f985-435d-b4a0-ba0dfc05fc2e",
   "metadata": {},
   "outputs": [
    {
     "data": {
      "text/plain": [
       "array(['I believe that armies, and navies are at the bottom the tinsel and braggadoa?cio of oppression and wrong; and I believe that the wicked conquest of weaker and darker nations by nations white and stronger but foreshadows the death of that stength.\\n\"'],\n",
       "      dtype=object)"
      ]
     },
     "execution_count": 234,
     "metadata": {},
     "output_type": "execute_result"
    }
   ],
   "source": [
    "test_match['sent_str'].values"
   ]
  },
  {
   "cell_type": "code",
   "execution_count": 154,
   "id": "019057e1-bcbc-40b0-acdc-ca85503e4893",
   "metadata": {},
   "outputs": [
    {
     "data": {
      "text/plain": [
       "21"
      ]
     },
     "execution_count": 154,
     "metadata": {},
     "output_type": "execute_result"
    }
   ],
   "source": [
    "test_match['matches_indices'].index[0][0]"
   ]
  },
  {
   "cell_type": "code",
   "execution_count": 192,
   "id": "f1e883db-e544-4fea-932f-7f5f94e38e90",
   "metadata": {},
   "outputs": [
    {
     "data": {
      "text/plain": [
       "[3111,\n",
       " 11748,\n",
       " 12157,\n",
       " 12380,\n",
       " 13501,\n",
       " 13586,\n",
       " 13668,\n",
       " 14263,\n",
       " 16306,\n",
       " 18413,\n",
       " 19612,\n",
       " 20464,\n",
       " 21427,\n",
       " 23259,\n",
       " 24480,\n",
       " 24713,\n",
       " 25923,\n",
       " 26171,\n",
       " 27286,\n",
       " 28396,\n",
       " 29327,\n",
       " 32399,\n",
       " 32640,\n",
       " 34258,\n",
       " 34799,\n",
       " 35091,\n",
       " 35749,\n",
       " 36198,\n",
       " 40007,\n",
       " 41940,\n",
       " 43419,\n",
       " 43492,\n",
       " 44426,\n",
       " 44562]"
      ]
     },
     "execution_count": 192,
     "metadata": {},
     "output_type": "execute_result"
    }
   ],
   "source": [
    "test_match.iloc[0]['matches_indices']"
   ]
  },
  {
   "cell_type": "code",
   "execution_count": 218,
   "id": "4f702441-46dd-4fc0-82a5-b3ea69ffdb80",
   "metadata": {},
   "outputs": [
    {
     "data": {
      "text/plain": [
       "doc_index  sent_num\n",
       "0          0               0\n",
       "           1               1\n",
       "           2               2\n",
       "           3               3\n",
       "           4               4\n",
       "                       ...  \n",
       "356        128         45845\n",
       "           129         45846\n",
       "           130         45847\n",
       "           131         45848\n",
       "           132         45849\n",
       "Name: embeddings_id, Length: 45850, dtype: int32"
      ]
     },
     "execution_count": 218,
     "metadata": {},
     "output_type": "execute_result"
    }
   ],
   "source": [
    "sentences.iloc[:,2]"
   ]
  },
  {
   "cell_type": "code",
   "execution_count": 250,
   "id": "bc19ce5b-0056-4b43-9648-a7ed5a5c9a5a",
   "metadata": {},
   "outputs": [
    {
     "data": {
      "text/html": [
       "<div>\n",
       "<style scoped>\n",
       "    .dataframe tbody tr th:only-of-type {\n",
       "        vertical-align: middle;\n",
       "    }\n",
       "\n",
       "    .dataframe tbody tr th {\n",
       "        vertical-align: top;\n",
       "    }\n",
       "\n",
       "    .dataframe thead th {\n",
       "        text-align: right;\n",
       "    }\n",
       "</style>\n",
       "<table border=\"1\" class=\"dataframe\">\n",
       "  <thead>\n",
       "    <tr style=\"text-align: right;\">\n",
       "      <th></th>\n",
       "      <th></th>\n",
       "      <th>sent_str</th>\n",
       "      <th>embedding</th>\n",
       "      <th>embeddings_id</th>\n",
       "      <th>matches_counter</th>\n",
       "      <th>matches_indices</th>\n",
       "    </tr>\n",
       "    <tr>\n",
       "      <th>doc_index</th>\n",
       "      <th>sent_num</th>\n",
       "      <th></th>\n",
       "      <th></th>\n",
       "      <th></th>\n",
       "      <th></th>\n",
       "      <th></th>\n",
       "    </tr>\n",
       "  </thead>\n",
       "  <tbody>\n",
       "    <tr>\n",
       "      <th>26</th>\n",
       "      <th>77</th>\n",
       "      <td>I believe that armies and navies are at the bo...</td>\n",
       "      <td>[-0.047528114, 0.013157649, 0.0284595, -0.0099...</td>\n",
       "      <td>3111</td>\n",
       "      <td>33</td>\n",
       "      <td>[11748, 12157, 12380, 13501, 13586, 13668, 142...</td>\n",
       "    </tr>\n",
       "    <tr>\n",
       "      <th>81</th>\n",
       "      <th>54</th>\n",
       "      <td>I believe that armies and navies are at bottom...</td>\n",
       "      <td>[-0.04752039, 0.012447078, 0.033345237, -0.008...</td>\n",
       "      <td>11748</td>\n",
       "      <td>32</td>\n",
       "      <td>[12157, 12380, 13501, 13586, 13668, 14263, 163...</td>\n",
       "    </tr>\n",
       "    <tr>\n",
       "      <th rowspan=\"2\" valign=\"top\">84</th>\n",
       "      <th>110</th>\n",
       "      <td>I believe that armies, and navies are at the b...</td>\n",
       "      <td>[-0.04838575, 0.012911433, 0.032891866, -0.007...</td>\n",
       "      <td>12157</td>\n",
       "      <td>31</td>\n",
       "      <td>[12380, 13501, 13586, 13668, 14263, 16306, 184...</td>\n",
       "    </tr>\n",
       "    <tr>\n",
       "      <th>333</th>\n",
       "      <td>I believe that ’armies, and navies are at the ...</td>\n",
       "      <td>[-0.04690815, 0.01901435, 0.031043813, -0.0085...</td>\n",
       "      <td>12380</td>\n",
       "      <td>30</td>\n",
       "      <td>[13501, 13586, 13668, 14263, 16306, 18413, 196...</td>\n",
       "    </tr>\n",
       "    <tr>\n",
       "      <th>96</th>\n",
       "      <th>82</th>\n",
       "      <td>I believe that armies and navives are at botto...</td>\n",
       "      <td>[-0.055808585, 0.02372884, 0.028631834, 0.0018...</td>\n",
       "      <td>13501</td>\n",
       "      <td>29</td>\n",
       "      <td>[13586, 13668, 14263, 16306, 18413, 19612, 204...</td>\n",
       "    </tr>\n",
       "  </tbody>\n",
       "</table>\n",
       "</div>"
      ],
      "text/plain": [
       "                                                             sent_str  \\\n",
       "doc_index sent_num                                                      \n",
       "26        77        I believe that armies and navies are at the bo...   \n",
       "81        54        I believe that armies and navies are at bottom...   \n",
       "84        110       I believe that armies, and navies are at the b...   \n",
       "          333       I believe that ’armies, and navies are at the ...   \n",
       "96        82        I believe that armies and navives are at botto...   \n",
       "\n",
       "                                                            embedding  \\\n",
       "doc_index sent_num                                                      \n",
       "26        77        [-0.047528114, 0.013157649, 0.0284595, -0.0099...   \n",
       "81        54        [-0.04752039, 0.012447078, 0.033345237, -0.008...   \n",
       "84        110       [-0.04838575, 0.012911433, 0.032891866, -0.007...   \n",
       "          333       [-0.04690815, 0.01901435, 0.031043813, -0.0085...   \n",
       "96        82        [-0.055808585, 0.02372884, 0.028631834, 0.0018...   \n",
       "\n",
       "                    embeddings_id  matches_counter  \\\n",
       "doc_index sent_num                                   \n",
       "26        77                 3111               33   \n",
       "81        54                11748               32   \n",
       "84        110               12157               31   \n",
       "          333               12380               30   \n",
       "96        82                13501               29   \n",
       "\n",
       "                                                      matches_indices  \n",
       "doc_index sent_num                                                     \n",
       "26        77        [11748, 12157, 12380, 13501, 13586, 13668, 142...  \n",
       "81        54        [12157, 12380, 13501, 13586, 13668, 14263, 163...  \n",
       "84        110       [12380, 13501, 13586, 13668, 14263, 16306, 184...  \n",
       "          333       [13501, 13586, 13668, 14263, 16306, 18413, 196...  \n",
       "96        82        [13586, 13668, 14263, 16306, 18413, 19612, 204...  "
      ]
     },
     "execution_count": 250,
     "metadata": {},
     "output_type": "execute_result"
    }
   ],
   "source": [
    "sorted_matches = sentences[sentences['embeddings_id'].isin(test_match.iloc[0]['matches_indices'])]\n",
    "sorted_matches.head()"
   ]
  },
  {
   "cell_type": "code",
   "execution_count": 338,
   "id": "88303e38-7f84-465b-82c4-58e0e2fcd0d2",
   "metadata": {},
   "outputs": [],
   "source": [
    "export = sorted_matches.join(documents, on = 'doc_index')\\\n",
    "    .drop(['embedding', 'embeddings_id', 'matches_counter', 'sent_str',\n",
    "           'matches_indices', 'Document Body'], axis=1)\\\n",
    "    .sort_values('Year')"
   ]
  },
  {
   "cell_type": "markdown",
   "id": "e3b9d3ba-26a8-4191-9287-6d47312bc29d",
   "metadata": {},
   "source": [
    "Let's export this to an Excel sheet to save it and use as a visualization!"
   ]
  },
  {
   "cell_type": "code",
   "execution_count": 342,
   "id": "1ab641ec-3281-4262-8932-64881e045e7c",
   "metadata": {},
   "outputs": [],
   "source": [
    "export.to_excel('armies_and_navies_quote.xlsx', index=False)"
   ]
  },
  {
   "cell_type": "markdown",
   "id": "7bdd8a3c-6ad2-47e6-95cd-360022b1da6d",
   "metadata": {},
   "source": [
    "OK, now to return to figuring out how to get rid of editorial language. Yay!"
   ]
  },
  {
   "cell_type": "code",
   "execution_count": 350,
   "id": "12d6cc57-dd1f-41e4-9dda-2f8d4b101a67",
   "metadata": {},
   "outputs": [],
   "source": [
    "# this eliminates about 1000 sentences from the corpus, and is designed to remove editorial language that is bracketed.\n",
    "# I don't want to remove it until after tokenization and comparisons though.\n",
    "# but I think I will save this as a CSV\n",
    "\n",
    "sentences_updated = sentences[~sentences['sent_str'].str.contains(r'\\[.*?\\]', regex=True, na=False)]"
   ]
  },
  {
   "cell_type": "code",
   "execution_count": 356,
   "id": "284fd69e-50dc-496a-93f2-efefe6cb5529",
   "metadata": {},
   "outputs": [
    {
     "data": {
      "text/html": [
       "<div>\n",
       "<style scoped>\n",
       "    .dataframe tbody tr th:only-of-type {\n",
       "        vertical-align: middle;\n",
       "    }\n",
       "\n",
       "    .dataframe tbody tr th {\n",
       "        vertical-align: top;\n",
       "    }\n",
       "\n",
       "    .dataframe thead th {\n",
       "        text-align: right;\n",
       "    }\n",
       "</style>\n",
       "<table border=\"1\" class=\"dataframe\">\n",
       "  <thead>\n",
       "    <tr style=\"text-align: right;\">\n",
       "      <th></th>\n",
       "      <th></th>\n",
       "      <th>sent_str</th>\n",
       "      <th>embedding</th>\n",
       "      <th>embeddings_id</th>\n",
       "      <th>matches_counter</th>\n",
       "      <th>matches_indices</th>\n",
       "    </tr>\n",
       "    <tr>\n",
       "      <th>doc_index</th>\n",
       "      <th>sent_num</th>\n",
       "      <th></th>\n",
       "      <th></th>\n",
       "      <th></th>\n",
       "      <th></th>\n",
       "      <th></th>\n",
       "    </tr>\n",
       "  </thead>\n",
       "  <tbody>\n",
       "    <tr>\n",
       "      <th>21</th>\n",
       "      <th>85</th>\n",
       "      <td>I believe that armies, and navies are at the b...</td>\n",
       "      <td>[-0.041832954, 0.009992504, 0.019000486, 0.001...</td>\n",
       "      <td>2631</td>\n",
       "      <td>34</td>\n",
       "      <td>[3111, 11748, 12157, 12380, 13501, 13586, 1366...</td>\n",
       "    </tr>\n",
       "    <tr>\n",
       "      <th>26</th>\n",
       "      <th>77</th>\n",
       "      <td>I believe that armies and navies are at the bo...</td>\n",
       "      <td>[-0.047528114, 0.013157649, 0.0284595, -0.0099...</td>\n",
       "      <td>3111</td>\n",
       "      <td>33</td>\n",
       "      <td>[11748, 12157, 12380, 13501, 13586, 13668, 142...</td>\n",
       "    </tr>\n",
       "    <tr>\n",
       "      <th>21</th>\n",
       "      <th>82</th>\n",
       "      <td>I believe that all men, black and brown and wh...</td>\n",
       "      <td>[-0.034067627, -0.0008742066, 0.012146837, -0....</td>\n",
       "      <td>2628</td>\n",
       "      <td>33</td>\n",
       "      <td>[11746, 12154, 12377, 13499, 13584, 13666, 142...</td>\n",
       "    </tr>\n",
       "    <tr>\n",
       "      <th>81</th>\n",
       "      <th>52</th>\n",
       "      <td>I believe that all men, black and brown and wh...</td>\n",
       "      <td>[-0.045373484, 0.004682678, 0.008682349, -0.02...</td>\n",
       "      <td>11746</td>\n",
       "      <td>33</td>\n",
       "      <td>[12154, 12377, 13499, 13584, 13666, 14257, 163...</td>\n",
       "    </tr>\n",
       "    <tr>\n",
       "      <th>84</th>\n",
       "      <th>107</th>\n",
       "      <td>I believe that all men, black and brown and wh...</td>\n",
       "      <td>[-0.04605386, 0.0006658909, 0.007042777, -0.02...</td>\n",
       "      <td>12154</td>\n",
       "      <td>32</td>\n",
       "      <td>[12377, 13499, 13584, 13666, 14257, 16300, 184...</td>\n",
       "    </tr>\n",
       "    <tr>\n",
       "      <th>81</th>\n",
       "      <th>54</th>\n",
       "      <td>I believe that armies and navies are at bottom...</td>\n",
       "      <td>[-0.04752039, 0.012447078, 0.033345237, -0.008...</td>\n",
       "      <td>11748</td>\n",
       "      <td>32</td>\n",
       "      <td>[12157, 12380, 13501, 13586, 13668, 14263, 163...</td>\n",
       "    </tr>\n",
       "    <tr>\n",
       "      <th rowspan=\"4\" valign=\"top\">84</th>\n",
       "      <th>110</th>\n",
       "      <td>I believe that armies, and navies are at the b...</td>\n",
       "      <td>[-0.04838575, 0.012911433, 0.032891866, -0.007...</td>\n",
       "      <td>12157</td>\n",
       "      <td>31</td>\n",
       "      <td>[12380, 13501, 13586, 13668, 14263, 16306, 184...</td>\n",
       "    </tr>\n",
       "    <tr>\n",
       "      <th>330</th>\n",
       "      <td>I believe that all men, black and brown and wh...</td>\n",
       "      <td>[-0.04605386, 0.0006658909, 0.007042777, -0.02...</td>\n",
       "      <td>12377</td>\n",
       "      <td>31</td>\n",
       "      <td>[13499, 13584, 13666, 14257, 16300, 18407, 196...</td>\n",
       "    </tr>\n",
       "    <tr>\n",
       "      <th>333</th>\n",
       "      <td>I believe that ’armies, and navies are at the ...</td>\n",
       "      <td>[-0.04690815, 0.01901435, 0.031043813, -0.0085...</td>\n",
       "      <td>12380</td>\n",
       "      <td>30</td>\n",
       "      <td>[13501, 13586, 13668, 14263, 16306, 18413, 196...</td>\n",
       "    </tr>\n",
       "    <tr>\n",
       "      <th>111</th>\n",
       "      <td>I believe in liberty for all men; the space to...</td>\n",
       "      <td>[-0.048598252, 0.025800306, 0.012502862, -0.04...</td>\n",
       "      <td>12158</td>\n",
       "      <td>30</td>\n",
       "      <td>[12381, 13502, 13587, 14264, 16307, 18414, 196...</td>\n",
       "    </tr>\n",
       "    <tr>\n",
       "      <th>81</th>\n",
       "      <th>55</th>\n",
       "      <td>\"I believe in Liberty for all men; the space t...</td>\n",
       "      <td>[-0.045559887, 0.02881433, 0.01786614, -0.0521...</td>\n",
       "      <td>11749</td>\n",
       "      <td>30</td>\n",
       "      <td>[12158, 13502, 13587, 14264, 16307, 18414, 196...</td>\n",
       "    </tr>\n",
       "    <tr>\n",
       "      <th>96</th>\n",
       "      <th>80</th>\n",
       "      <td>I believe that all men, black and brown and wh...</td>\n",
       "      <td>[-0.04605384, 0.00066589226, 0.0070427665, -0....</td>\n",
       "      <td>13499</td>\n",
       "      <td>30</td>\n",
       "      <td>[13584, 13666, 14257, 16300, 18407, 19606, 204...</td>\n",
       "    </tr>\n",
       "    <tr>\n",
       "      <th>97</th>\n",
       "      <th>81</th>\n",
       "      <td>I believe that all men, black and brown and wh...</td>\n",
       "      <td>[-0.04605384, 0.00066589226, 0.0070427665, -0....</td>\n",
       "      <td>13584</td>\n",
       "      <td>29</td>\n",
       "      <td>[13666, 14257, 16300, 18407, 19606, 20458, 214...</td>\n",
       "    </tr>\n",
       "    <tr>\n",
       "      <th rowspan=\"2\" valign=\"top\">96</th>\n",
       "      <th>83</th>\n",
       "      <td>\"I believe in liberty for all men; the space t...</td>\n",
       "      <td>[-0.048638128, 0.028593417, 0.0125792185, -0.0...</td>\n",
       "      <td>13502</td>\n",
       "      <td>29</td>\n",
       "      <td>[13587, 14264, 16307, 18414, 19613, 20465, 214...</td>\n",
       "    </tr>\n",
       "    <tr>\n",
       "      <th>82</th>\n",
       "      <td>I believe that armies and navives are at botto...</td>\n",
       "      <td>[-0.055808585, 0.02372884, 0.028631834, 0.0018...</td>\n",
       "      <td>13501</td>\n",
       "      <td>29</td>\n",
       "      <td>[13586, 13668, 14263, 16306, 18413, 19612, 204...</td>\n",
       "    </tr>\n",
       "    <tr>\n",
       "      <th>98</th>\n",
       "      <th>78</th>\n",
       "      <td>I believe that all men, black and brown and wh...</td>\n",
       "      <td>[-0.04605384, 0.00066589226, 0.0070427665, -0....</td>\n",
       "      <td>13666</td>\n",
       "      <td>28</td>\n",
       "      <td>[14257, 16300, 18407, 19606, 20458, 21421, 232...</td>\n",
       "    </tr>\n",
       "    <tr>\n",
       "      <th rowspan=\"2\" valign=\"top\">97</th>\n",
       "      <th>84</th>\n",
       "      <td>\"I believe in liberty for all men; the space t...</td>\n",
       "      <td>[-0.047228888, 0.026387477, 0.014518498, -0.05...</td>\n",
       "      <td>13587</td>\n",
       "      <td>28</td>\n",
       "      <td>[14264, 16307, 18414, 19613, 20465, 21429, 232...</td>\n",
       "    </tr>\n",
       "    <tr>\n",
       "      <th>83</th>\n",
       "      <td>I believe that armies and navives are at botto...</td>\n",
       "      <td>[-0.055808585, 0.02372884, 0.028631834, 0.0018...</td>\n",
       "      <td>13586</td>\n",
       "      <td>28</td>\n",
       "      <td>[13668, 14263, 16306, 18413, 19612, 20464, 214...</td>\n",
       "    </tr>\n",
       "    <tr>\n",
       "      <th rowspan=\"2\" valign=\"top\">101</th>\n",
       "      <th>287</th>\n",
       "      <td>\"I believe in liberty for all men; the space t...</td>\n",
       "      <td>[-0.049418595, 0.02136102, 0.027971514, -0.040...</td>\n",
       "      <td>14264</td>\n",
       "      <td>27</td>\n",
       "      <td>[16307, 18414, 19613, 20465, 21429, 23260, 233...</td>\n",
       "    </tr>\n",
       "    <tr>\n",
       "      <th>280</th>\n",
       "      <td>I believe that all men -- Black, brown and whi...</td>\n",
       "      <td>[-0.04393277, 0.010634706, -0.004316598, -0.02...</td>\n",
       "      <td>14257</td>\n",
       "      <td>27</td>\n",
       "      <td>[16300, 18407, 19606, 20458, 21421, 23253, 233...</td>\n",
       "    </tr>\n",
       "  </tbody>\n",
       "</table>\n",
       "</div>"
      ],
      "text/plain": [
       "                                                             sent_str  \\\n",
       "doc_index sent_num                                                      \n",
       "21        85        I believe that armies, and navies are at the b...   \n",
       "26        77        I believe that armies and navies are at the bo...   \n",
       "21        82        I believe that all men, black and brown and wh...   \n",
       "81        52        I believe that all men, black and brown and wh...   \n",
       "84        107       I believe that all men, black and brown and wh...   \n",
       "81        54        I believe that armies and navies are at bottom...   \n",
       "84        110       I believe that armies, and navies are at the b...   \n",
       "          330       I believe that all men, black and brown and wh...   \n",
       "          333       I believe that ’armies, and navies are at the ...   \n",
       "          111       I believe in liberty for all men; the space to...   \n",
       "81        55        \"I believe in Liberty for all men; the space t...   \n",
       "96        80        I believe that all men, black and brown and wh...   \n",
       "97        81        I believe that all men, black and brown and wh...   \n",
       "96        83        \"I believe in liberty for all men; the space t...   \n",
       "          82        I believe that armies and navives are at botto...   \n",
       "98        78        I believe that all men, black and brown and wh...   \n",
       "97        84        \"I believe in liberty for all men; the space t...   \n",
       "          83        I believe that armies and navives are at botto...   \n",
       "101       287       \"I believe in liberty for all men; the space t...   \n",
       "          280       I believe that all men -- Black, brown and whi...   \n",
       "\n",
       "                                                            embedding  \\\n",
       "doc_index sent_num                                                      \n",
       "21        85        [-0.041832954, 0.009992504, 0.019000486, 0.001...   \n",
       "26        77        [-0.047528114, 0.013157649, 0.0284595, -0.0099...   \n",
       "21        82        [-0.034067627, -0.0008742066, 0.012146837, -0....   \n",
       "81        52        [-0.045373484, 0.004682678, 0.008682349, -0.02...   \n",
       "84        107       [-0.04605386, 0.0006658909, 0.007042777, -0.02...   \n",
       "81        54        [-0.04752039, 0.012447078, 0.033345237, -0.008...   \n",
       "84        110       [-0.04838575, 0.012911433, 0.032891866, -0.007...   \n",
       "          330       [-0.04605386, 0.0006658909, 0.007042777, -0.02...   \n",
       "          333       [-0.04690815, 0.01901435, 0.031043813, -0.0085...   \n",
       "          111       [-0.048598252, 0.025800306, 0.012502862, -0.04...   \n",
       "81        55        [-0.045559887, 0.02881433, 0.01786614, -0.0521...   \n",
       "96        80        [-0.04605384, 0.00066589226, 0.0070427665, -0....   \n",
       "97        81        [-0.04605384, 0.00066589226, 0.0070427665, -0....   \n",
       "96        83        [-0.048638128, 0.028593417, 0.0125792185, -0.0...   \n",
       "          82        [-0.055808585, 0.02372884, 0.028631834, 0.0018...   \n",
       "98        78        [-0.04605384, 0.00066589226, 0.0070427665, -0....   \n",
       "97        84        [-0.047228888, 0.026387477, 0.014518498, -0.05...   \n",
       "          83        [-0.055808585, 0.02372884, 0.028631834, 0.0018...   \n",
       "101       287       [-0.049418595, 0.02136102, 0.027971514, -0.040...   \n",
       "          280       [-0.04393277, 0.010634706, -0.004316598, -0.02...   \n",
       "\n",
       "                    embeddings_id  matches_counter  \\\n",
       "doc_index sent_num                                   \n",
       "21        85                 2631               34   \n",
       "26        77                 3111               33   \n",
       "21        82                 2628               33   \n",
       "81        52                11746               33   \n",
       "84        107               12154               32   \n",
       "81        54                11748               32   \n",
       "84        110               12157               31   \n",
       "          330               12377               31   \n",
       "          333               12380               30   \n",
       "          111               12158               30   \n",
       "81        55                11749               30   \n",
       "96        80                13499               30   \n",
       "97        81                13584               29   \n",
       "96        83                13502               29   \n",
       "          82                13501               29   \n",
       "98        78                13666               28   \n",
       "97        84                13587               28   \n",
       "          83                13586               28   \n",
       "101       287               14264               27   \n",
       "          280               14257               27   \n",
       "\n",
       "                                                      matches_indices  \n",
       "doc_index sent_num                                                     \n",
       "21        85        [3111, 11748, 12157, 12380, 13501, 13586, 1366...  \n",
       "26        77        [11748, 12157, 12380, 13501, 13586, 13668, 142...  \n",
       "21        82        [11746, 12154, 12377, 13499, 13584, 13666, 142...  \n",
       "81        52        [12154, 12377, 13499, 13584, 13666, 14257, 163...  \n",
       "84        107       [12377, 13499, 13584, 13666, 14257, 16300, 184...  \n",
       "81        54        [12157, 12380, 13501, 13586, 13668, 14263, 163...  \n",
       "84        110       [12380, 13501, 13586, 13668, 14263, 16306, 184...  \n",
       "          330       [13499, 13584, 13666, 14257, 16300, 18407, 196...  \n",
       "          333       [13501, 13586, 13668, 14263, 16306, 18413, 196...  \n",
       "          111       [12381, 13502, 13587, 14264, 16307, 18414, 196...  \n",
       "81        55        [12158, 13502, 13587, 14264, 16307, 18414, 196...  \n",
       "96        80        [13584, 13666, 14257, 16300, 18407, 19606, 204...  \n",
       "97        81        [13666, 14257, 16300, 18407, 19606, 20458, 214...  \n",
       "96        83        [13587, 14264, 16307, 18414, 19613, 20465, 214...  \n",
       "          82        [13586, 13668, 14263, 16306, 18413, 19612, 204...  \n",
       "98        78        [14257, 16300, 18407, 19606, 20458, 21421, 232...  \n",
       "97        84        [14264, 16307, 18414, 19613, 20465, 21429, 232...  \n",
       "          83        [13668, 14263, 16306, 18413, 19612, 20464, 214...  \n",
       "101       287       [16307, 18414, 19613, 20465, 21429, 23260, 233...  \n",
       "          280       [16300, 18407, 19606, 20458, 21421, 23253, 233...  "
      ]
     },
     "execution_count": 356,
     "metadata": {},
     "output_type": "execute_result"
    }
   ],
   "source": [
    "sentences_updated.sort_values(by = 'matches_counter', ascending = False).head(20)"
   ]
  },
  {
   "cell_type": "markdown",
   "id": "e41976eb-834b-42c0-bd12-bfca1913f67c",
   "metadata": {},
   "source": [
    "This is better. Now to figure out how to get rid of these duplicates.\n",
    "\n",
    "Here's my idea: master list of match indices, filter sentences by that. So there's the sentences master list, and then there's also a secondary sentences list that only contains unique (non - near match sentences). And then we can sort by document index too, and see where there are entire paragraphs repeated."
   ]
  },
  {
   "cell_type": "code",
   "execution_count": 380,
   "id": "0dc441b6-1223-4f11-8c0d-fda8f352841b",
   "metadata": {},
   "outputs": [],
   "source": [
    "seen_matches = set()\n",
    "\n",
    "# shoutout ChatGPT for helping me out with this\n",
    "# filtering method\n",
    "def filter_sentences(df):\n",
    "    global seen_matches\n",
    "    to_keep = [] # initialize list which we'll fill with indices to keep\n",
    "\n",
    "    for index, row in df.iterrows(): # iterate by row\n",
    "        id = row['embeddings_id']\n",
    "        match_list = row['matches_indices']\n",
    "        match_counter = row['matches_counter']\n",
    "\n",
    "        # we're gonna jump over these if the ID a) is already recorded as a match for another sentence or b) has no new matches\n",
    "        if id in seen_matches:\n",
    "            continue\n",
    "        elif match_counter == 0:\n",
    "            continue\n",
    "\n",
    "        to_keep.append(index)\n",
    "        seen_matches.update(match_list)\n",
    "\n",
    "    return df.loc[to_keep]"
   ]
  },
  {
   "cell_type": "code",
   "execution_count": 374,
   "id": "0eb9fce6-e870-4afb-9ecb-9162e1e8bea8",
   "metadata": {},
   "outputs": [],
   "source": [
    "filtered_sentences = filter_sentences(sentences_updated)"
   ]
  },
  {
   "cell_type": "code",
   "execution_count": 378,
   "id": "02bd8cc5-c221-422b-8239-70a6bd6ebb28",
   "metadata": {},
   "outputs": [
    {
     "data": {
      "text/plain": [
       "8978"
      ]
     },
     "execution_count": 378,
     "metadata": {},
     "output_type": "execute_result"
    }
   ],
   "source": [
    "len(filtered_sentences)"
   ]
  },
  {
   "cell_type": "markdown",
   "id": "3fc370c5-84a4-46da-a041-51cb0ac7c8bb",
   "metadata": {},
   "source": [
    "So we have really trimmed this stuff down. Obviously we still need to save the non-filtered sentences, but I'm feeling comfortable enough to call it on this notebook and move to a fresh one now that we kind of have all of our relational schema set up."
   ]
  },
  {
   "cell_type": "code",
   "execution_count": 392,
   "id": "b1a61bad-7c57-49cf-a7dd-9cb5ab1a4f03",
   "metadata": {},
   "outputs": [
    {
     "data": {
      "text/html": [
       "<div>\n",
       "<style scoped>\n",
       "    .dataframe tbody tr th:only-of-type {\n",
       "        vertical-align: middle;\n",
       "    }\n",
       "\n",
       "    .dataframe tbody tr th {\n",
       "        vertical-align: top;\n",
       "    }\n",
       "\n",
       "    .dataframe thead th {\n",
       "        text-align: right;\n",
       "    }\n",
       "</style>\n",
       "<table border=\"1\" class=\"dataframe\">\n",
       "  <thead>\n",
       "    <tr style=\"text-align: right;\">\n",
       "      <th></th>\n",
       "      <th></th>\n",
       "      <th>sent_str</th>\n",
       "      <th>embeddings_id</th>\n",
       "      <th>matches_counter</th>\n",
       "      <th>matches_indices</th>\n",
       "    </tr>\n",
       "    <tr>\n",
       "      <th>doc_index</th>\n",
       "      <th>sent_num</th>\n",
       "      <th></th>\n",
       "      <th></th>\n",
       "      <th></th>\n",
       "      <th></th>\n",
       "    </tr>\n",
       "  </thead>\n",
       "  <tbody>\n",
       "    <tr>\n",
       "      <th rowspan=\"5\" valign=\"top\">0</th>\n",
       "      <th>1</th>\n",
       "      <td>We need to discover who is, and who isn't viol...</td>\n",
       "      <td>1</td>\n",
       "      <td>5</td>\n",
       "      <td>[2569, 2691, 3562, 11712, 40059]</td>\n",
       "    </tr>\n",
       "    <tr>\n",
       "      <th>2</th>\n",
       "      <td>Violence is black children going to school for...</td>\n",
       "      <td>2</td>\n",
       "      <td>6</td>\n",
       "      <td>[2570, 2692, 3563, 10633, 11713, 40060]</td>\n",
       "    </tr>\n",
       "    <tr>\n",
       "      <th>3</th>\n",
       "      <td>Violence is 30 million hungry stomachs in the ...</td>\n",
       "      <td>3</td>\n",
       "      <td>6</td>\n",
       "      <td>[2571, 2697, 3568, 10634, 11714, 40061]</td>\n",
       "    </tr>\n",
       "    <tr>\n",
       "      <th>4</th>\n",
       "      <td>Violence is having black people represent a di...</td>\n",
       "      <td>4</td>\n",
       "      <td>2</td>\n",
       "      <td>[2572, 11715]</td>\n",
       "    </tr>\n",
       "    <tr>\n",
       "      <th>5</th>\n",
       "      <td>Violence is a country where properrty counts m...</td>\n",
       "      <td>5</td>\n",
       "      <td>6</td>\n",
       "      <td>[2573, 2698, 3569, 10635, 11716, 40062]</td>\n",
       "    </tr>\n",
       "  </tbody>\n",
       "</table>\n",
       "</div>"
      ],
      "text/plain": [
       "                                                             sent_str  \\\n",
       "doc_index sent_num                                                      \n",
       "0         1         We need to discover who is, and who isn't viol...   \n",
       "          2         Violence is black children going to school for...   \n",
       "          3         Violence is 30 million hungry stomachs in the ...   \n",
       "          4         Violence is having black people represent a di...   \n",
       "          5         Violence is a country where properrty counts m...   \n",
       "\n",
       "                    embeddings_id  matches_counter  \\\n",
       "doc_index sent_num                                   \n",
       "0         1                     1                5   \n",
       "          2                     2                6   \n",
       "          3                     3                6   \n",
       "          4                     4                2   \n",
       "          5                     5                6   \n",
       "\n",
       "                                            matches_indices  \n",
       "doc_index sent_num                                           \n",
       "0         1                [2569, 2691, 3562, 11712, 40059]  \n",
       "          2         [2570, 2692, 3563, 10633, 11713, 40060]  \n",
       "          3         [2571, 2697, 3568, 10634, 11714, 40061]  \n",
       "          4                                   [2572, 11715]  \n",
       "          5         [2573, 2698, 3569, 10635, 11716, 40062]  "
      ]
     },
     "execution_count": 392,
     "metadata": {},
     "output_type": "execute_result"
    }
   ],
   "source": [
    "filtered_sentences = filtered_sentences.drop('embedding', axis = 1)\n",
    "filtered_sentences.head()"
   ]
  },
  {
   "cell_type": "code",
   "execution_count": 394,
   "id": "325489eb-5608-4406-bd65-1309839035af",
   "metadata": {},
   "outputs": [],
   "source": [
    "# let's export everything here to CSV\n",
    "\n",
    "# documents table (full)\n",
    "documents.to_csv('EMB_documents.csv')\n",
    "\n",
    "# sentences table (full)\n",
    "sentences.to_csv('EMB_sentences_0.csv')\n",
    "\n",
    "# sentences table (no editorial language)\n",
    "sentences_updated.to_csv('EMB_sentences_1.csv')\n",
    "\n",
    "# sentences table (no repeated matches)\n",
    "filtered_sentences.to_csv('EMB_sentences_2.csv')"
   ]
  }
 ],
 "metadata": {
  "kernelspec": {
   "display_name": "Python 3 (ipykernel)",
   "language": "python",
   "name": "python3"
  },
  "language_info": {
   "codemirror_mode": {
    "name": "ipython",
    "version": 3
   },
   "file_extension": ".py",
   "mimetype": "text/x-python",
   "name": "python",
   "nbconvert_exporter": "python",
   "pygments_lexer": "ipython3",
   "version": "3.12.4"
  }
 },
 "nbformat": 4,
 "nbformat_minor": 5
}
