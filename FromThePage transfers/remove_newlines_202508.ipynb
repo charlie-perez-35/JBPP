{
 "cells": [
  {
   "cell_type": "code",
   "execution_count": 3,
   "id": "71ab21a1-bdc6-4562-8b01-6671592f0e5f",
   "metadata": {},
   "outputs": [],
   "source": [
    "import pandas as pd\n",
    "import numpy as np\n",
    "import os"
   ]
  },
  {
   "cell_type": "code",
   "execution_count": 5,
   "id": "05b74500-ef39-4789-83d2-b5380b42e286",
   "metadata": {},
   "outputs": [
    {
     "data": {
      "text/plain": [
       "['.ipynb_checkpoints',\n",
       " 'FTP',\n",
       " 'ftp-api-folderlevel.ipynb',\n",
       " 'output CSVs',\n",
       " 'pdf_experiment_test.pdf',\n",
       " 'pdf_splitting.ipynb',\n",
       " 'test-output',\n",
       " 'unit-60349.csv',\n",
       " 'Untitled.ipynb']"
      ]
     },
     "execution_count": 5,
     "metadata": {},
     "output_type": "execute_result"
    }
   ],
   "source": [
    "os.listdir()"
   ]
  },
  {
   "cell_type": "code",
   "execution_count": 6,
   "id": "e3878625-7b0e-494d-803e-b56857176eca",
   "metadata": {},
   "outputs": [],
   "source": [
    "os.chdir('FTP')"
   ]
  },
  {
   "cell_type": "code",
   "execution_count": 7,
   "id": "e1c803be-7cb3-415d-acc0-bd5d216cc856",
   "metadata": {},
   "outputs": [
    {
     "data": {
      "text/plain": [
       "['.ipynb_checkpoints',\n",
       " 'FTP exports',\n",
       " 'FTP_transfer_from_metadata.ipynb',\n",
       " 'Old_FTP exports',\n",
       " 'test_remove_columns.csv',\n",
       " 'test_remove_newlines_carriage.csv',\n",
       " 'test_remove_newlines_carriage.xlsx',\n",
       " 'test_remove_newlines_carriage_postOO.csv',\n",
       " 'Untitled.ipynb']"
      ]
     },
     "execution_count": 7,
     "metadata": {},
     "output_type": "execute_result"
    }
   ],
   "source": [
    "os.listdir()"
   ]
  },
  {
   "cell_type": "code",
   "execution_count": 8,
   "id": "79ddf044-75e1-44ed-85e9-d7cd1cfe6d34",
   "metadata": {},
   "outputs": [],
   "source": [
    "os.chdir('FTP exports')"
   ]
  },
  {
   "cell_type": "code",
   "execution_count": 10,
   "id": "95a68ff5-4393-4561-ac73-a560995ab386",
   "metadata": {},
   "outputs": [],
   "source": [
    "to_edit = os.listdir()"
   ]
  },
  {
   "cell_type": "code",
   "execution_count": 19,
   "id": "721d5148-48fb-4aec-b927-5b00305b881e",
   "metadata": {},
   "outputs": [],
   "source": [
    "test = pd.read_csv(to_edit[0], index_col = 0)\n",
    "test = test.drop('Title', axis = 1)\n",
    "test['Document Body'] = test['Document Body'].str.replace('\\n','')\n",
    "test['ID'] = test['ID'].str.strip('PJB').str.strip(' ')"
   ]
  },
  {
   "cell_type": "code",
   "execution_count": 20,
   "id": "3668bfa6-ef20-41cc-ae21-8a8b0c640bd2",
   "metadata": {},
   "outputs": [
    {
     "data": {
      "text/html": [
       "<div>\n",
       "<style scoped>\n",
       "    .dataframe tbody tr th:only-of-type {\n",
       "        vertical-align: middle;\n",
       "    }\n",
       "\n",
       "    .dataframe tbody tr th {\n",
       "        vertical-align: top;\n",
       "    }\n",
       "\n",
       "    .dataframe thead th {\n",
       "        text-align: right;\n",
       "    }\n",
       "</style>\n",
       "<table border=\"1\" class=\"dataframe\">\n",
       "  <thead>\n",
       "    <tr style=\"text-align: right;\">\n",
       "      <th></th>\n",
       "      <th>ID</th>\n",
       "      <th>Document Body</th>\n",
       "    </tr>\n",
       "  </thead>\n",
       "  <tbody>\n",
       "    <tr>\n",
       "      <th>0</th>\n",
       "      <td>2357</td>\n",
       "      <td>&lt;p&gt;200 Trenton Pl S.E. 101&lt;br/&gt;Wash. D.C. 2003...</td>\n",
       "    </tr>\n",
       "    <tr>\n",
       "      <th>1</th>\n",
       "      <td>2358</td>\n",
       "      <td>&lt;p&gt;Mrs. Frank R. Shlossberg&lt;br/&gt;31 Lakeside St...</td>\n",
       "    </tr>\n",
       "    <tr>\n",
       "      <th>2</th>\n",
       "      <td>2362</td>\n",
       "      <td>&lt;p&gt;Toledo, Ohio&lt;br/&gt;May 10 1969&lt;/p&gt;&lt;p&gt;To Repre...</td>\n",
       "    </tr>\n",
       "    <tr>\n",
       "      <th>3</th>\n",
       "      <td>2363</td>\n",
       "      <td>&lt;p&gt;Gloria Cruz&lt;br/&gt;A128 Garcia Hall&lt;br/&gt;Univer...</td>\n",
       "    </tr>\n",
       "    <tr>\n",
       "      <th>4</th>\n",
       "      <td>2369</td>\n",
       "      <td>&lt;p&gt;May 21, 1969&lt;/p&gt;&lt;p&gt;Dear Mr. Douglas,&lt;/p&gt;&lt;p&gt;...</td>\n",
       "    </tr>\n",
       "    <tr>\n",
       "      <th>...</th>\n",
       "      <td>...</td>\n",
       "      <td>...</td>\n",
       "    </tr>\n",
       "    <tr>\n",
       "      <th>61</th>\n",
       "      <td>2455</td>\n",
       "      <td>&lt;p&gt;                                           ...</td>\n",
       "    </tr>\n",
       "    <tr>\n",
       "      <th>62</th>\n",
       "      <td>2458</td>\n",
       "      <td>&lt;p&gt;6-22-69&lt;/p&gt;&lt;p&gt;Dear Mr. Bond,&lt;/p&gt;&lt;p&gt;Its a gr...</td>\n",
       "    </tr>\n",
       "    <tr>\n",
       "      <th>63</th>\n",
       "      <td>2461</td>\n",
       "      <td>&lt;p&gt;for more information, call&lt;br/&gt;Mrs. Jane Mo...</td>\n",
       "    </tr>\n",
       "    <tr>\n",
       "      <th>64</th>\n",
       "      <td>2473</td>\n",
       "      <td>&lt;p&gt;September 16, 1969&lt;/p&gt;&lt;p&gt;Dear Mr. Robinson,...</td>\n",
       "    </tr>\n",
       "    <tr>\n",
       "      <th>65</th>\n",
       "      <td>2475</td>\n",
       "      <td>&lt;p&gt;September 16, 1969&lt;/p&gt;&lt;p&gt;Dear Rabbi Goldbur...</td>\n",
       "    </tr>\n",
       "  </tbody>\n",
       "</table>\n",
       "<p>66 rows × 2 columns</p>\n",
       "</div>"
      ],
      "text/plain": [
       "      ID                                      Document Body\n",
       "0   2357  <p>200 Trenton Pl S.E. 101<br/>Wash. D.C. 2003...\n",
       "1   2358  <p>Mrs. Frank R. Shlossberg<br/>31 Lakeside St...\n",
       "2   2362  <p>Toledo, Ohio<br/>May 10 1969</p><p>To Repre...\n",
       "3   2363  <p>Gloria Cruz<br/>A128 Garcia Hall<br/>Univer...\n",
       "4   2369  <p>May 21, 1969</p><p>Dear Mr. Douglas,</p><p>...\n",
       "..   ...                                                ...\n",
       "61  2455  <p>                                           ...\n",
       "62  2458  <p>6-22-69</p><p>Dear Mr. Bond,</p><p>Its a gr...\n",
       "63  2461  <p>for more information, call<br/>Mrs. Jane Mo...\n",
       "64  2473  <p>September 16, 1969</p><p>Dear Mr. Robinson,...\n",
       "65  2475  <p>September 16, 1969</p><p>Dear Rabbi Goldbur...\n",
       "\n",
       "[66 rows x 2 columns]"
      ]
     },
     "execution_count": 20,
     "metadata": {},
     "output_type": "execute_result"
    }
   ],
   "source": [
    "test"
   ]
  },
  {
   "cell_type": "code",
   "execution_count": 21,
   "id": "355d56c4-ad87-45c3-9d0b-354969e93f31",
   "metadata": {},
   "outputs": [],
   "source": [
    "os.mkdir('FTP exports August fix')"
   ]
  },
  {
   "cell_type": "code",
   "execution_count": 25,
   "id": "d865429a-d87e-45a4-a817-1e080a4cc012",
   "metadata": {},
   "outputs": [
    {
     "name": "stdout",
     "output_type": "stream",
     "text": [
      "b14f2_export_07092025.csv\n",
      "b14f3_export_07092025.csv\n",
      "b14f4_export_07092025.csv\n",
      "b14f5_export_07092025.csv\n",
      "b14f6_export_07092025.csv\n",
      "b14f7_export_07092025.csv\n",
      "b14f8_export_07092025.csv\n",
      "b14f9_export_07092025.csv\n",
      "b15f1_export_07092025.csv\n",
      "b15f2_export_07092025.csv\n",
      "b15f3_export_07092025.csv\n",
      "b15f4_export_07092025.csv\n",
      "b15f5_export_07092025.csv\n",
      "b15f6_export_07092025.csv\n",
      "b15f7_export_07092025.csv\n",
      "b16f1_export_07092025.csv\n",
      "b16f2_export_07092025.csv\n",
      "b16f3_export_07092025.csv\n",
      "b16f4_export_07092025.csv\n",
      "b16f5_export_07092025.csv\n",
      "b16f6_export_07092025.csv\n",
      "b16f7_export_07092025.csv\n",
      "b17f1_export_07092025.csv\n",
      "b17f2_export_07092025.csv\n",
      "unlabeled_docs_export.csv\n"
     ]
    }
   ],
   "source": [
    "for i in to_edit:\n",
    "    print(i)\n",
    "    file = i\n",
    "    df = pd.read_csv(file, index_col = 0)\n",
    "    df = df.drop('Title', axis = 1)\n",
    "    df['Document Body'] = df['Document Body'].str.replace('\\n','')\n",
    "    df['ID'] = df['ID'].str.strip('PJB').str.strip(' ')\n",
    "\n",
    "    df.to_csv(f'FTP exports August fix/{i}', index = False)"
   ]
  }
 ],
 "metadata": {
  "kernelspec": {
   "display_name": "virtual",
   "language": "python",
   "name": "myenv"
  },
  "language_info": {
   "codemirror_mode": {
    "name": "ipython",
    "version": 3
   },
   "file_extension": ".py",
   "mimetype": "text/x-python",
   "name": "python",
   "nbconvert_exporter": "python",
   "pygments_lexer": "ipython3",
   "version": "3.12.4"
  }
 },
 "nbformat": 4,
 "nbformat_minor": 5
}
