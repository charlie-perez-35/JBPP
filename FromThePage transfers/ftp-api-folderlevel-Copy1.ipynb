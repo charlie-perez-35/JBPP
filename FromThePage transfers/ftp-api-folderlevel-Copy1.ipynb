{
 "cells": [
  {
   "cell_type": "markdown",
   "metadata": {},
   "source": [
    "## FTP to Drupal Exports\n",
    "\n",
    "This file contains the updated script for prepping a folder-level export between FTP and Drupal.\n",
    "\n",
    "Note that this script continues to use the FTP API, but it is not really necessary anymore. The API is largely important to extract the unique FTP work ID from each work - since we are doing folder-level exports and each folder is now one work, it is just as easy if not easier to just look up the work ID and manually label each export."
   ]
  },
  {
   "cell_type": "code",
   "execution_count": 1,
   "metadata": {},
   "outputs": [],
   "source": [
    "# import required packages\n",
    "\n",
    "import os\n",
    "import dotenv\n",
    "\n",
    "import requests\n",
    "import pandas as pd\n",
    "import json\n",
    "import re\n",
    "\n",
    "from bs4 import BeautifulSoup\n",
    "from collections import defaultdict"
   ]
  },
  {
   "cell_type": "markdown",
   "metadata": {
    "jp-MarkdownHeadingCollapsed": true
   },
   "source": [
    "### Option 1: the old way"
   ]
  },
  {
   "cell_type": "code",
   "execution_count": 94,
   "metadata": {},
   "outputs": [],
   "source": [
    "# hiding the API key\n",
    "\n",
    "# change to the directory where the dotenv file is (unique for each person)\n",
    "os.chdir(\"/Users/charl/JBPP\")\n",
    "\n",
    "# load in stuff hidden in the .env file\n",
    "dotenv.load_dotenv()\n",
    "JBPP_key = os.getenv('JBPP_key')"
   ]
  },
  {
   "cell_type": "code",
   "execution_count": 98,
   "metadata": {
    "id": "lcFSx5yRjT_9"
   },
   "outputs": [],
   "source": [
    "# code to create post request\n",
    "apikey = JBPP_key\n",
    "\n",
    "root = \"http://fromthepage.com/iiif\"\n",
    "endpoint = \"/collection/2025-summer-program\" # this endpoint is the only thing that needs editing \n",
    "# use IIIF slug found at bottom of \"export\" tab in FTP document set you want to export from\n",
    "headers = {\"Authorization\": f\"Token token={apikey}\"}"
   ]
  },
  {
   "cell_type": "code",
   "execution_count": 100,
   "metadata": {},
   "outputs": [],
   "source": [
    "# submit post request using requests library (operates same as cURL, just in Python)\n",
    "response = requests.post(root+endpoint, headers=headers)\n"
   ]
  },
  {
   "cell_type": "code",
   "execution_count": 4,
   "metadata": {},
   "outputs": [],
   "source": [
    "# to run if you wanna look at the raw text or check status\n",
    "\n",
    "# print(response.status_code)\n",
    "# should be 200\n",
    "# print(response.text)"
   ]
  },
  {
   "cell_type": "code",
   "execution_count": 102,
   "metadata": {},
   "outputs": [],
   "source": [
    "# convert to dataframe using json_normalize\n",
    "# record_path=['manifests'] is to ignore metadata associated with the API call that's returned in the response\n",
    "# but is not connected to the actual doc set content\n",
    "response_df = pd.json_normalize(json.loads(response.text), record_path=['manifests'])"
   ]
  },
  {
   "cell_type": "code",
   "execution_count": 104,
   "metadata": {},
   "outputs": [
    {
     "data": {
      "text/html": [
       "<div>\n",
       "<style scoped>\n",
       "    .dataframe tbody tr th:only-of-type {\n",
       "        vertical-align: middle;\n",
       "    }\n",
       "\n",
       "    .dataframe tbody tr th {\n",
       "        vertical-align: top;\n",
       "    }\n",
       "\n",
       "    .dataframe thead th {\n",
       "        text-align: right;\n",
       "    }\n",
       "</style>\n",
       "<table border=\"1\" class=\"dataframe\">\n",
       "  <thead>\n",
       "    <tr style=\"text-align: right;\">\n",
       "      <th></th>\n",
       "      <th>0</th>\n",
       "      <th>1</th>\n",
       "    </tr>\n",
       "  </thead>\n",
       "  <tbody>\n",
       "    <tr>\n",
       "      <th>@id</th>\n",
       "      <td>https://fromthepage.com/iiif/32213452/manifest</td>\n",
       "      <td>https://fromthepage.com/iiif/32214941/manifest</td>\n",
       "    </tr>\n",
       "    <tr>\n",
       "      <th>@type</th>\n",
       "      <td>sc:Manifest</td>\n",
       "      <td>sc:Manifest</td>\n",
       "    </tr>\n",
       "    <tr>\n",
       "      <th>label</th>\n",
       "      <td>Box 17 Folder 3</td>\n",
       "      <td>Box 17 Folder 6</td>\n",
       "    </tr>\n",
       "    <tr>\n",
       "      <th>metadata</th>\n",
       "      <td>[{'label': 'dc:source', 'value': ['', 'https:/...</td>\n",
       "      <td>[{'label': 'dc:source', 'value': ['', 'https:/...</td>\n",
       "    </tr>\n",
       "    <tr>\n",
       "      <th>service.@context</th>\n",
       "      <td>http://www.fromthepage.org/jsonld/1/context.json</td>\n",
       "      <td>http://www.fromthepage.org/jsonld/1/context.json</td>\n",
       "    </tr>\n",
       "    <tr>\n",
       "      <th>service.@id</th>\n",
       "      <td>https://fromthepage.com/iiif/32213452/status</td>\n",
       "      <td>https://fromthepage.com/iiif/32214941/status</td>\n",
       "    </tr>\n",
       "    <tr>\n",
       "      <th>service.label</th>\n",
       "      <td>Work Status</td>\n",
       "      <td>Work Status</td>\n",
       "    </tr>\n",
       "    <tr>\n",
       "      <th>service.profile</th>\n",
       "      <td>https://github.com/benwbrum/fromthepage/wiki/F...</td>\n",
       "      <td>https://github.com/benwbrum/fromthepage/wiki/F...</td>\n",
       "    </tr>\n",
       "    <tr>\n",
       "      <th>service.pctComplete</th>\n",
       "      <td>66.67</td>\n",
       "      <td>78.67</td>\n",
       "    </tr>\n",
       "    <tr>\n",
       "      <th>service.pctTranscribed</th>\n",
       "      <td>66.67</td>\n",
       "      <td>78.67</td>\n",
       "    </tr>\n",
       "    <tr>\n",
       "      <th>service.pctOcrCorrected</th>\n",
       "      <td>0.0</td>\n",
       "      <td>0.0</td>\n",
       "    </tr>\n",
       "    <tr>\n",
       "      <th>service.pctIndexed</th>\n",
       "      <td>0</td>\n",
       "      <td>0</td>\n",
       "    </tr>\n",
       "    <tr>\n",
       "      <th>service.pctMarkedBlank</th>\n",
       "      <td>0</td>\n",
       "      <td>0</td>\n",
       "    </tr>\n",
       "    <tr>\n",
       "      <th>service.pctNeedsReview</th>\n",
       "      <td>11.56</td>\n",
       "      <td>1.33</td>\n",
       "    </tr>\n",
       "    <tr>\n",
       "      <th>service.pctTranslationComplete</th>\n",
       "      <td>0</td>\n",
       "      <td>0</td>\n",
       "    </tr>\n",
       "    <tr>\n",
       "      <th>service.pctTranslated</th>\n",
       "      <td>0</td>\n",
       "      <td>0</td>\n",
       "    </tr>\n",
       "    <tr>\n",
       "      <th>service.pctTranslationNeedsReview</th>\n",
       "      <td>0</td>\n",
       "      <td>0</td>\n",
       "    </tr>\n",
       "    <tr>\n",
       "      <th>service.pctTranslationIndexed</th>\n",
       "      <td>0</td>\n",
       "      <td>0</td>\n",
       "    </tr>\n",
       "    <tr>\n",
       "      <th>service.pctTranslationMarkedBlank</th>\n",
       "      <td>0</td>\n",
       "      <td>0</td>\n",
       "    </tr>\n",
       "    <tr>\n",
       "      <th>service.metadataStatus</th>\n",
       "      <td>undescribed</td>\n",
       "      <td>undescribed</td>\n",
       "    </tr>\n",
       "    <tr>\n",
       "      <th>service.lastUpdated</th>\n",
       "      <td>2025-07-08 00:52:48 UTC</td>\n",
       "      <td>2025-07-08 15:08:41 UTC</td>\n",
       "    </tr>\n",
       "  </tbody>\n",
       "</table>\n",
       "</div>"
      ],
      "text/plain": [
       "                                                                                   0  \\\n",
       "@id                                   https://fromthepage.com/iiif/32213452/manifest   \n",
       "@type                                                                    sc:Manifest   \n",
       "label                                                                Box 17 Folder 3   \n",
       "metadata                           [{'label': 'dc:source', 'value': ['', 'https:/...   \n",
       "service.@context                    http://www.fromthepage.org/jsonld/1/context.json   \n",
       "service.@id                             https://fromthepage.com/iiif/32213452/status   \n",
       "service.label                                                            Work Status   \n",
       "service.profile                    https://github.com/benwbrum/fromthepage/wiki/F...   \n",
       "service.pctComplete                                                            66.67   \n",
       "service.pctTranscribed                                                         66.67   \n",
       "service.pctOcrCorrected                                                          0.0   \n",
       "service.pctIndexed                                                                 0   \n",
       "service.pctMarkedBlank                                                             0   \n",
       "service.pctNeedsReview                                                         11.56   \n",
       "service.pctTranslationComplete                                                     0   \n",
       "service.pctTranslated                                                              0   \n",
       "service.pctTranslationNeedsReview                                                  0   \n",
       "service.pctTranslationIndexed                                                      0   \n",
       "service.pctTranslationMarkedBlank                                                  0   \n",
       "service.metadataStatus                                                   undescribed   \n",
       "service.lastUpdated                                          2025-07-08 00:52:48 UTC   \n",
       "\n",
       "                                                                                   1  \n",
       "@id                                   https://fromthepage.com/iiif/32214941/manifest  \n",
       "@type                                                                    sc:Manifest  \n",
       "label                                                                Box 17 Folder 6  \n",
       "metadata                           [{'label': 'dc:source', 'value': ['', 'https:/...  \n",
       "service.@context                    http://www.fromthepage.org/jsonld/1/context.json  \n",
       "service.@id                             https://fromthepage.com/iiif/32214941/status  \n",
       "service.label                                                            Work Status  \n",
       "service.profile                    https://github.com/benwbrum/fromthepage/wiki/F...  \n",
       "service.pctComplete                                                            78.67  \n",
       "service.pctTranscribed                                                         78.67  \n",
       "service.pctOcrCorrected                                                          0.0  \n",
       "service.pctIndexed                                                                 0  \n",
       "service.pctMarkedBlank                                                             0  \n",
       "service.pctNeedsReview                                                          1.33  \n",
       "service.pctTranslationComplete                                                     0  \n",
       "service.pctTranslated                                                              0  \n",
       "service.pctTranslationNeedsReview                                                  0  \n",
       "service.pctTranslationIndexed                                                      0  \n",
       "service.pctTranslationMarkedBlank                                                  0  \n",
       "service.metadataStatus                                                   undescribed  \n",
       "service.lastUpdated                                          2025-07-08 15:08:41 UTC  "
      ]
     },
     "execution_count": 104,
     "metadata": {},
     "output_type": "execute_result"
    }
   ],
   "source": [
    "response_df.head().T"
   ]
  },
  {
   "cell_type": "markdown",
   "metadata": {},
   "source": [
    "After looking at the available folders, choose which one you want to export. Specify the row index in the lines denoted. Be sure to select a folder that has a `service.pctComplete` value of 100.0, meaning it is fully transcribed."
   ]
  },
  {
   "cell_type": "code",
   "execution_count": 108,
   "metadata": {},
   "outputs": [
    {
     "data": {
      "text/plain": [
       "('Box 17 Folder 6',\n",
       " 'https://fromthepage.com/iiif/32214941/manifest',\n",
       " '32214941',\n",
       " 'https://iiifman.lib.virginia.edu/pid/tsb:109207?unit=60420')"
      ]
     },
     "execution_count": 108,
     "metadata": {},
     "output_type": "execute_result"
    }
   ],
   "source": [
    "label = response_df['label'][1] # specify row\n",
    "url = response_df['@id'][1] # specify row\n",
    "cut = url.split('/')[4]\n",
    "iiif_ref = response_df['metadata'][1][0]['value'][1]  # specify row (after 'metadata', not after 'value')\n",
    "label, url, cut, iiif_ref"
   ]
  },
  {
   "cell_type": "markdown",
   "metadata": {},
   "source": [
    "### Option 2: the new way\n",
    "\n",
    "Much simpler, just different. Requires looking for information outside of just running this notebook."
   ]
  },
  {
   "cell_type": "code",
   "execution_count": 2,
   "metadata": {},
   "outputs": [],
   "source": [
    "# instead of changing the collection slug and querying the API etc etc, go to FTP and look up the work ID.\n",
    "# For a detailed explanation of where to find it, see documentation\n",
    "\n",
    "# then, uncomment the below code and fill in the info\n",
    "\n",
    "label = 'PJB 495' # replace with box/folder number of desired export\n",
    "cut = '32102525' # replace with unique FTP work ID of desired export (important that this is a string)"
   ]
  },
  {
   "cell_type": "markdown",
   "metadata": {},
   "source": [
    "### The rest of it"
   ]
  },
  {
   "cell_type": "code",
   "execution_count": 3,
   "metadata": {},
   "outputs": [],
   "source": [
    "new_url = f'https://fromthepage.com/iiif/{cut}/export/html' # url that hosts the html export\n",
    "final = requests.get(new_url) # get request on html export url\n",
    "html = final.text"
   ]
  },
  {
   "cell_type": "code",
   "execution_count": 4,
   "metadata": {},
   "outputs": [],
   "source": [
    "def extract_pages(string):\n",
    "    soup = BeautifulSoup(string, \"lxml\")\n",
    "\n",
    "    # Find all <div> tags where id starts with \"page-\"\n",
    "    page_divs = soup.find_all(\"div\", id=re.compile(r\"^page-\\d+\"))\n",
    "\n",
    "    pages = []\n",
    "\n",
    "    for page_div in page_divs:\n",
    "        # Extract title from the <a name=\"...\"> tag inside the page\n",
    "        title_tag = page_div.find(\"a\", attrs={\"name\": True})\n",
    "        title = title_tag.get_text(strip=True) if title_tag else None\n",
    "\n",
    "        # Extract page content\n",
    "        content_tag = page_div.find(\"div\", class_=\"page-content\")\n",
    "        content = content_tag.decode_contents() if content_tag else None\n",
    "\n",
    "        # Extract all usernames from <small class=\"page-version-username\">\n",
    "        user_tags = page_div.find_all(\"small\", class_=\"page-version-username\")\n",
    "        users = [tag.get_text(strip=True) for tag in user_tags]\n",
    "\n",
    "        pages.append({\n",
    "            \"FTP_page_id\": page_div.get(\"id\"),\n",
    "            \"title\": title,\n",
    "            \"content\": content,\n",
    "            \"users\": users\n",
    "        })\n",
    "\n",
    "    return pages"
   ]
  },
  {
   "cell_type": "code",
   "execution_count": 10,
   "metadata": {},
   "outputs": [],
   "source": [
    "pages = extract_pages(html)"
   ]
  },
  {
   "cell_type": "code",
   "execution_count": 11,
   "metadata": {},
   "outputs": [],
   "source": [
    "for page in pages:\n",
    "    page['PJB'] = 'PJB 495'\n",
    "    # print(page['PJB'])"
   ]
  },
  {
   "cell_type": "code",
   "execution_count": 12,
   "metadata": {},
   "outputs": [
    {
     "data": {
      "text/plain": [
       "[{'FTP_page_id': 'page-33952891',\n",
       "  'title': '1',\n",
       "  'content': \"\\n<p>Harvard Business School<br/>\\nDecember 3, 1999<br/>\\nCopyright 1999 by Julian Bond</p>\\n<p>5 years ago</p>\\n<p>Since the case study you have before you was completed, happily much at the<br/>\\nNAACP has changed.</p>\\n<p>Unchanged, by the way, is our high standing among the black public.  A 1993<br/>\\nleadership study by Brakely, John Price Jones, Inc. showed 74% of all blacks believed<br/>\\nthe NAACP was the leader among all groups with civil rights, race relations and social<br/>\\njustice agendas.  In this study, 75% of all respondents believed the NAACP adequately<br/>\\nrepresented the black community.  An October 1995 <u>US News &amp; World Report</u> poll<br/>\\nreported 90% of all blacks supported the NAACP.  In an April 1998 poll conducted for<br/>\\nthe Foundation for Ethic Understanding, 81% of all blacks reported a favorable opinion<br/>\\nof the NAACP.</p>\\n<p>After 14 years' service on the NAACP Board and ten years as President of the<br/>\\nAtlanta NAACP, and service on the Search Committee, I succeeded Myrlie Evers-Williams as Board Chair in February 1998<br/>\\nand was re-elected unanimously to a second one-year term in February 1999.  Ms. Evers-Williams<br/>\\nrestored integrity to the NAACP's leadership.  She began to retire our staggering debt.<br/>\\nUnder her leadership, a new CEO, former Congressman Kweisi Mfume, was brought on<br/>\\nboard in 1996.  He retired the reamainder of the debt and began to rebuild a staff that had<br/>\\nbeen decimated by debt-induced layoffs.</p>\\n<p>I inherited an organization that was financially stable after having nearly faced<br/>\\nextincion, and an organization with integrity restored.</p>\\n<p>Under the NAACP's Constitution, the Board's Chair has few powers, but I was<br/>\\ndetermined to exercise the powers I had.</p>\\n<p>I began by reducing the number of Board committees from 23 to 16, and I used<br/>\\ntemporary task forces where no committee had jurisdiction.</p>\\n<p>And I tried to attack some of the built-in weaknesses and other structural<br/>\\nimpediments to a smooth running operation.</p>\\n<p>One large challenge faced early was membership fees.  We had more membership<br/>\\nfee categories than there are letters in the alphabet.  With our basic adult membership fee</p>\\n<p>1</p>\\n\",\n",
       "  'users': ['Debra Haraldson', 'Debra Haraldson', 'Debra Haraldson', 'lbaker'],\n",
       "  'PJB': 'PJB 495'},\n",
       " {'FTP_page_id': 'page-33952892',\n",
       "  'title': '2',\n",
       "  'content': \"\\n<p>of $10.00, we lost $1.50 per member in processing costs.  I was successful in getting the<br/>\\nBoard to reduce this confusing array of membership fees, to triple the basic adult<br/>\\nmembership fee to $30.00 and to raise other fees.</p>\\n<p>In spite of past experience in which membership temporarily declined after fees<br/>\\nwere raised, our membership has grown.  Since the fees were raised, membership has<br/>\\nincreased by 100,000.</p>\\n<p>Part of the increase is due to the adoption of membership retention and renewal<br/>\\nefforts which are standard at every similar membership organizaiton, but which did not<br/>\\nexist at the NAACP.  All our membership saless were face-to-face.  We had <u>no organized<br/>\\nsystem</u> of annual membership renewal.  We never wrote to members in anticipation of <br/>\\ntheir membership expiration date to ask them to renew, but we began to do so on an<br/>\\nexperimental basis and plan to do so nation-wide beginning in February 2000.</p>\\n<p>A second cause of membership growth has been a large increase in youth<br/>\\nmemberships and in new youth units chargered - over 35 in the last two years.  They range<br/>\\nfrom the campuses of Harvard and Stanford Universities to the small towns of Piney<br/>\\nWoods, Mississippi, and Jasper, Texas, and demonstrate that there is great interst among<br/>\\nyoung black people in fighting for civil rights.</p>\\n<p>In addition to reviving the Harvard Chapter, we have developed a highly<br/>\\nsuccessful relationship with the Harvard Business School.</p>\\n<p>Mrs. Evers-Williams and Board member Nancy Lane had begun a relationship<br/>\\nwith Professor James Austin and the Harvard Business School's Initiative on Social<br/>\\nEnterprise.  <strike>One result was the case study before you.</strike></p>\\n<p>Of special importance to the NAACP were sessions in the spring of 1998 and<br/>\\n1999 here at the Business School in which the NAACP Board, under the guidance of<br/>\\nHBS faculty, explored issues of governance, CEO/Board relations, Board development,<br/>\\nand strategy.  A third retreat will be held in April 2000.</p>\\n<p>These have proven to be invaluable, bringing the 64 members together, not in a<br/>\\nsometimes-contntious clash of egos and personal agendas common to past Board<br/>\\nmeetings but in a less formal setting that fosters congeniality.  Subsequent Board meetings<br/>\\nhave been more sociable in large part because of the lessons learned and friendships<br/>\\nformed here at Harvard.</p>\\n<p>2</p>\\n\",\n",
       "  'users': ['Debra Haraldson', 'Debra Haraldson', 'Debra Haraldson', 'lbaker'],\n",
       "  'PJB': 'PJB 495'},\n",
       " {'FTP_page_id': 'page-33952893',\n",
       "  'title': '3',\n",
       "  'content': \"\\n<p>Indeed, one of the most important areas of consensus to emerge from the most<br/>\\nrecent retreat was near unanimous agreement on what the NAACP priority should be - advocacy.  It may seem odd that a<br/>\\n90-year-old organization has to agree about what it is and what it does - let me explain.<br/>\\nOver the last several decades, the NAACP has been the victim of success and mission<br/>\\ncreep, spurred, in part by a collapse of an agreed upon division of labor within the civil<br/>\\nrights community, by the withdrawal of support for racial integregation by white Americans<br/>\\nin recent years and the enormity of the needs of our core constituency, black Americans.</p>\\n<p>At the beginning of the 20th century movement for human dignity, there was<br/>\\ninformal agrrment, for example, that the NAACP and the National Urban League would<br/>\\nperform different tasks and assume different roles.  The Urban League would do what is<br/>\\ngeneerally known as social service, helping black migrants from rural to urban America<br/>\\nadjust to an industrial society; the NAACP would fight for civil rights.</p>\\n<p>For much of the 29th century, this division of labor held.  But as petty apartheid<br/>\\nwas eliminated in the mid-60s and it bacame clear that white supremacy had not<br/>\\ndisappeared but had become more subtle, both the NAACP and the Urban League began<br/>\\nto attach a wider range of the problems that plagued black Americans -- unemployment,<br/>\\nskill and educational disadvantage, and so on.  The Urban League increasingly began to<br/>\\nattack racial discrimination and the NAACP began to develop programs to improve the<br/>\\nquality of education available to black Americans -- worthy efforts, but erasing the<br/>\\nprevious allotment of responsibility.</p>\\n<p>One result was the adoption lf a large number of social service programs by the<br/>\\nNAACP and a consequent reduction of our efforts in social justice.  Social service<br/>\\nprograms are immensely popular within the NAACP and have a large constituency; they<br/>\\nmeet needs most agree must be met.  Additionally, they attract corporate and foundation<br/>\\nsupport not available to social justice programs.  Corporate and foundation support of<br/>\\nsocial service is also a reflection of the shift in public discourse about race - a shift from<br/>\\ndiscrimination as cause to remediation as remedy with absolution granted for the<br/>\\npedjudices of the white majority and solutions expected from self-improvement efforts of<br/>\\nthe black minority.  Most whites think discrimination has vanished and equality of<br/>\\nopportunity now exists; such beliefs aren't conducive to rallying cross racial support for fighting racial<br/>\\ndiscrimination.</p>\\n<p>[page[ 3</p>\\n\",\n",
       "  'users': ['Debra Haraldson', 'Debra Haraldson', 'Debra Haraldson', 'lbaker'],\n",
       "  'PJB': 'PJB 495'},\n",
       " {'FTP_page_id': 'page-33952894',\n",
       "  'title': '4',\n",
       "  'content': \"\\n<p>Finally, the very victories the NAACP has won created welcomed<br/>\\norganizational competition for the NAACP whin black America.  Where once we stood<br/>\\nalone as the unquestioned champion of black rights, the current <u>National Directory of<br/>\\nAfrican-American Organizations</u> lists approximately 250 nationwide organizations<br/>\\ngenerally dedicated to racial uplife, more than half established only since the middle<br/>\\n1960s.  Their growth is a reflection of the successes of affirmative action, generating<br/>\\nopportunity that created black professional organizations that could not have existed<br/>\\nbefore.  These groups do for their members --  black engineers, architects, skiers, elected<br/>\\nofficials, public administrators, Ivy League admissions officers -- what the NAACP alone<br/>\\nwould have done in years past.</p>\\n<p>The challenge of focusing our mission more sharply, the widespread belief that<br/>\\nthe racial paradise had arrived and the increased competition we faced from specialized,<br/>\\nsinge-issue organizations posed a threat to a precious resource -- our identity our relevance -- to who we<br/>\\nare and what we do.</p>\\n<p>At our most recent HBS retreat this past spring, we reaffirmed our commitment to<br/>\\nsocial justice -- that is who we are and what we do.  The task of divesting ourselves of<br/>\\nsocial service programs and directing all our energies toward fighting racial superiority<br/>\\nwill be difficult but we are determined it will be done.</p>\\n<p>I have appointed a Board Task Force charged with developing a strategic plan for<br/>\\nthe NAACP, a general guide to our development over the next five years.</p>\\n<p>We have contracted with the National Opinion Research Center at the University<br/>\\nof Chicago for a first time ever survey of our membership.  Within a year for the first time<br/>\\nwe will know who belongs to the NAACP and why.  We will also learn who doesn't<br/>\\nbelong and why they do not.</p>\\n<p>There are many other challenges facing the NAACP.  We suffer from some of the<br/>\\nsame afflictions as do all other volunteer organizations.  We are as good as or as bad as<br/>\\nthe people who are attracted to us are.</p>\\n<p>Like others, we are litigious -- frequently resorting to lawsuits to settle internal<br/>\\ndisputes.</p>\\n<p>[page] 4</p>\\n\",\n",
       "  'users': ['Debra Haraldson', 'Debra Haraldson', 'Debra Haraldson', 'lbaker'],\n",
       "  'PJB': 'PJB 495'},\n",
       " {'FTP_page_id': 'page-33952895',\n",
       "  'title': '5',\n",
       "  'content': '\\n<p>We have a real need to impose performance standards on our Branches -- to insist,<br/>\\nfor example, that conditions for maintaining an organizational charter include not simply<br/>\\na certain number of members on the rolls, but also a certain percentage of the<br/>\\nunregistered signed up to vote.</p>\\n<p>We allow our Branches to send contradictory messages to the public.  For<br/>\\nexample, our Pennsylvania Branches are trying to remove Mark Twain\\'s <u>Huckleberry<br/>\\nFinn</u> from the public schools while a Branch in nearby New Jersey is trying to keep Maya<br/>\\nAngelou\\'s <u>I Know Why The Caged Bird Sings</u> on reading lists.  We reserve the right to<br/>\\nobject to racail stereotypes, but we do not need to engage in censorship.</p>\\n<p>We will resolve our structural and operational problems, but the most important<br/>\\nchallenge ahead is the same one our founders faced 90 years ago.  One of them -- Harvard<br/>\\ngraduate W.E.B. DuBois -- said in 1905, \"the problem of the 20th century will be the<br/>\\nproblem of the color line.\"</p>\\n<p>Sadly, that also will be the problem of the century yet to come.</p>\\n<p>[page] -0-</p>\\n<p>business-<br/>\\nMtgy - [illegible]<br/>\\nS.C.</p>\\n',\n",
       "  'users': ['Debra Haraldson', 'Debra Haraldson', 'lbaker'],\n",
       "  'PJB': 'PJB 495'}]"
      ]
     },
     "execution_count": 12,
     "metadata": {},
     "output_type": "execute_result"
    }
   ],
   "source": [
    "pages"
   ]
  },
  {
   "cell_type": "code",
   "execution_count": 13,
   "metadata": {},
   "outputs": [],
   "source": [
    "grouped = defaultdict(list)\n",
    "for page in pages:\n",
    "    grouped[page['PJB']].append(page)\n",
    "\n",
    "merged_pages = [\n",
    "    {\n",
    "        'PJB': PJB,\n",
    "        'content': ' '.join(p['content'] for p in group if p['content']),\n",
    "        'users': sorted(set(u for p in group for u in p['users'])),\n",
    "    }\n",
    "    for PJB, group in grouped.items()\n",
    "]"
   ]
  },
  {
   "cell_type": "code",
   "execution_count": 14,
   "metadata": {},
   "outputs": [],
   "source": [
    "for page in merged_pages:\n",
    "\n",
    "    # get rid of newline characters\n",
    "    page['content'] = page['content'].replace('\\n','')\n",
    "\n",
    "    # add contributor language in the appropriate place\n",
    "    contributors = page.pop('users')\n",
    "    contributors = ', '.join(contributors)\n",
    "    page['content'] = page['content'] + \"<p>Thanks to FromThePage transcription contributors: \" + contributors + \"</p>\""
   ]
  },
  {
   "cell_type": "code",
   "execution_count": 34,
   "metadata": {
    "scrolled": true
   },
   "outputs": [
    {
     "ename": "FileNotFoundError",
     "evalue": "[WinError 3] The system cannot find the path specified: 'PDF experimentation/output CSVs'",
     "output_type": "error",
     "traceback": [
      "\u001b[1;31m---------------------------------------------------------------------------\u001b[0m",
      "\u001b[1;31mFileNotFoundError\u001b[0m                         Traceback (most recent call last)",
      "Cell \u001b[1;32mIn[34], line 1\u001b[0m\n\u001b[1;32m----> 1\u001b[0m os\u001b[38;5;241m.\u001b[39mchdir(\u001b[38;5;124m'\u001b[39m\u001b[38;5;124mPDF experimentation/output CSVs\u001b[39m\u001b[38;5;124m'\u001b[39m)\n",
      "\u001b[1;31mFileNotFoundError\u001b[0m: [WinError 3] The system cannot find the path specified: 'PDF experimentation/output CSVs'"
     ]
    }
   ],
   "source": [
    "# os.chdir('PDF experimentation/output CSVs')"
   ]
  },
  {
   "cell_type": "code",
   "execution_count": 15,
   "metadata": {},
   "outputs": [
    {
     "data": {
      "text/plain": [
       "'C:\\\\Users\\\\charl\\\\JBPP\\\\PDF experimentation'"
      ]
     },
     "execution_count": 15,
     "metadata": {},
     "output_type": "execute_result"
    }
   ],
   "source": [
    "# no worries it's just because I'm already in that directory, if I run the script top to bottom it's all good\n",
    "os.getcwd()"
   ]
  },
  {
   "cell_type": "code",
   "execution_count": 16,
   "metadata": {},
   "outputs": [],
   "source": [
    "os.chdir('output CSVs')"
   ]
  },
  {
   "cell_type": "markdown",
   "metadata": {},
   "source": [
    "**For longer documents:** you may need to write them to individual text files and paste them in manually. There is sometimes a character limit in what CSVs can display/import. 2700 is an example that worked well here, but when running this script normally you should raise it (maybe 10000? IDK what a good number is)"
   ]
  },
  {
   "cell_type": "code",
   "execution_count": 17,
   "metadata": {},
   "outputs": [],
   "source": [
    "to_remove = []\n",
    "for page in merged_pages:\n",
    "    if len(page['content']) >= 2700: # this obviously can and should be higher, but just as an example\n",
    "        pjb_id = page['PJB']\n",
    "        text = page['content']\n",
    "        with open(f\"{pjb_id}_output.txt\", \"w\", encoding=\"utf-8\") as f:\n",
    "            f.write(text)\n",
    "        to_remove.append(page)\n",
    "    \n",
    "for page in to_remove:\n",
    "    merged_pages.remove(page)"
   ]
  },
  {
   "cell_type": "code",
   "execution_count": 18,
   "metadata": {},
   "outputs": [],
   "source": [
    "export = pd.DataFrame(merged_pages)"
   ]
  },
  {
   "cell_type": "code",
   "execution_count": null,
   "metadata": {},
   "outputs": [],
   "source": [
    "# take a look at the export to make sure everything looks alright\n",
    "export"
   ]
  },
  {
   "cell_type": "code",
   "execution_count": 46,
   "metadata": {},
   "outputs": [],
   "source": [
    "export.to_csv(f'export_{label}.csv', index=False)"
   ]
  }
 ],
 "metadata": {
  "colab": {
   "provenance": []
  },
  "kernelspec": {
   "display_name": "virtual",
   "language": "python",
   "name": "myenv"
  },
  "language_info": {
   "codemirror_mode": {
    "name": "ipython",
    "version": 3
   },
   "file_extension": ".py",
   "mimetype": "text/x-python",
   "name": "python",
   "nbconvert_exporter": "python",
   "pygments_lexer": "ipython3",
   "version": "3.12.4"
  }
 },
 "nbformat": 4,
 "nbformat_minor": 4
}
