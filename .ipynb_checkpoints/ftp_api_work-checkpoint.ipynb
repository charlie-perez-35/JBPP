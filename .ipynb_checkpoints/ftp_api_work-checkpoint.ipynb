{
 "cells": [
  {
   "cell_type": "markdown",
   "metadata": {},
   "source": [
    "### FTP API data grab\n",
    "\n",
    "This file contains the code for downloading a FTP transcription export from their API\n",
    "\n",
    "Still a work in progress\n",
    "\n",
    "I am using Python's requests library because I have more facility in Python and Windows PowerShell is a curse that I prefer not to suffer under when I can avoid it. If on a MacOS or Linux/Unix system, the documentation on the FTP website explains how to accomplish this from the command line: https://content.fromthepage.com/project-owner-documentation/api-keys/ "
   ]
  },
  {
   "cell_type": "code",
   "execution_count": 11,
   "metadata": {},
   "outputs": [],
   "source": [
    "# hiding the API key\n",
    "import os\n",
    "import dotenv\n",
    "\n",
    "# change to the directory where the dotenv file is (unique for each person)\n",
    "os.chdir(\"/Users/charl/JBPP\")\n",
    "\n",
    "# load in stuff hidden in the .env file\n",
    "dotenv.load_dotenv()\n",
    "JBPP_key = os.getenv('JBPP_key')"
   ]
  },
  {
   "cell_type": "code",
   "execution_count": 13,
   "metadata": {
    "id": "lcFSx5yRjT_9"
   },
   "outputs": [],
   "source": [
    "# import required packages\n",
    "import requests\n",
    "import pandas as pd\n",
    "import json\n",
    "import re\n",
    "\n",
    "# code to create post request\n",
    "apikey = JBPP_key\n",
    "\n",
    "root = \"http://fromthepage.com/iiif\"\n",
    "endpoint = \"/collection/charlie-transfer-to-drupal\" # this endpoint is the only thing that needs editing \n",
    "# use IIIF slug found at bottom of \"export\" tab in FTP document set you want to export from\n",
    "headers = {\"Authorization\": f\"Token token={apikey}\"}"
   ]
  },
  {
   "cell_type": "code",
   "execution_count": 3,
   "metadata": {},
   "outputs": [],
   "source": [
    "# submit post request using requests library (operates same as cURL, just in Python)\n",
    "response = requests.post(root+endpoint, headers=headers)\n"
   ]
  },
  {
   "cell_type": "code",
   "execution_count": 4,
   "metadata": {},
   "outputs": [],
   "source": [
    "# to run if you wanna look at the raw text or check status\n",
    "\n",
    "# print(response.status_code)\n",
    "# should be 200\n",
    "# print(response.text)"
   ]
  },
  {
   "cell_type": "code",
   "execution_count": 5,
   "metadata": {},
   "outputs": [],
   "source": [
    "# convert to dataframe using json_normalize\n",
    "# record_path=['manifests'] is to ignore metadata associated with the API call that's returned in the response\n",
    "# but is not connected to the actual doc set content\n",
    "response_df = pd.json_normalize(json.loads(response.text), record_path=['manifests'])"
   ]
  },
  {
   "cell_type": "code",
   "execution_count": 6,
   "metadata": {},
   "outputs": [],
   "source": [
    "# if interested in taking a look at the dataframe:\n",
    "\n",
    "# response_df.head()\n",
    "# I'm curious if anything else will become metadata because there's more metadata in the bulk uploaded documents\n",
    "# If it breaks later, refer to that column to see how to fix it"
   ]
  },
  {
   "cell_type": "code",
   "execution_count": 7,
   "metadata": {
    "id": "vKxhL2XRm9DQ"
   },
   "outputs": [],
   "source": [
    "# don't run this cell (you can, you just don't need to)\n",
    "\n",
    "#bunch_of_tuples = [] # this is where we'll store all the key (PJB ID) - value (Document Body) pairs to convert to a dataframe\n",
    "\n",
    "#for i in range(len(response_df)): # iterates over each row of the dataframe - \n",
    "#    # there are other ways to do this but it's not prohibitively inefficient\n",
    "#    url = response_df['@id'][i] # indexes into the value in the first column of the dataframe (the IIIF url)\n",
    "#    cut = url.split('/')[4] # slices out the unique work_id - to be used to locate plaintext export\n",
    "#    try:\n",
    "#        pjb_id = response_df['metadata'][i][0]['value'] # tries to make key based on identifier aka PJB ID\n",
    "#    except TypeError:\n",
    "#       pjb_id = cut # if it fails, it instead makes key on the basis of the work_id (guaranteed to be unique)\n",
    "#    new_url = f'https://fromthepage.com/iiif/{cut}/export/plaintext/verbatim' # url that hosts the plaintext export\n",
    "#    final = requests.get(new_url) # get request on plaintext export url\n",
    "#    bunch_of_tuples.append((pjb_id, final.text)) # appends key-value pair to dictionary\n",
    "    "
   ]
  },
  {
   "cell_type": "code",
   "execution_count": 8,
   "metadata": {},
   "outputs": [],
   "source": [
    "# testing for XHTML compatibility (I think it might be better than plaintext)\n",
    "bunch_of_tuples = [] # this is where we'll store all the variable pairs (PJB ID, Document Body) to convert to a dataframe\n",
    "\n",
    "for i in range(len(response_df)): # iterates over each row of the dataframe - \n",
    "    # there are other ways to do this but it's not prohibitively inefficient\n",
    "    url = response_df['@id'][i] # indexes into the value in the first column of the dataframe (the IIIF url)\n",
    "    cut = url.split('/')[4] # slices out the unique work_id - to be used to locate html export\n",
    "    try:\n",
    "        pjb_id = response_df['metadata'][i][0]['value'] # tries to make key based on idenitifier aka PJB ID\n",
    "    except TypeError:\n",
    "        pjb_id = cut # if it fails, it instead makes key on the basis of the work_id (guaranteed to be unique)\n",
    "    new_url = f'https://fromthepage.com/iiif/{cut}/export/html' # url that hosts the html export\n",
    "    final = requests.get(new_url) # get request on html export url\n",
    "    html = final.text\n",
    "    title_position = html.find('<title>')\n",
    "    desired_content = html[title_position:] \n",
    "    bunch_of_tuples.append((pjb_id, desired_content))# appends to list of tuples"
   ]
  },
  {
   "cell_type": "code",
   "execution_count": 125,
   "metadata": {},
   "outputs": [],
   "source": [
    "# if you wanna check out the dictionary (should be same length as response_df)\n",
    "\n",
    "# bunch_of_tuples"
   ]
  },
  {
   "cell_type": "code",
   "execution_count": 104,
   "metadata": {},
   "outputs": [],
   "source": [
    "# create dataframe, label columns + set PJB ID as index\n",
    "df_final = pd.DataFrame(bunch_of_tuples, columns=['PJB ID', 'Document Body'])"
   ]
  },
  {
   "cell_type": "code",
   "execution_count": 106,
   "metadata": {},
   "outputs": [
    {
     "data": {
      "text/html": [
       "<div>\n",
       "<style scoped>\n",
       "    .dataframe tbody tr th:only-of-type {\n",
       "        vertical-align: middle;\n",
       "    }\n",
       "\n",
       "    .dataframe tbody tr th {\n",
       "        vertical-align: top;\n",
       "    }\n",
       "\n",
       "    .dataframe thead th {\n",
       "        text-align: right;\n",
       "    }\n",
       "</style>\n",
       "<table border=\"1\" class=\"dataframe\">\n",
       "  <thead>\n",
       "    <tr style=\"text-align: right;\">\n",
       "      <th></th>\n",
       "      <th>PJB ID</th>\n",
       "      <th>Document Body</th>\n",
       "    </tr>\n",
       "  </thead>\n",
       "  <tbody>\n",
       "    <tr>\n",
       "      <th>0</th>\n",
       "      <td>891</td>\n",
       "      <td>&lt;title&gt; To Julian Bond from M. Steven Lubet, 3...</td>\n",
       "    </tr>\n",
       "    <tr>\n",
       "      <th>1</th>\n",
       "      <td>PJB 1028</td>\n",
       "      <td>&lt;title&gt; To Julian Bond from Mac Barber and Wal...</td>\n",
       "    </tr>\n",
       "    <tr>\n",
       "      <th>2</th>\n",
       "      <td>PJB 1526</td>\n",
       "      <td>&lt;title&gt; To Julian Bond from Mae Nunley, with B...</td>\n",
       "    </tr>\n",
       "    <tr>\n",
       "      <th>3</th>\n",
       "      <td>887</td>\n",
       "      <td>&lt;title&gt; To Julian Bond from Maggie Gray, 9 Mar...</td>\n",
       "    </tr>\n",
       "    <tr>\n",
       "      <th>4</th>\n",
       "      <td>PJB807</td>\n",
       "      <td>&lt;title&gt; To Julian Bond from Malcolm Willison, ...</td>\n",
       "    </tr>\n",
       "    <tr>\n",
       "      <th>...</th>\n",
       "      <td>...</td>\n",
       "      <td>...</td>\n",
       "    </tr>\n",
       "    <tr>\n",
       "      <th>74</th>\n",
       "      <td>PJB 1385</td>\n",
       "      <td>&lt;title&gt; To Julian Bond from Willie Frank Danie...</td>\n",
       "    </tr>\n",
       "    <tr>\n",
       "      <th>75</th>\n",
       "      <td>PJB 1386</td>\n",
       "      <td>&lt;title&gt; To Julian Bond fron Myrtice Hardeman, ...</td>\n",
       "    </tr>\n",
       "    <tr>\n",
       "      <th>76</th>\n",
       "      <td>PJB 1389</td>\n",
       "      <td>&lt;title&gt; To Julian Bond fron Shirley Ann Woodar...</td>\n",
       "    </tr>\n",
       "    <tr>\n",
       "      <th>77</th>\n",
       "      <td>PJB 1126</td>\n",
       "      <td>&lt;title&gt; To Julian Bond to H. E. Ruark, 5 May 1...</td>\n",
       "    </tr>\n",
       "    <tr>\n",
       "      <th>78</th>\n",
       "      <td>1097</td>\n",
       "      <td>&lt;title&gt; To Julian Bond to M. Bell, 6 June 1967...</td>\n",
       "    </tr>\n",
       "  </tbody>\n",
       "</table>\n",
       "<p>79 rows × 2 columns</p>\n",
       "</div>"
      ],
      "text/plain": [
       "      PJB ID                                      Document Body\n",
       "0        891  <title> To Julian Bond from M. Steven Lubet, 3...\n",
       "1   PJB 1028  <title> To Julian Bond from Mac Barber and Wal...\n",
       "2   PJB 1526  <title> To Julian Bond from Mae Nunley, with B...\n",
       "3        887  <title> To Julian Bond from Maggie Gray, 9 Mar...\n",
       "4     PJB807  <title> To Julian Bond from Malcolm Willison, ...\n",
       "..       ...                                                ...\n",
       "74  PJB 1385  <title> To Julian Bond from Willie Frank Danie...\n",
       "75  PJB 1386  <title> To Julian Bond fron Myrtice Hardeman, ...\n",
       "76  PJB 1389  <title> To Julian Bond fron Shirley Ann Woodar...\n",
       "77  PJB 1126  <title> To Julian Bond to H. E. Ruark, 5 May 1...\n",
       "78      1097  <title> To Julian Bond to M. Bell, 6 June 1967...\n",
       "\n",
       "[79 rows x 2 columns]"
      ]
     },
     "execution_count": 106,
     "metadata": {},
     "output_type": "execute_result"
    }
   ],
   "source": [
    "df_final"
   ]
  },
  {
   "cell_type": "code",
   "execution_count": 56,
   "metadata": {},
   "outputs": [
    {
     "data": {
      "text/plain": [
       "['<title> To Julian Bond from Margaret Linton, 14 January 1968, with Bond&#39;s draft response</title>\\n    </head>\\n    \\n    <body>\\n    <h1 class=\"work-title\">To Julian Bond from Margaret Linton, 14 January 1968, with Bond&#39;s draft response</h1>\\n    <div class=\"export-metadata\"><span class=\"translation_missing\" title=\"translation missing: en.export.show.html.erb.export_metadata, work: To Julian Bond from Margaret Linton, 14 January 1968, with Bond&amp;#39;s draft response, collection: The Papers of Julian Bond, time: 2024-07-31 13:19:44 +0000\">Export Metadata</span>\\n        <p><span class=\"translation_missing\" title=\"translation missing: en.export.show.html.erb.identifier, work: PJB 1500\">Identifier</span></p>\\n      <p>\\n        <span class=\"translation_missing\" title=\"translation missing: en.export.show.html.erb.fromthepage_version, version: 22.10\">Fromthepage Version</span>\\n      </p>\\n    </div>\\n\\n    <hr />\\n    <h2 class=\"divider\"><span class=\"translation_missing\" title=\"translation missing: en.export.show.html.erb.page_transcripts\">Page Transcripts</span></h2>\\n\\n    <div class=\"pages\">\\n      <div id=\"page-33685367\">\\n        <h3><a name=\"page-33685367\">1</a></h3>\\n        <div class=\"page-content\">\\n              <p>The National Association of Negro Business and Professional Women\\'s Club, Inc.</p>\\n\\n<p>Youngstown, Ohio</p>\\n\\n<p>January 14, 1968</p>\\n\\n<p>Mr. Julian Bond<br/>\\nAtlanta, Georgia</p>\\n\\n<p>Dear Sir:</p>\\n\\n<p>After discussing several possible speakers for our annual Founders Day-Awards Program it was agreed that you were the one we would prefer. After having Senator Leroy Johnson here, we\\'re sure it would be difficult to equal his appeal. We are still getting comments on his great speech and hope that you can arrange to come on April 27th or May 4th, both Saturdays.</p>\\n\\n<p>Please favor us with an immediate answer stating the total cost required, and if you can accommodate us, please also include a biographical sketch and a couple black and white photos or snap shots for use in publicity.</p>\\n\\n<p>I enclose a stamped, self-addressed envelope for your use in replying as soon as possible. I spoke with Mrs. Leroy Johnson on the phone Saturday evening and she said she would relay my message to you, so you see how anxious we are to make contact with you.</p>\\n\\n<p>I am looking forward to meeting you soon...April 27th or May 4th. Thank you kindly.</p>\\n\\n<p>Most sincerely,<br/>\\n[signed Margaret Linton]<br/>\\n1730 Glenwood Avenue<br/>\\nYoungstown, Ohio  44511<br/>\\n216-746-0632</p>\\n        </div>\\n\\n            <div class=\"page-history\">\\n              <strong><span class=\"translation_missing\" title=\"translation missing: en.export.show.html.erb.page_edit_history\">Page Edit History</span></strong>\\n              <ul>\\n                <li>\\n                  <small class=\"page-version-username\">TeeTwoThree</small>\\n                  <small class=\"page-version-date\">09/28/2023 04:20 PM</small>\\n                </li>\\n                <li>\\n                  <small class=\"page-version-username\">TeeTwoThree</small>\\n                  <small class=\"page-version-date\">09/28/2023 04:20 PM</small>\\n                </li>\\n                <li>\\n                  <small class=\"page-version-username\">TeeTwoThree</small>\\n                  <small class=\"page-version-date\">09/28/2023 04:20 PM</small>\\n                </li>\\n                <li>\\n                  <small class=\"page-version-username\">TeeTwoThree</small>\\n                  <small class=\"page-version-date\">09/28/2023 04:19 PM</small>\\n                </li>\\n                <li>\\n                  <small class=\"page-version-username\">Carlos Perez</small>\\n                  <small class=\"page-version-date\">09/27/2023 03:51 PM</small>\\n                </li>\\n              </ul>\\n            </div>\\n\\n      </div>\\n      <br />\\n      <div id=\"page-33685368\">\\n        <h3><a name=\"page-33685368\">2</a></h3>\\n        <div class=\"page-content\">\\n              <p>Dear Mrs. Linton:</p>\\n\\n<p>Many thanks for your kind letter. Both Senator and Mrs Johnson have spoken to me of you.</p>\\n\\n<p>The May 4th date would be the best one for me.</p>\\n\\n<p>I would require round-trip air transportation, overnight hotel accomodations, and a fee of $250.00.</p>\\n\\n<p>I hope these terms are acceptable to your group, and look forward to hearing from you shortly.</p>\\n\\n<p>Sincerely,</p>\\n        </div>\\n\\n            <div class=\"page-history\">\\n              <strong><span class=\"translation_missing\" title=\"translation missing: en.export.show.html.erb.page_edit_history\">Page Edit History</span></strong>\\n              <ul>\\n                <li>\\n                  <small class=\"page-version-username\">TeeTwoThree</small>\\n                  <small class=\"page-version-date\">09/28/2023 04:24 PM</small>\\n                </li>\\n                <li>\\n                  <small class=\"page-version-username\">TeeTwoThree</small>\\n                  <small class=\"page-version-date\">09/28/2023 04:23 PM</small>\\n                </li>\\n                <li>\\n                  <small class=\"page-version-username\">Carlos Perez</small>\\n                  <small class=\"page-version-date\">09/27/2023 03:51 PM</small>\\n                </li>\\n              </ul>\\n            </div>\\n\\n      </div>\\n      <br />\\n    </div>\\n\\n      <hr />\\n    </body>\\n  </html>\\n']"
      ]
     },
     "execution_count": 56,
     "metadata": {},
     "output_type": "execute_result"
    }
   ],
   "source": [
    "# to check how it looks with a two page doc\n",
    "newlist = [x for x in list if \"To Julian Bond from Margaret Linton\" in x]\n",
    "# newlist"
   ]
  },
  {
   "cell_type": "code",
   "execution_count": 80,
   "metadata": {},
   "outputs": [
    {
     "data": {
      "text/plain": [
       "'<title> To Julian Bond from M. Steven Lubet, 3 Mar 1967, with Bond note</title>\\n    </head>\\n    \\n    <body>\\n    <h1 class=\"work-title\">To Julian Bond from M. Steven Lubet, 3 Mar 1967, with Bond note</h1>\\n    <div class=\"export-metadata\"><span class=\"translation_missing\" title=\"translation missing: en.export.show.html.erb.export_metadata, work: To Julian Bond from M. Steven Lubet, 3 Mar 1967, with Bond note, collection: The Papers of Julian Bond, time: 2024-07-31 13:19:43 +0000\">Export Metadata</span>\\n        <p><span class=\"translation_missing\" title=\"translation missing: en.export.show.html.erb.identifier, work: 891\">Identifier</span></p>\\n      <p>\\n        <span class=\"translation_missing\" title=\"translation missing: en.export.show.html.erb.fromthepage_version, version: 22.10\">Fromthepage Version</span>\\n      </p>\\n    </div>\\n\\n    <hr />\\n    <h2 class=\"divider\"><span class=\"translation_missing\" title=\"translation missing: en.export.show.html.erb.page_transcripts\">Page Transcripts</span></h2>\\n\\n    <div class=\"pages\">\\n      <div id=\"page-33458736\">\\n        <h3><a name=\"page-33458736\">1</a></h3>\\n        <div class=\"page-content\">\\n              <p>Students for a Democratic Society</p>\\n\\n<p>Box 31</p>\\n\\n<p>2305 Sheridan Road</p>\\n\\n<p>Evanston, Illinois</p>\\n\\n<p>March 3, 1967</p>\\n\\n<p>Rep. Julian Bond</p>\\n\\n<p>House of Representatives</p>\\n\\n<p>Atlanta, Georgia</p>\\n\\n<p>Dear Rep. Bond,</p>\\n\\n<p>To increase our understanding of the day\\'s events, the Northwestern University chapter of Students for a Democratic Society will sponsor a Viet Nam Teach-In on April 13 as its part in the national Week of Mobilization, April 8-15.</p>\\n\\n<p>In view of your commitment to democratic ideals and world peace, we invite you to speak.  If you are able to attend, please reply by March 27; the date for the Teach-In is only a little more than a month away and a program and publicity have still to be arranged.</p>\\n\\n<p>We hope you will be able to attend.  If transportation or housing will be a problem, please contact us as soon as possible.</p>\\n\\n<p>Yours truly,</p>\\n\\n<p>M. Steven Lubet</p>\\n\\n<p>President, NUSDS</p>\\n\\n<p><sup>(I have a previous committment)</sup></p>\\n        </div>\\n\\n            <div class=\"page-history\">\\n              <strong><span class=\"translation_missing\" title=\"translation missing: en.export.show.html.erb.page_edit_history\">Page Edit History</span></strong>\\n              <ul>\\n                <li>\\n                  <small class=\"page-version-username\">Greg14</small>\\n                  <small class=\"page-version-date\">09/07/2023 09:33 PM</small>\\n                </li>\\n                <li>\\n                  <small class=\"page-version-username\">Sarah Ahmad </small>\\n                  <small class=\"page-version-date\">08/31/2023 08:45 PM</small>\\n                </li>\\n              </ul>\\n            </div>\\n\\n      </div>\\n      <br />\\n    </div>\\n\\n      <hr />\\n    </body>\\n  </html>\\n'"
      ]
     },
     "execution_count": 80,
     "metadata": {},
     "output_type": "execute_result"
    }
   ],
   "source": [
    "# if you wanna take a look at the final dataframe\n",
    "\n",
    "mylist = df_final['Document Body'].tolist()\n",
    "mylist[0]\n",
    "# I wonder if the title tags would break this"
   ]
  },
  {
   "cell_type": "code",
   "execution_count": 88,
   "metadata": {},
   "outputs": [],
   "source": [
    "editors_tag = 'small'\n",
    "editors_tag_class = ' class=\"page-version-username\"'\n",
    "# title_tag = 'title'\n",
    "# title_tag_class = ''\n",
    "# I think I would prefer to match on title even if PJB ID is more robust because title is easier to extrac\n",
    "content_tag = 'div'\n",
    "content_tag_class = ' class=\"page-content\"'\n",
    "tags = {editors_tag: editors_tag_class,\n",
    "       # title_tag: title_tag_class,\n",
    "       content_tag: content_tag_class}\n",
    "final_list = []\n",
    "\n",
    "for i in range(len(mylist)):\n",
    "    dirty = mylist[i]\n",
    "    dictionary = {}\n",
    "    for tag, tag_class in tags.items():\n",
    "        reg_str = \"<\" + tag + tag_class + \">(.*?)</\" + tag + \">\"\n",
    "        res = re.findall(reg_str, dirty, re.DOTALL)\n",
    "        key = tag\n",
    "        dictionary[key] = res\n",
    "    dictionary['small'] = set(dictionary['small'])\n",
    "    for k,v in dictionary.items():\n",
    "        target = ' '.join(v)\n",
    "        target_stage_2 = target.replace('\\n','')\n",
    "        dictionary[k] = target_stage_2.strip(' ')\n",
    "    check = dictionary['div'] + \"<p>Thanks to FromThePage transcription contributors: \" + dictionary['small'] + \"</p>\"\n",
    "    final_list.append(check)\n",
    "    "
   ]
  },
  {
   "cell_type": "code",
   "execution_count": 108,
   "metadata": {},
   "outputs": [],
   "source": [
    "df_final['Document Body'] = final_list"
   ]
  },
  {
   "cell_type": "code",
   "execution_count": 118,
   "metadata": {},
   "outputs": [
    {
     "name": "stdout",
     "output_type": "stream",
     "text": [
      "['PJB 891', 'PJB 1028', 'PJB 1526', 'PJB 887', 'PJB 807', 'PJB 1500', 'PJB 867', 'PJB 996', 'PJB 785', 'PJB 786', 'PJB 913', 'PJB 771', 'PJB 1099', 'PJB 1482', 'PJB 889', 'PJB 1470', 'PJB 930', 'PJB 831', 'PJB 820', 'PJB 986', 'PJB 1131', 'PJB 1058', 'PJB 1132', 'PJB 847', 'PJB 893', 'PJB 1471', 'PJB 917', 'PJB 982', 'PJB 877', 'PJB 1093', 'PJB 1095', 'PJB 1018', 'PJB 748', 'PJB 1147', 'PJB 1245', 'PJB 1030', 'PJB 1243', 'PJB 1037', 'PJB 1138', 'PJB 1012', 'PJB 810', 'PJB 1510', 'PJB 1230', 'PJB 1229', 'PJB 907', 'PJB 947', 'PJB 994', 'PJB 740', 'PJB 1151', 'PJB 980', 'PJB 823', 'PJB 1192', 'PJB 1085', 'PJB 1323', 'PJB 1467', 'PJB 1104', 'PJB 963', 'PJB 923', 'PJB 744', 'PJB 940', 'PJB 779', 'PJB 1549', 'PJB 897', 'PJB 1542', 'PJB 1160', 'PJB 1101', 'PJB 1469', 'PJB 1299', 'PJB 1060', 'PJB 861', 'PJB 1562', 'PJB 691', 'PJB 932', 'PJB 915', 'PJB 1385', 'PJB 1386', 'PJB 1389', 'PJB 1126', 'PJB 1097']\n"
     ]
    },
    {
     "data": {
      "text/html": [
       "<div>\n",
       "<style scoped>\n",
       "    .dataframe tbody tr th:only-of-type {\n",
       "        vertical-align: middle;\n",
       "    }\n",
       "\n",
       "    .dataframe tbody tr th {\n",
       "        vertical-align: top;\n",
       "    }\n",
       "\n",
       "    .dataframe thead th {\n",
       "        text-align: right;\n",
       "    }\n",
       "</style>\n",
       "<table border=\"1\" class=\"dataframe\">\n",
       "  <thead>\n",
       "    <tr style=\"text-align: right;\">\n",
       "      <th></th>\n",
       "      <th>PJB ID</th>\n",
       "      <th>Document Body</th>\n",
       "    </tr>\n",
       "  </thead>\n",
       "  <tbody>\n",
       "    <tr>\n",
       "      <th>0</th>\n",
       "      <td>PJB 891</td>\n",
       "      <td>&lt;p&gt;Students for a Democratic Society&lt;/p&gt;&lt;p&gt;Box...</td>\n",
       "    </tr>\n",
       "    <tr>\n",
       "      <th>1</th>\n",
       "      <td>PJB 1028</td>\n",
       "      <td>&lt;p&gt;GEORGIA EDUCATIONAL IMPROVEMENT COUNCIL&lt;/p&gt;...</td>\n",
       "    </tr>\n",
       "    <tr>\n",
       "      <th>2</th>\n",
       "      <td>PJB 1526</td>\n",
       "      <td>&lt;p&gt;P.O. Box 66&lt;br/&gt;Mary Holmes College&lt;br/&gt;Wes...</td>\n",
       "    </tr>\n",
       "    <tr>\n",
       "      <th>3</th>\n",
       "      <td>PJB 887</td>\n",
       "      <td>&lt;p&gt;March 9, 1967&lt;/p&gt;&lt;p&gt;Savannah, Georgia&lt;/p&gt;&lt;p...</td>\n",
       "    </tr>\n",
       "    <tr>\n",
       "      <th>4</th>\n",
       "      <td>PJB 807</td>\n",
       "      <td>&lt;p&gt;66 Union Avenue&lt;br/&gt;Schenectady, N.Y.  1230...</td>\n",
       "    </tr>\n",
       "    <tr>\n",
       "      <th>...</th>\n",
       "      <td>...</td>\n",
       "      <td>...</td>\n",
       "    </tr>\n",
       "    <tr>\n",
       "      <th>74</th>\n",
       "      <td>PJB 1385</td>\n",
       "      <td>&lt;p&gt;129 Marion Place #B2at E.&lt;br/&gt;Atlanta 7, Ge...</td>\n",
       "    </tr>\n",
       "    <tr>\n",
       "      <th>75</th>\n",
       "      <td>PJB 1386</td>\n",
       "      <td>&lt;p&gt;1811 Goddard Street, Southeast&lt;br/&gt;Atlanta,...</td>\n",
       "    </tr>\n",
       "    <tr>\n",
       "      <th>76</th>\n",
       "      <td>PJB 1389</td>\n",
       "      <td>&lt;p&gt;697 Windson Street, S.W.&lt;br/&gt;Atlanta, Georg...</td>\n",
       "    </tr>\n",
       "    <tr>\n",
       "      <th>77</th>\n",
       "      <td>PJB 1126</td>\n",
       "      <td>&lt;p&gt;WALLACE ADAMS                              ...</td>\n",
       "    </tr>\n",
       "    <tr>\n",
       "      <th>78</th>\n",
       "      <td>PJB 1097</td>\n",
       "      <td>&lt;p&gt;Heated Swimming Pool&lt;br/&gt;Telephone In Each ...</td>\n",
       "    </tr>\n",
       "  </tbody>\n",
       "</table>\n",
       "<p>79 rows × 2 columns</p>\n",
       "</div>"
      ],
      "text/plain": [
       "      PJB ID                                      Document Body\n",
       "0    PJB 891  <p>Students for a Democratic Society</p><p>Box...\n",
       "1   PJB 1028  <p>GEORGIA EDUCATIONAL IMPROVEMENT COUNCIL</p>...\n",
       "2   PJB 1526  <p>P.O. Box 66<br/>Mary Holmes College<br/>Wes...\n",
       "3    PJB 887  <p>March 9, 1967</p><p>Savannah, Georgia</p><p...\n",
       "4    PJB 807  <p>66 Union Avenue<br/>Schenectady, N.Y.  1230...\n",
       "..       ...                                                ...\n",
       "74  PJB 1385  <p>129 Marion Place #B2at E.<br/>Atlanta 7, Ge...\n",
       "75  PJB 1386  <p>1811 Goddard Street, Southeast<br/>Atlanta,...\n",
       "76  PJB 1389  <p>697 Windson Street, S.W.<br/>Atlanta, Georg...\n",
       "77  PJB 1126  <p>WALLACE ADAMS                              ...\n",
       "78  PJB 1097  <p>Heated Swimming Pool<br/>Telephone In Each ...\n",
       "\n",
       "[79 rows x 2 columns]"
      ]
     },
     "execution_count": 118,
     "metadata": {},
     "output_type": "execute_result"
    }
   ],
   "source": [
    "id_list = df_final['PJB ID'].to_list()\n",
    "new_ids = []\n",
    "for id in id_list:\n",
    "    # Remove any spaces or PJBs for standardization\n",
    "    id = id.replace(\" \", \"\")\n",
    "    id = id.replace(\"PJB\", \"\")\n",
    "    id = 'PJB ' + id\n",
    "    new_ids.append(id)\n",
    "        \n",
    "print(new_ids)\n",
    "df_final['PJB ID'] = new_ids\n",
    "df_final"
   ]
  },
  {
   "cell_type": "code",
   "execution_count": 122,
   "metadata": {},
   "outputs": [],
   "source": [
    "# export to csv for transfer to Drupal!\n",
    "\n",
    "df_final.to_csv('export_to_drupal_final.csv', index=False)"
   ]
  }
 ],
 "metadata": {
  "colab": {
   "provenance": []
  },
  "kernelspec": {
   "display_name": "Python 3 (ipykernel)",
   "language": "python",
   "name": "python3"
  },
  "language_info": {
   "codemirror_mode": {
    "name": "ipython",
    "version": 3
   },
   "file_extension": ".py",
   "mimetype": "text/x-python",
   "name": "python",
   "nbconvert_exporter": "python",
   "pygments_lexer": "ipython3",
   "version": "3.12.4"
  }
 },
 "nbformat": 4,
 "nbformat_minor": 4
}
