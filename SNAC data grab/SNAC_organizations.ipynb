{
 "cells": [
  {
   "cell_type": "markdown",
   "id": "311bff1e-db75-4b8d-816e-af5edc3c0804",
   "metadata": {},
   "source": [
    "# SNAC API grab - related orgs\n",
    "\n",
    "Decided to separate this from related people since I've finished the people import and am guessing that the orgs will require something very different."
   ]
  },
  {
   "cell_type": "code",
   "execution_count": 1,
   "id": "2b4a4b14-403c-443d-a0c0-20c18bd06775",
   "metadata": {},
   "outputs": [],
   "source": [
    "import time\n",
    "from datetime import datetime\n",
    "import pandas as pd\n",
    "import numpy as np\n",
    "import requests\n",
    "import json"
   ]
  },
  {
   "cell_type": "code",
   "execution_count": 2,
   "id": "69d4913e-2b07-481e-9235-fe0dfda8834b",
   "metadata": {},
   "outputs": [],
   "source": [
    "query = \"\"\"\n",
    "{\n",
    "    \"command\": \"read\",\n",
    "    \"constellationid\": 83834110\n",
    "}\n",
    "\"\"\"\n",
    "url = 'https://api.snaccooperative.org/'"
   ]
  },
  {
   "cell_type": "code",
   "execution_count": 3,
   "id": "83546347-198e-4927-aa4f-604476094022",
   "metadata": {},
   "outputs": [
    {
     "name": "stdout",
     "output_type": "stream",
     "text": [
      "<Response [200]>\n"
     ]
    }
   ],
   "source": [
    "# query SNAC for Bond's constellation\n",
    "\n",
    "response = requests.put(url, query)\n",
    "print(response)"
   ]
  },
  {
   "cell_type": "code",
   "execution_count": 4,
   "id": "f3d44f83-725e-4ad2-9bab-18d329774985",
   "metadata": {},
   "outputs": [
    {
     "data": {
      "text/html": [
       "<div>\n",
       "<style scoped>\n",
       "    .dataframe tbody tr th:only-of-type {\n",
       "        vertical-align: middle;\n",
       "    }\n",
       "\n",
       "    .dataframe tbody tr th {\n",
       "        vertical-align: top;\n",
       "    }\n",
       "\n",
       "    .dataframe thead th {\n",
       "        text-align: right;\n",
       "    }\n",
       "</style>\n",
       "<table border=\"1\" class=\"dataframe\">\n",
       "  <thead>\n",
       "    <tr style=\"text-align: right;\">\n",
       "      <th></th>\n",
       "      <th>constellation_id</th>\n",
       "      <th>name</th>\n",
       "      <th>entity_type</th>\n",
       "    </tr>\n",
       "  </thead>\n",
       "  <tbody>\n",
       "    <tr>\n",
       "      <th>0</th>\n",
       "      <td>5532829</td>\n",
       "      <td>American Civil Liberties Union.</td>\n",
       "      <td>corporateBody</td>\n",
       "    </tr>\n",
       "    <tr>\n",
       "      <th>1</th>\n",
       "      <td>76111561</td>\n",
       "      <td>American Folklife Center</td>\n",
       "      <td>corporateBody</td>\n",
       "    </tr>\n",
       "    <tr>\n",
       "      <th>2</th>\n",
       "      <td>47287903</td>\n",
       "      <td>American Foundation For Equal Rights.</td>\n",
       "      <td>corporateBody</td>\n",
       "    </tr>\n",
       "    <tr>\n",
       "      <th>3</th>\n",
       "      <td>33162909</td>\n",
       "      <td>Antioch review.</td>\n",
       "      <td>corporateBody</td>\n",
       "    </tr>\n",
       "    <tr>\n",
       "      <th>4</th>\n",
       "      <td>47966548</td>\n",
       "      <td>Atlanta University Center (Ga.)</td>\n",
       "      <td>corporateBody</td>\n",
       "    </tr>\n",
       "  </tbody>\n",
       "</table>\n",
       "</div>"
      ],
      "text/plain": [
       "  constellation_id                                   name    entity_type\n",
       "0          5532829        American Civil Liberties Union.  corporateBody\n",
       "1         76111561               American Folklife Center  corporateBody\n",
       "2         47287903  American Foundation For Equal Rights.  corporateBody\n",
       "3         33162909                        Antioch review.  corporateBody\n",
       "4         47966548        Atlanta University Center (Ga.)  corporateBody"
      ]
     },
     "execution_count": 4,
     "metadata": {},
     "output_type": "execute_result"
    }
   ],
   "source": [
    "text = response.text\n",
    "text_json = json.loads(text)\n",
    "\n",
    "relations = text_json['constellation']['relations']\n",
    "\n",
    "relations_data = pd.DataFrame([(i['targetConstellation'], i['content'], i['targetEntityType']['term']) for i in relations])\n",
    "relations_data.columns = ['constellation_id', 'name', 'entity_type']\n",
    "relations_data.head()"
   ]
  },
  {
   "cell_type": "code",
   "execution_count": 5,
   "id": "0653902b-b9db-45c7-b01a-5194bed6bcd2",
   "metadata": {},
   "outputs": [
    {
     "data": {
      "text/plain": [
       "entity_type\n",
       "person           155\n",
       "corporateBody     53\n",
       "family             3\n",
       "Name: count, dtype: int64"
      ]
     },
     "execution_count": 5,
     "metadata": {},
     "output_type": "execute_result"
    }
   ],
   "source": [
    "relations_data.entity_type.value_counts()"
   ]
  },
  {
   "cell_type": "code",
   "execution_count": 6,
   "id": "24c9ea4f-71a4-4d9e-9110-93269ae58544",
   "metadata": {},
   "outputs": [
    {
     "data": {
      "text/html": [
       "<div>\n",
       "<style scoped>\n",
       "    .dataframe tbody tr th:only-of-type {\n",
       "        vertical-align: middle;\n",
       "    }\n",
       "\n",
       "    .dataframe tbody tr th {\n",
       "        vertical-align: top;\n",
       "    }\n",
       "\n",
       "    .dataframe thead th {\n",
       "        text-align: right;\n",
       "    }\n",
       "</style>\n",
       "<table border=\"1\" class=\"dataframe\">\n",
       "  <thead>\n",
       "    <tr style=\"text-align: right;\">\n",
       "      <th></th>\n",
       "      <th>constellation_id</th>\n",
       "      <th>name</th>\n",
       "      <th>entity_type</th>\n",
       "    </tr>\n",
       "  </thead>\n",
       "  <tbody>\n",
       "    <tr>\n",
       "      <th>10</th>\n",
       "      <td>29280972</td>\n",
       "      <td>Bond family.</td>\n",
       "      <td>family</td>\n",
       "    </tr>\n",
       "    <tr>\n",
       "      <th>158</th>\n",
       "      <td>5965928</td>\n",
       "      <td>Rubinstein family.</td>\n",
       "      <td>family</td>\n",
       "    </tr>\n",
       "    <tr>\n",
       "      <th>205</th>\n",
       "      <td>70036600</td>\n",
       "      <td>Wilson, Bill (William Bryan), 1914-1993</td>\n",
       "      <td>family</td>\n",
       "    </tr>\n",
       "  </tbody>\n",
       "</table>\n",
       "</div>"
      ],
      "text/plain": [
       "    constellation_id                                     name entity_type\n",
       "10          29280972                             Bond family.      family\n",
       "158          5965928                       Rubinstein family.      family\n",
       "205         70036600  Wilson, Bill (William Bryan), 1914-1993      family"
      ]
     },
     "execution_count": 6,
     "metadata": {},
     "output_type": "execute_result"
    }
   ],
   "source": [
    "relations_data[relations_data.entity_type == 'family']"
   ]
  },
  {
   "cell_type": "code",
   "execution_count": 7,
   "id": "6a520dc2-5c3d-49ca-9e3f-ac39c6f56638",
   "metadata": {},
   "outputs": [],
   "source": [
    "# think I don't necessarily want to deal with that right now. Bit weird though. Shoutout Bill Wilson.\n",
    "orgs = relations_data[relations_data.entity_type == 'corporateBody']"
   ]
  },
  {
   "cell_type": "code",
   "execution_count": 10,
   "id": "bc48931d-c804-45da-bc28-ee4f1dfc5b00",
   "metadata": {},
   "outputs": [
    {
     "data": {
      "text/plain": [
       "0                        American Civil Liberties Union.\n",
       "1                               American Folklife Center\n",
       "2                  American Foundation For Equal Rights.\n",
       "3                                        Antioch review.\n",
       "4                        Atlanta University Center (Ga.)\n",
       "5                                  Atlanta Urban League.\n",
       "7                                     Barnes Foundation.\n",
       "20                  Brotherhood of Sleeping Car Porters.\n",
       "25                          Center for Community Change.\n",
       "26     Central Michigan University. Office of the Pre...\n",
       "31     Citizens Board of Inquiry into Health Services...\n",
       "37                 Committee on Appeal for Human Rights.\n",
       "38      Communist Party of the United States of America.\n",
       "43                             David Pearson Associates,\n",
       "47     Democratic National Convention (1968 : Chicago...\n",
       "48     Democratic National Convention (1984 : San Fra...\n",
       "49                                Democratic Party (Ga.)\n",
       "50                               Democratic Party (U.S.)\n",
       "56              Duke University. Living History Program.\n",
       "68                                Free Southern Theater.\n",
       "69              Fund for reconciliation and development.\n",
       "73     Georgia. General Assembly. House of Representa...\n",
       "74                     Georgia. General Assembly. Senate\n",
       "75             Georgia Government Documentation Project.\n",
       "85                              Harvard Law School Forum\n",
       "108                                      KVOS Channel 12\n",
       "116              Massachusetts Black Legislative Caucus.\n",
       "127                     Morehouse College (Atlanta, Ga.)\n",
       "130    National Association for the Advancement of Co...\n",
       "131               National Domestic Workers Union (U.S.)\n",
       "132    National Museum of African American History an...\n",
       "133                  National Sharecroppers' Fund (U.S.)\n",
       "134                               National Urban League.\n",
       "136                    New Democratic Coalition of Ohio.\n",
       "146    Rabinowitz, Boudin, Standard, Krinsky and Lieb...\n",
       "169            Southern Christian Leadership Conference.\n",
       "170                             Southern Elections Fund.\n",
       "171                             Southern Elections Fund.\n",
       "172                             Southern Elections Fund.\n",
       "173                         Southern Poverty Law Center.\n",
       "174                           Southern Regional Council.\n",
       "179     Student Nonviolent Coordinating Committee (U.S.)\n",
       "180    Student Nonviolent Coordinating Committee (U.S...\n",
       "183    The images were created by the Office of News ...\n",
       "192    United Church Board for Homeland Ministries. R...\n",
       "193    University of North Carolina at Chapel Hill. G...\n",
       "194    University of Oklahoma. Political Commercial A...\n",
       "195                               University of Virginia\n",
       "196                           Virginia State University.\n",
       "197                             Voter Education Project.\n",
       "198         Voter Education Project, Inc. (Atlanta, Ga.)\n",
       "200                  WDBS (Radio station : Durham, N.C.)\n",
       "210                              Youth Citizenship Fund.\n",
       "Name: name, dtype: object"
      ]
     },
     "execution_count": 10,
     "metadata": {},
     "output_type": "execute_result"
    }
   ],
   "source": [
    "orgs.name"
   ]
  },
  {
   "cell_type": "code",
   "execution_count": 11,
   "id": "3713b75d-4563-4cf2-979c-012dada2fbb2",
   "metadata": {},
   "outputs": [],
   "source": [
    "# lotta weird stuff happening here (why three SEFs?)\n",
    "# think I want to just scrape everything and then decide what I want to do with them."
   ]
  },
  {
   "cell_type": "code",
   "execution_count": 13,
   "id": "dc4d96c7-6e92-438a-bf5b-e458ff08bb8d",
   "metadata": {},
   "outputs": [
    {
     "data": {
      "text/plain": [
       "constellation_id                            5532829\n",
       "name                American Civil Liberties Union.\n",
       "entity_type                           corporateBody\n",
       "Name: 0, dtype: object"
      ]
     },
     "execution_count": 13,
     "metadata": {},
     "output_type": "execute_result"
    }
   ],
   "source": [
    "orgs.loc[0,:]"
   ]
  },
  {
   "cell_type": "code",
   "execution_count": 14,
   "id": "56766cca-5c8d-4c71-af36-4f3731a08871",
   "metadata": {},
   "outputs": [],
   "source": [
    "# test query: let's look at the ACLU's response\n",
    "\n",
    "test_data = {\n",
    "    \"command\": \"read\",\n",
    "    \"constellationid\": \"5532829\"\n",
    "}\n",
    "\n",
    "test_query = json.dumps(test_data)\n",
    "test_response = requests.put(url, test_query)\n",
    "test_json = json.loads(test_response.text)"
   ]
  },
  {
   "cell_type": "code",
   "execution_count": 30,
   "id": "4a3b1500-1069-4a6e-bc67-73bbf38ca8ce",
   "metadata": {},
   "outputs": [
    {
     "data": {
      "text/plain": [
       "'American Civil Liberties Union'"
      ]
     },
     "execution_count": 30,
     "metadata": {},
     "output_type": "execute_result"
    }
   ],
   "source": [
    "test_json['constellation']['nameEntries'][0]['original']"
   ]
  },
  {
   "cell_type": "code",
   "execution_count": 16,
   "id": "749c8dc5-1f5c-44a5-ba28-d528a1fa2b9f",
   "metadata": {},
   "outputs": [],
   "source": [
    "# well I understand why it took so long this thing is freaking huge\n",
    "# full history is too big to display on our site, we should stick to redirecting\n",
    "\n",
    "org_data = []\n",
    "\n",
    "for idx, row in orgs.iterrows():\n",
    "    \n",
    "    data = {\n",
    "        \"command\": \"read\",\n",
    "        \"constellationid\": row['constellation_id']\n",
    "    }\n",
    "\n",
    "    query = json.dumps(data)\n",
    "    response = requests.put(url, query)\n",
    "    json_text = json.loads(response.text)\n",
    "\n",
    "    constellation = json_text['constellation']\n",
    "\n",
    "    try:\n",
    "        name = constellation['nameEntries'][0]['original']\n",
    "    except:\n",
    "        name = ''\n",
    "\n",
    "    arkid = constellation['ark']\n",
    "\n",
    "    info = {'name': name, 'arkid': arkid, 'constellation_id': row['constellation_id']}\n",
    "\n",
    "    org_data.append(info)"
   ]
  }
 ],
 "metadata": {
  "kernelspec": {
   "display_name": "virtual",
   "language": "python",
   "name": "myenv"
  },
  "language_info": {
   "codemirror_mode": {
    "name": "ipython",
    "version": 3
   },
   "file_extension": ".py",
   "mimetype": "text/x-python",
   "name": "python",
   "nbconvert_exporter": "python",
   "pygments_lexer": "ipython3",
   "version": "3.12.4"
  }
 },
 "nbformat": 4,
 "nbformat_minor": 5
}
