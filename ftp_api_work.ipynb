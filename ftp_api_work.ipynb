{
 "cells": [
  {
   "cell_type": "markdown",
   "metadata": {},
   "source": [
    "### FTP API data grab\n",
    "\n",
    "This file contains the code for downloading a FTP transcription export from their API\n",
    "\n",
    "Still a work in progress\n",
    "\n",
    "I am using Python's requests library because I have more facility in Python and Windows PowerShell is a curse that I prefer not to suffer under when I can avoid it. If on a MacOS or Linux/Unix system, the documentation on the FTP website explains how to accomplish this from the command line: https://content.fromthepage.com/project-owner-documentation/api-keys/ "
   ]
  },
  {
   "cell_type": "code",
   "execution_count": 1,
   "metadata": {},
   "outputs": [],
   "source": [
    "# hiding the API key\n",
    "import os\n",
    "import dotenv\n",
    "\n",
    "# change to the directory where the dotenv file is (unique for each person)\n",
    "os.chdir(\"/Users/charl/JBPP\")\n",
    "\n",
    "# load in stuff hidden in the .env file\n",
    "dotenv.load_dotenv()\n",
    "JBPP_key = os.getenv('JBPP_key')"
   ]
  },
  {
   "cell_type": "code",
   "execution_count": 3,
   "metadata": {
    "id": "lcFSx5yRjT_9"
   },
   "outputs": [],
   "source": [
    "# import required packages\n",
    "import requests\n",
    "import pandas as pd\n",
    "import json\n",
    "import re\n",
    "\n",
    "# code to create post request\n",
    "apikey = JBPP_key\n",
    "\n",
    "root = \"http://fromthepage.com/iiif\"\n",
    "endpoint = \"/collection/charlie-transfer-to-drupal\" # this endpoint is the only thing that needs editing \n",
    "# use IIIF slug found at bottom of \"export\" tab in FTP document set you want to export from\n",
    "headers = {\"Authorization\": f\"Token token={apikey}\"}"
   ]
  },
  {
   "cell_type": "code",
   "execution_count": 5,
   "metadata": {},
   "outputs": [],
   "source": [
    "# submit post request using requests library (operates same as cURL, just in Python)\n",
    "response = requests.post(root+endpoint, headers=headers)\n"
   ]
  },
  {
   "cell_type": "code",
   "execution_count": 4,
   "metadata": {},
   "outputs": [],
   "source": [
    "# to run if you wanna look at the raw text or check status\n",
    "\n",
    "# print(response.status_code)\n",
    "# should be 200\n",
    "# print(response.text)"
   ]
  },
  {
   "cell_type": "code",
   "execution_count": 7,
   "metadata": {},
   "outputs": [],
   "source": [
    "# convert to dataframe using json_normalize\n",
    "# record_path=['manifests'] is to ignore metadata associated with the API call that's returned in the response\n",
    "# but is not connected to the actual doc set content\n",
    "response_df = pd.json_normalize(json.loads(response.text), record_path=['manifests'])"
   ]
  },
  {
   "cell_type": "code",
   "execution_count": 11,
   "metadata": {},
   "outputs": [],
   "source": [
    "# if interested in taking a look at the dataframe:\n",
    "\n",
    "# response_df.head()\n",
    "# I'm curious if anything else will become metadata because there's more metadata in the bulk uploaded documents\n",
    "# If it breaks later, refer to that column to see how to fix it"
   ]
  },
  {
   "cell_type": "code",
   "execution_count": 7,
   "metadata": {
    "id": "vKxhL2XRm9DQ"
   },
   "outputs": [],
   "source": [
    "# don't run this cell (you can, you just don't need to)\n",
    "\n",
    "#bunch_of_tuples = [] # this is where we'll store all the key (PJB ID) - value (Document Body) pairs to convert to a dataframe\n",
    "\n",
    "#for i in range(len(response_df)): # iterates over each row of the dataframe - \n",
    "#    # there are other ways to do this but it's not prohibitively inefficient\n",
    "#    url = response_df['@id'][i] # indexes into the value in the first column of the dataframe (the IIIF url)\n",
    "#    cut = url.split('/')[4] # slices out the unique work_id - to be used to locate plaintext export\n",
    "#    try:\n",
    "#        pjb_id = response_df['metadata'][i][0]['value'] # tries to make key based on identifier aka PJB ID\n",
    "#    except TypeError:\n",
    "#       pjb_id = cut # if it fails, it instead makes key on the basis of the work_id (guaranteed to be unique)\n",
    "#    new_url = f'https://fromthepage.com/iiif/{cut}/export/plaintext/verbatim' # url that hosts the plaintext export\n",
    "#    final = requests.get(new_url) # get request on plaintext export url\n",
    "#    bunch_of_tuples.append((pjb_id, final.text)) # appends key-value pair to dictionary\n",
    "    "
   ]
  },
  {
   "cell_type": "code",
   "execution_count": 13,
   "metadata": {},
   "outputs": [],
   "source": [
    "# testing for XHTML compatibility (I think it might be better than plaintext)\n",
    "bunch_of_tuples = [] # this is where we'll store all the variable pairs (PJB ID, Document Body) to convert to a dataframe\n",
    "\n",
    "for i in range(len(response_df)): # iterates over each row of the dataframe - \n",
    "    # there are other ways to do this but it's not prohibitively inefficient\n",
    "    url = response_df['@id'][i] # indexes into the value in the first column of the dataframe (the IIIF url)\n",
    "    cut = url.split('/')[4] # slices out the unique work_id - to be used to locate html export\n",
    "    try:\n",
    "        pjb_id = response_df['metadata'][i][0]['value'] # tries to make key based on idenitifier aka PJB ID\n",
    "    except TypeError:\n",
    "        pjb_id = cut # if it fails, it instead makes key on the basis of the work_id (guaranteed to be unique)\n",
    "    new_url = f'https://fromthepage.com/iiif/{cut}/export/html' # url that hosts the html export\n",
    "    final = requests.get(new_url) # get request on html export url\n",
    "    html = final.text\n",
    "    title_position = html.find('<title>')\n",
    "    desired_content = html[title_position:] \n",
    "    bunch_of_tuples.append((pjb_id, desired_content))# appends to list of tuples"
   ]
  },
  {
   "cell_type": "code",
   "execution_count": 125,
   "metadata": {},
   "outputs": [],
   "source": [
    "# if you wanna check out the dictionary (should be same length as response_df)\n",
    "\n",
    "# bunch_of_tuples"
   ]
  },
  {
   "cell_type": "code",
   "execution_count": 15,
   "metadata": {},
   "outputs": [],
   "source": [
    "# create dataframe, label columns + set PJB ID as index\n",
    "df_final = pd.DataFrame(bunch_of_tuples, columns=['PJB ID', 'Document Body'])"
   ]
  },
  {
   "cell_type": "code",
   "execution_count": 17,
   "metadata": {},
   "outputs": [
    {
     "data": {
      "text/html": [
       "<div>\n",
       "<style scoped>\n",
       "    .dataframe tbody tr th:only-of-type {\n",
       "        vertical-align: middle;\n",
       "    }\n",
       "\n",
       "    .dataframe tbody tr th {\n",
       "        vertical-align: top;\n",
       "    }\n",
       "\n",
       "    .dataframe thead th {\n",
       "        text-align: right;\n",
       "    }\n",
       "</style>\n",
       "<table border=\"1\" class=\"dataframe\">\n",
       "  <thead>\n",
       "    <tr style=\"text-align: right;\">\n",
       "      <th></th>\n",
       "      <th>PJB ID</th>\n",
       "      <th>Document Body</th>\n",
       "    </tr>\n",
       "  </thead>\n",
       "  <tbody>\n",
       "    <tr>\n",
       "      <th>0</th>\n",
       "      <td>PJB 2353</td>\n",
       "      <td>&lt;title&gt;  From Julian Bond to Vivian Henderson,...</td>\n",
       "    </tr>\n",
       "    <tr>\n",
       "      <th>1</th>\n",
       "      <td>PJB 2654</td>\n",
       "      <td>&lt;title&gt; (2nd Copy) From Julian Bond to Camille...</td>\n",
       "    </tr>\n",
       "    <tr>\n",
       "      <th>2</th>\n",
       "      <td>PJB 2747</td>\n",
       "      <td>&lt;title&gt; (2nd copy) From Julian Bond to Gary Co...</td>\n",
       "    </tr>\n",
       "    <tr>\n",
       "      <th>3</th>\n",
       "      <td>PJB 2057</td>\n",
       "      <td>&lt;title&gt; (Carbon Copy) To Julian Bond from Dr. ...</td>\n",
       "    </tr>\n",
       "    <tr>\n",
       "      <th>4</th>\n",
       "      <td>PJB 2213</td>\n",
       "      <td>&lt;title&gt; (College Student Letter) To Julian Bon...</td>\n",
       "    </tr>\n",
       "    <tr>\n",
       "      <th>...</th>\n",
       "      <td>...</td>\n",
       "      <td>...</td>\n",
       "    </tr>\n",
       "    <tr>\n",
       "      <th>221</th>\n",
       "      <td>PJB 1874</td>\n",
       "      <td>&lt;title&gt; To Julian Bond from Walter Kyle, 24 Ju...</td>\n",
       "    </tr>\n",
       "    <tr>\n",
       "      <th>222</th>\n",
       "      <td>PJB 1609</td>\n",
       "      <td>&lt;title&gt; To Julian Bond from Walter Pinkston, T...</td>\n",
       "    </tr>\n",
       "    <tr>\n",
       "      <th>223</th>\n",
       "      <td>PJB 1493</td>\n",
       "      <td>&lt;title&gt; To Julian Bond from Wilbur Hicks, ca. ...</td>\n",
       "    </tr>\n",
       "    <tr>\n",
       "      <th>224</th>\n",
       "      <td>PJB 1517</td>\n",
       "      <td>&lt;title&gt; To Julian Bond from William DuFresne, ...</td>\n",
       "    </tr>\n",
       "    <tr>\n",
       "      <th>225</th>\n",
       "      <td>PJB 1962</td>\n",
       "      <td>&lt;title&gt; To Julian Bond from William Landiss, 1...</td>\n",
       "    </tr>\n",
       "  </tbody>\n",
       "</table>\n",
       "<p>226 rows × 2 columns</p>\n",
       "</div>"
      ],
      "text/plain": [
       "       PJB ID                                      Document Body\n",
       "0    PJB 2353  <title>  From Julian Bond to Vivian Henderson,...\n",
       "1    PJB 2654  <title> (2nd Copy) From Julian Bond to Camille...\n",
       "2    PJB 2747  <title> (2nd copy) From Julian Bond to Gary Co...\n",
       "3    PJB 2057  <title> (Carbon Copy) To Julian Bond from Dr. ...\n",
       "4    PJB 2213  <title> (College Student Letter) To Julian Bon...\n",
       "..        ...                                                ...\n",
       "221  PJB 1874  <title> To Julian Bond from Walter Kyle, 24 Ju...\n",
       "222  PJB 1609  <title> To Julian Bond from Walter Pinkston, T...\n",
       "223  PJB 1493  <title> To Julian Bond from Wilbur Hicks, ca. ...\n",
       "224  PJB 1517  <title> To Julian Bond from William DuFresne, ...\n",
       "225  PJB 1962  <title> To Julian Bond from William Landiss, 1...\n",
       "\n",
       "[226 rows x 2 columns]"
      ]
     },
     "execution_count": 17,
     "metadata": {},
     "output_type": "execute_result"
    }
   ],
   "source": [
    "df_final"
   ]
  },
  {
   "cell_type": "code",
   "execution_count": 19,
   "metadata": {},
   "outputs": [],
   "source": [
    "# to check how it looks with a two page doc\n",
    "# newlist = [x for x in list if \"To Julian Bond from Margaret Linton\" in x]\n",
    "# newlist"
   ]
  },
  {
   "cell_type": "code",
   "execution_count": 21,
   "metadata": {},
   "outputs": [
    {
     "data": {
      "text/plain": [
       "'<title>  From Julian Bond to Vivian Henderson, 20 Feb 1969</title>\\n    </head>\\n\\n    <body>\\n    <h1 class=\"work-title\"> From Julian Bond to Vivian Henderson, 20 Feb 1969</h1>\\n    <div class=\"export-metadata\"><span class=\"translation_missing\" title=\"translation missing: en.export.show.html.erb.export_metadata, work:  From Julian Bond to Vivian Henderson, 20 Feb 1969, collection: The Papers of Julian Bond, time: 2025-02-24 00:28:34 +0000\">Export Metadata</span>\\n        <p><span class=\"translation_missing\" title=\"translation missing: en.export.show.html.erb.identifier, work: PJB 2353\">Identifier</span></p>\\n      <p>\\n        <span class=\"translation_missing\" title=\"translation missing: en.export.show.html.erb.fromthepage_version, version: 22.10\">Fromthepage Version</span>\\n      </p>\\n    </div>\\n\\n    <hr />\\n    <h2 class=\"divider\"><span class=\"translation_missing\" title=\"translation missing: en.export.show.html.erb.page_transcripts\">Page Transcripts</span></h2>\\n\\n    <div class=\"pages\">\\n      <div id=\"page-34015648\">\\n        <h3><a name=\"page-34015648\">1</a></h3>\\n        <div class=\"page-content\">\\n              <p>February 20, 1969</p>\\n\\n<p>Dear Dr. Henderson,</p>\\n\\n<p>You will probably be receiving a letter from Rep. J. C. Daugherty mentioning some matters which black members of the Legislature hope the Center For The Study of Southern Politics can aid them in. Since we are such a small minority of all of the Legislature, it would be a great help if we knew exactly where in this state actual and potential black political power existed.</p>\\n\\n<p>Additionally, it would be helpful for the 1970 state elections if we had an ADA type rating for white legislators from black belt areas of the state.</p>\\n\\n<p>At any rate, I just wanted to add my small voice to Rep. Daugherty\\'s.</p>\\n\\n<p>Sincerely, <br/>\\nJulian Bond</p>\\n\\n<p>Dr. Vivian Henderson <br/>\\nPresident <br/>\\nClark College <br/>\\nAtlanta, Georgia 30314</p>\\n        </div>\\n\\n            <div class=\"page-history\">\\n              <strong><span class=\"translation_missing\" title=\"translation missing: en.export.show.html.erb.page_edit_history\">Page Edit History</span></strong>\\n              <ul>\\n                <li>\\n                  <small class=\"page-version-username\">kaypatrick99</small>\\n                  <small class=\"page-version-date\">03/21/2024 08:54 PM</small>\\n                </li>\\n                <li>\\n                  <small class=\"page-version-username\">kaypatrick99</small>\\n                  <small class=\"page-version-date\">03/21/2024 08:53 PM</small>\\n                </li>\\n                <li>\\n                  <small class=\"page-version-username\">kaypatrick99</small>\\n                  <small class=\"page-version-date\">03/21/2024 08:52 PM</small>\\n                </li>\\n                <li>\\n                  <small class=\"page-version-username\">kaypatrick99</small>\\n                  <small class=\"page-version-date\">03/21/2024 08:51 PM</small>\\n                </li>\\n                <li>\\n                  <small class=\"page-version-username\">DAHaraldson</small>\\n                  <small class=\"page-version-date\">03/21/2024 08:51 PM</small>\\n                </li>\\n                <li>\\n                  <small class=\"page-version-username\">kaypatrick99</small>\\n                  <small class=\"page-version-date\">03/21/2024 08:48 PM</small>\\n                </li>\\n                <li>\\n                  <small class=\"page-version-username\">Carlos Perez</small>\\n                  <small class=\"page-version-date\">03/21/2024 07:47 PM</small>\\n                </li>\\n              </ul>\\n            </div>\\n\\n      </div>\\n      <br />\\n    </div>\\n\\n      <hr />\\n    </body>\\n  </html>\\n'"
      ]
     },
     "execution_count": 21,
     "metadata": {},
     "output_type": "execute_result"
    }
   ],
   "source": [
    "# if you wanna take a look at the final dataframe\n",
    "\n",
    "mylist = df_final['Document Body'].tolist()\n",
    "mylist[0]\n",
    "# I wonder if the title tags would break this"
   ]
  },
  {
   "cell_type": "code",
   "execution_count": 23,
   "metadata": {},
   "outputs": [],
   "source": [
    "editors_tag = 'small'\n",
    "editors_tag_class = ' class=\"page-version-username\"'\n",
    "# title_tag = 'title'\n",
    "# title_tag_class = ''\n",
    "# I think I would prefer to match on title even if PJB ID is more robust because title is easier to extrac\n",
    "content_tag = 'div'\n",
    "content_tag_class = ' class=\"page-content\"'\n",
    "tags = {editors_tag: editors_tag_class,\n",
    "       # title_tag: title_tag_class,\n",
    "       content_tag: content_tag_class}\n",
    "final_list = []\n",
    "\n",
    "for i in range(len(mylist)):\n",
    "    dirty = mylist[i]\n",
    "    dictionary = {}\n",
    "    for tag, tag_class in tags.items():\n",
    "        reg_str = \"<\" + tag + tag_class + \">(.*?)</\" + tag + \">\"\n",
    "        res = re.findall(reg_str, dirty, re.DOTALL)\n",
    "        key = tag\n",
    "        dictionary[key] = res\n",
    "    dictionary['small'] = set(dictionary['small'])\n",
    "    for k,v in dictionary.items():\n",
    "        target = ' '.join(v)\n",
    "        target_stage_2 = target.replace('\\n','')\n",
    "        dictionary[k] = target_stage_2.strip(' ')\n",
    "    check = dictionary['div'] + \"<p>Thanks to FromThePage transcription contributors: \" + dictionary['small'] + \"</p>\"\n",
    "    final_list.append(check)\n",
    "    "
   ]
  },
  {
   "cell_type": "code",
   "execution_count": 25,
   "metadata": {},
   "outputs": [],
   "source": [
    "df_final['Document Body'] = final_list"
   ]
  },
  {
   "cell_type": "code",
   "execution_count": 27,
   "metadata": {},
   "outputs": [
    {
     "name": "stdout",
     "output_type": "stream",
     "text": [
      "['PJB 2353', 'PJB 2654', 'PJB 2747', 'PJB 2057', 'PJB 2213', 'PJB 3252', 'PJB 5174', 'PJB 5014', 'PJB 4772', 'PJB 4773', 'PJB 4775', 'PJB 2147', 'PJB 2246', 'PJB 2217', 'PJB 2183', 'PJB 2151', 'PJB 2185', 'PJB 5395', 'PJB 4396', 'PJB 3743', 'PJB 3535', 'PJB 3652', 'PJB 3728', 'PJB 3840', 'PJB 5397', 'PJB 4440', 'PJB 3726', 'PJB 3540', 'PJB 3660', 'PJB 3735', 'PJB 3854', 'PJB 2866', 'PJB 2238', 'PJB 2805', 'PJB 2324', 'PJB 3290', 'PJB 2154', 'PJB 5673', 'PJB 5718', 'PJB 2710', 'PJB 4553', 'PJB 3261', 'PJB 4152', 'PJB 2432', 'PJB 2454', 'PJB 2479', 'PJB 2424', 'PJB 1938', 'PJB 2421', 'PJB 2441', 'PJB 2462', 'PJB 2443', 'PJB 2445', 'PJB 2368', 'PJB 2397', 'PJB 2367', 'PJB 2433', 'PJB 2444', 'PJB 2422', 'PJB 2437', 'PJB 2403', 'PJB 2468', 'PJB 2442', 'PJB 2456', 'PJB 1903', 'PJB 2035', 'PJB 1881', 'PJB 2003', 'PJB 1911', 'PJB 2023', 'PJB 1901', 'PJB 1850', 'PJB 2016', 'PJB 1842', 'PJB 1959', 'PJB 1869', 'PJB 1862', 'PJB 1997', 'PJB 1965', 'PJB 2027', 'PJB 1971', 'PJB 1985', 'PJB 1993', 'PJB 1852', 'PJB 2037', 'PJB 1864', 'PJB 1989', 'PJB 1972', 'PJB 1826', 'PJB 1856', 'PJB 1966', 'PJB 1885', 'PJB 1951', 'PJB 1987', 'PJB 1813', 'PJB 1871', 'PJB 1981', 'PJB 1957', 'PJB 1873', 'PJB 2046', 'PJB 2047', 'PJB 1961', 'PJB 1913', 'PJB 1963', 'PJB 1930', 'PJB 1995', 'PJB 1893', 'PJB 1921', 'PJB 1998', 'PJB 1867', 'PJB 2004', 'PJB 672', 'PJB 1860', 'PJB 1434', 'PJB 2045', 'PJB 1295', 'PJB 1954', 'PJB 1969', 'PJB 1916', 'PJB 1996', 'PJB 1699', 'PJB 1950', 'PJB 1992', 'PJB 2007', 'PJB 1943', 'PJB 2001', 'PJB 1999', 'PJB 1846', 'PJB 1896', 'PJB 1890', 'PJB 1849', 'PJB 2026', 'PJB 2019', 'PJB 1918', 'PJB 1976', 'PJB 1888', 'PJB 1792', 'PJB 2021', 'PJB 2034', 'PJB 1939', 'PJB 1925', 'PJB 1569', 'PJB 2015', 'PJB 1929', 'PJB 2050', 'PJB 2011', 'PJB 1536', 'PJB 1880', 'PJB 1749', 'PJB 2009', 'PJB 1942', 'PJB 1798', 'PJB 2043', 'PJB 1948', 'PJB 1900', 'PJB 1910', 'PJB 1978', 'PJB 1770', 'PJB 2049', 'PJB 1604', 'PJB 1980', 'PJB 1819', 'PJB 1815', 'PJB 1926', 'PJB 2013', 'PJB 1905', 'PJB 1747', 'PJB 1546', 'PJB 2051', 'PJB 1858', 'PJB 2036', 'PJB 1670', 'PJB 1945', 'PJB 1928', 'PJB 1882', 'PJB 1822', 'PJB 1753', 'PJB 2005', 'PJB 1825', 'PJB 1920', 'PJB 1442', 'PJB 2024', 'PJB 1371', 'PJB 1936', 'PJB 1931', 'PJB 1933', 'PJB 1902', 'PJB 1785', 'PJB 1851', 'PJB 2017', 'PJB 1960', 'PJB 1984', 'PJB 1396', 'PJB 1808', 'PJB 1651', 'PJB 1834', 'PJB 1400', 'PJB 1940', 'PJB 1662', 'PJB 1639', 'PJB 1870', 'PJB 1956', 'PJB 1923', 'PJB 1199', 'PJB 1600', 'PJB 2028', 'PJB 1986', 'PJB 1724', 'PJB 1560', 'PJB 1941', 'PJB 1994', 'PJB 1853', 'PJB 1557', 'PJB 1582', 'PJB 2038', 'PJB 1708', 'PJB 1990', 'PJB 1922', 'PJB 1973', 'PJB 1855', 'PJB 1935', 'PJB 1874', 'PJB 1609', 'PJB 1493', 'PJB 1517', 'PJB 1962']\n"
     ]
    },
    {
     "data": {
      "text/html": [
       "<div>\n",
       "<style scoped>\n",
       "    .dataframe tbody tr th:only-of-type {\n",
       "        vertical-align: middle;\n",
       "    }\n",
       "\n",
       "    .dataframe tbody tr th {\n",
       "        vertical-align: top;\n",
       "    }\n",
       "\n",
       "    .dataframe thead th {\n",
       "        text-align: right;\n",
       "    }\n",
       "</style>\n",
       "<table border=\"1\" class=\"dataframe\">\n",
       "  <thead>\n",
       "    <tr style=\"text-align: right;\">\n",
       "      <th></th>\n",
       "      <th>PJB ID</th>\n",
       "      <th>Document Body</th>\n",
       "    </tr>\n",
       "  </thead>\n",
       "  <tbody>\n",
       "    <tr>\n",
       "      <th>0</th>\n",
       "      <td>PJB 2353</td>\n",
       "      <td>&lt;p&gt;February 20, 1969&lt;/p&gt;&lt;p&gt;Dear Dr. Henderson,...</td>\n",
       "    </tr>\n",
       "    <tr>\n",
       "      <th>1</th>\n",
       "      <td>PJB 2654</td>\n",
       "      <td>&lt;p&gt;October 23, 1969&lt;/p&gt;&lt;p&gt;Dear Mrs. Levy,&lt;/p&gt;&lt;...</td>\n",
       "    </tr>\n",
       "    <tr>\n",
       "      <th>2</th>\n",
       "      <td>PJB 2747</td>\n",
       "      <td>&lt;p&gt;November 5, 1969&lt;/p&gt;&lt;p&gt;Dear Mr. Conner,&lt;/p&gt;...</td>\n",
       "    </tr>\n",
       "    <tr>\n",
       "      <th>3</th>\n",
       "      <td>PJB 2057</td>\n",
       "      <td>&lt;p&gt;memorandum to Julian Bond&lt;br/&gt;from Dr. H. M...</td>\n",
       "    </tr>\n",
       "    <tr>\n",
       "      <th>4</th>\n",
       "      <td>PJB 2213</td>\n",
       "      <td>&lt;p&gt;[Letterhead logo:  Inner three-ringed circl...</td>\n",
       "    </tr>\n",
       "    <tr>\n",
       "      <th>...</th>\n",
       "      <td>...</td>\n",
       "      <td>...</td>\n",
       "    </tr>\n",
       "    <tr>\n",
       "      <th>221</th>\n",
       "      <td>PJB 1874</td>\n",
       "      <td>&lt;p&gt;Wedgewood High School&lt;br/&gt;3420 PINESTEAD RO...</td>\n",
       "    </tr>\n",
       "    <tr>\n",
       "      <th>222</th>\n",
       "      <td>PJB 1609</td>\n",
       "      <td>&lt;p&gt;[WESTERN UNION TELEGRAM]&lt;br/&gt;[left hand sid...</td>\n",
       "    </tr>\n",
       "    <tr>\n",
       "      <th>223</th>\n",
       "      <td>PJB 1493</td>\n",
       "      <td>&lt;p&gt;FISK UNIVERSITY&lt;br/&gt;NASHVILLE, TENNESSEE 37...</td>\n",
       "    </tr>\n",
       "    <tr>\n",
       "      <th>224</th>\n",
       "      <td>PJB 1517</td>\n",
       "      <td>&lt;p&gt;&lt;i&gt;&lt;b&gt;Economic Opportunity&lt;/b&gt; &lt;/i&gt;&lt;br/&gt;&lt;i&gt;...</td>\n",
       "    </tr>\n",
       "    <tr>\n",
       "      <th>225</th>\n",
       "      <td>PJB 1962</td>\n",
       "      <td>&lt;p&gt;WESLEY FOUNDATION AT GEORGIA TECH&lt;br/&gt;189 F...</td>\n",
       "    </tr>\n",
       "  </tbody>\n",
       "</table>\n",
       "<p>226 rows × 2 columns</p>\n",
       "</div>"
      ],
      "text/plain": [
       "       PJB ID                                      Document Body\n",
       "0    PJB 2353  <p>February 20, 1969</p><p>Dear Dr. Henderson,...\n",
       "1    PJB 2654  <p>October 23, 1969</p><p>Dear Mrs. Levy,</p><...\n",
       "2    PJB 2747  <p>November 5, 1969</p><p>Dear Mr. Conner,</p>...\n",
       "3    PJB 2057  <p>memorandum to Julian Bond<br/>from Dr. H. M...\n",
       "4    PJB 2213  <p>[Letterhead logo:  Inner three-ringed circl...\n",
       "..        ...                                                ...\n",
       "221  PJB 1874  <p>Wedgewood High School<br/>3420 PINESTEAD RO...\n",
       "222  PJB 1609  <p>[WESTERN UNION TELEGRAM]<br/>[left hand sid...\n",
       "223  PJB 1493  <p>FISK UNIVERSITY<br/>NASHVILLE, TENNESSEE 37...\n",
       "224  PJB 1517  <p><i><b>Economic Opportunity</b> </i><br/><i>...\n",
       "225  PJB 1962  <p>WESLEY FOUNDATION AT GEORGIA TECH<br/>189 F...\n",
       "\n",
       "[226 rows x 2 columns]"
      ]
     },
     "execution_count": 27,
     "metadata": {},
     "output_type": "execute_result"
    }
   ],
   "source": [
    "id_list = df_final['PJB ID'].to_list()\n",
    "new_ids = []\n",
    "for id in id_list:\n",
    "    # Remove any spaces or PJBs for standardization\n",
    "    id = id.replace(\" \", \"\")\n",
    "    id = id.replace(\"PJB\", \"\")\n",
    "    id = 'PJB ' + id\n",
    "    new_ids.append(id)\n",
    "        \n",
    "print(new_ids)\n",
    "df_final['PJB ID'] = new_ids\n",
    "df_final"
   ]
  },
  {
   "cell_type": "code",
   "execution_count": 43,
   "metadata": {},
   "outputs": [
    {
     "name": "stdout",
     "output_type": "stream",
     "text": [
      "20250223\n"
     ]
    }
   ],
   "source": [
    "# export to csv for transfer to Drupal!\n",
    "import datetime\n",
    "# just gonna do UTC minus 5 because timezones are a pain, and this doesn't need to be perfect\n",
    "# so sometimes it'll be CDT and sometimes EST but so be it\n",
    "date = datetime.datetime.now(datetime.UTC) - datetime.timedelta(hours = 5) \n",
    "print(f'{date:%Y%m%d}')\n",
    "df_final.to_csv(f'export_to_drupal_{date:%m%d%Y}.csv', index=False)"
   ]
  }
 ],
 "metadata": {
  "colab": {
   "provenance": []
  },
  "kernelspec": {
   "display_name": "Python 3 (ipykernel)",
   "language": "python",
   "name": "python3"
  },
  "language_info": {
   "codemirror_mode": {
    "name": "ipython",
    "version": 3
   },
   "file_extension": ".py",
   "mimetype": "text/x-python",
   "name": "python",
   "nbconvert_exporter": "python",
   "pygments_lexer": "ipython3",
   "version": "3.12.4"
  }
 },
 "nbformat": 4,
 "nbformat_minor": 4
}
