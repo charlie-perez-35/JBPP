{
 "cells": [
  {
   "cell_type": "markdown",
   "metadata": {},
   "source": [
    "### FTP API data grab\n",
    "\n",
    "This file contains the code for downloading a FTP transcription export from their API\n",
    "\n",
    "Still a work in progress\n",
    "\n",
    "I am using Python's requests library because I have more facility in Python and Windows PowerShell is a curse that I prefer not to suffer under when I can avoid it. If on a MacOS or Linux/Unix system, the documentation on the FTP website explains how to accomplish this from the command line: https://content.fromthepage.com/project-owner-documentation/api-keys/ "
   ]
  },
  {
   "cell_type": "code",
   "execution_count": 1,
   "metadata": {},
   "outputs": [],
   "source": [
    "# hiding the API key\n",
    "import os\n",
    "import dotenv\n",
    "\n",
    "# change to the directory where the dotenv file is (unique for each person)\n",
    "os.chdir(\"/Users/charl/JBPP\")\n",
    "\n",
    "# load in stuff hidden in the .env file\n",
    "dotenv.load_dotenv()\n",
    "JBPP_key = os.getenv('JBPP_key')"
   ]
  },
  {
   "cell_type": "code",
   "execution_count": 3,
   "metadata": {
    "id": "lcFSx5yRjT_9"
   },
   "outputs": [],
   "source": [
    "# import required packages\n",
    "import requests\n",
    "import pandas as pd\n",
    "import json\n",
    "import re\n",
    "\n",
    "# code to create post request\n",
    "apikey = JBPP_key\n",
    "\n",
    "root = \"http://fromthepage.com/iiif\"\n",
    "endpoint = \"/collection/charlie-transfer-to-drupal\" # this endpoint is the only thing that needs editing \n",
    "# use IIIF slug found at bottom of \"export\" tab in FTP document set you want to export from\n",
    "headers = {\"Authorization\": f\"Token token={apikey}\"}"
   ]
  },
  {
   "cell_type": "code",
   "execution_count": 5,
   "metadata": {},
   "outputs": [],
   "source": [
    "# submit post request using requests library (operates same as cURL, just in Python)\n",
    "response = requests.post(root+endpoint, headers=headers)\n"
   ]
  },
  {
   "cell_type": "code",
   "execution_count": 4,
   "metadata": {},
   "outputs": [],
   "source": [
    "# to run if you wanna look at the raw text or check status\n",
    "\n",
    "# print(response.status_code)\n",
    "# should be 200\n",
    "# print(response.text)"
   ]
  },
  {
   "cell_type": "code",
   "execution_count": 7,
   "metadata": {},
   "outputs": [],
   "source": [
    "# convert to dataframe using json_normalize\n",
    "# record_path=['manifests'] is to ignore metadata associated with the API call that's returned in the response\n",
    "# but is not connected to the actual doc set content\n",
    "response_df = pd.json_normalize(json.loads(response.text), record_path=['manifests'])"
   ]
  },
  {
   "cell_type": "code",
   "execution_count": 11,
   "metadata": {},
   "outputs": [],
   "source": [
    "# if interested in taking a look at the dataframe:\n",
    "\n",
    "# response_df.head()\n",
    "# I'm curious if anything else will become metadata because there's more metadata in the bulk uploaded documents\n",
    "# If it breaks later, refer to that column to see how to fix it"
   ]
  },
  {
   "cell_type": "code",
   "execution_count": 7,
   "metadata": {
    "id": "vKxhL2XRm9DQ"
   },
   "outputs": [],
   "source": [
    "# don't run this cell (you can, you just don't need to)\n",
    "\n",
    "#bunch_of_tuples = [] # this is where we'll store all the key (PJB ID) - value (Document Body) pairs to convert to a dataframe\n",
    "\n",
    "#for i in range(len(response_df)): # iterates over each row of the dataframe - \n",
    "#    # there are other ways to do this but it's not prohibitively inefficient\n",
    "#    url = response_df['@id'][i] # indexes into the value in the first column of the dataframe (the IIIF url)\n",
    "#    cut = url.split('/')[4] # slices out the unique work_id - to be used to locate plaintext export\n",
    "#    try:\n",
    "#        pjb_id = response_df['metadata'][i][0]['value'] # tries to make key based on identifier aka PJB ID\n",
    "#    except TypeError:\n",
    "#       pjb_id = cut # if it fails, it instead makes key on the basis of the work_id (guaranteed to be unique)\n",
    "#    new_url = f'https://fromthepage.com/iiif/{cut}/export/plaintext/verbatim' # url that hosts the plaintext export\n",
    "#    final = requests.get(new_url) # get request on plaintext export url\n",
    "#    bunch_of_tuples.append((pjb_id, final.text)) # appends key-value pair to dictionary\n",
    "    "
   ]
  },
  {
   "cell_type": "code",
   "execution_count": 9,
   "metadata": {},
   "outputs": [],
   "source": [
    "# testing for XHTML compatibility (I think it might be better than plaintext)\n",
    "bunch_of_tuples = [] # this is where we'll store all the variable pairs (PJB ID, Document Body) to convert to a dataframe\n",
    "\n",
    "for i in range(len(response_df)): # iterates over each row of the dataframe - \n",
    "    # there are other ways to do this but it's not prohibitively inefficient\n",
    "    url = response_df['@id'][i] # indexes into the value in the first column of the dataframe (the IIIF url)\n",
    "    cut = url.split('/')[4] # slices out the unique work_id - to be used to locate html export\n",
    "    try:\n",
    "        pjb_id = response_df['metadata'][i][0]['value'] # tries to make key based on idenitifier aka PJB ID\n",
    "    except TypeError:\n",
    "        pjb_id = cut # if it fails, it instead makes key on the basis of the work_id (guaranteed to be unique)\n",
    "    new_url = f'https://fromthepage.com/iiif/{cut}/export/html' # url that hosts the html export\n",
    "    final = requests.get(new_url) # get request on html export url\n",
    "    html = final.text\n",
    "    title_position = html.find('<title>')\n",
    "    desired_content = html[title_position:] \n",
    "    bunch_of_tuples.append((pjb_id, desired_content))# appends to list of tuples"
   ]
  },
  {
   "cell_type": "code",
   "execution_count": 125,
   "metadata": {},
   "outputs": [],
   "source": [
    "# if you wanna check out the dictionary (should be same length as response_df)\n",
    "\n",
    "# bunch_of_tuples"
   ]
  },
  {
   "cell_type": "code",
   "execution_count": 11,
   "metadata": {},
   "outputs": [],
   "source": [
    "# create dataframe, label columns + set PJB ID as index\n",
    "df_final = pd.DataFrame(bunch_of_tuples, columns=['PJB ID', 'Document Body'])"
   ]
  },
  {
   "cell_type": "code",
   "execution_count": 13,
   "metadata": {},
   "outputs": [
    {
     "data": {
      "text/html": [
       "<div>\n",
       "<style scoped>\n",
       "    .dataframe tbody tr th:only-of-type {\n",
       "        vertical-align: middle;\n",
       "    }\n",
       "\n",
       "    .dataframe tbody tr th {\n",
       "        vertical-align: top;\n",
       "    }\n",
       "\n",
       "    .dataframe thead th {\n",
       "        text-align: right;\n",
       "    }\n",
       "</style>\n",
       "<table border=\"1\" class=\"dataframe\">\n",
       "  <thead>\n",
       "    <tr style=\"text-align: right;\">\n",
       "      <th></th>\n",
       "      <th>PJB ID</th>\n",
       "      <th>Document Body</th>\n",
       "    </tr>\n",
       "  </thead>\n",
       "  <tbody>\n",
       "    <tr>\n",
       "      <th>0</th>\n",
       "      <td>PJB 2086</td>\n",
       "      <td>&lt;title&gt; From Julian Bond to Abraham Feinberg, ...</td>\n",
       "    </tr>\n",
       "    <tr>\n",
       "      <th>1</th>\n",
       "      <td>PJB 2232</td>\n",
       "      <td>&lt;title&gt; From Julian Bond to Adele Allison, 28 ...</td>\n",
       "    </tr>\n",
       "    <tr>\n",
       "      <th>2</th>\n",
       "      <td>PJB 2243</td>\n",
       "      <td>&lt;title&gt; From Julian Bond to Alda Lee Boyd, 28 ...</td>\n",
       "    </tr>\n",
       "    <tr>\n",
       "      <th>3</th>\n",
       "      <td>PJB 2155</td>\n",
       "      <td>&lt;title&gt; From Julian Bond to Allard Lowenstein,...</td>\n",
       "    </tr>\n",
       "    <tr>\n",
       "      <th>4</th>\n",
       "      <td>PJB 2169</td>\n",
       "      <td>&lt;title&gt; From Julian Bond to Amanda Watts, 21 O...</td>\n",
       "    </tr>\n",
       "    <tr>\n",
       "      <th>...</th>\n",
       "      <td>...</td>\n",
       "      <td>...</td>\n",
       "    </tr>\n",
       "    <tr>\n",
       "      <th>180</th>\n",
       "      <td>PJB 2221</td>\n",
       "      <td>&lt;title&gt; To Julian Bond from Richard Fulton, 27...</td>\n",
       "    </tr>\n",
       "    <tr>\n",
       "      <th>181</th>\n",
       "      <td>PJB 2205</td>\n",
       "      <td>&lt;title&gt; To Julian Bond from Robert E. Howard, ...</td>\n",
       "    </tr>\n",
       "    <tr>\n",
       "      <th>182</th>\n",
       "      <td>PJB 2101</td>\n",
       "      <td>&lt;title&gt; To Julian Bond from Robert Kline, 30 S...</td>\n",
       "    </tr>\n",
       "    <tr>\n",
       "      <th>183</th>\n",
       "      <td>PJB 2365</td>\n",
       "      <td>&lt;title&gt; To Julian Bond from W. Hamilton Enslow...</td>\n",
       "    </tr>\n",
       "    <tr>\n",
       "      <th>184</th>\n",
       "      <td>PJB 2360</td>\n",
       "      <td>&lt;title&gt; To Julian Bond from Walter Browe, 6 Ma...</td>\n",
       "    </tr>\n",
       "  </tbody>\n",
       "</table>\n",
       "<p>185 rows × 2 columns</p>\n",
       "</div>"
      ],
      "text/plain": [
       "       PJB ID                                      Document Body\n",
       "0    PJB 2086  <title> From Julian Bond to Abraham Feinberg, ...\n",
       "1    PJB 2232  <title> From Julian Bond to Adele Allison, 28 ...\n",
       "2    PJB 2243  <title> From Julian Bond to Alda Lee Boyd, 28 ...\n",
       "3    PJB 2155  <title> From Julian Bond to Allard Lowenstein,...\n",
       "4    PJB 2169  <title> From Julian Bond to Amanda Watts, 21 O...\n",
       "..        ...                                                ...\n",
       "180  PJB 2221  <title> To Julian Bond from Richard Fulton, 27...\n",
       "181  PJB 2205  <title> To Julian Bond from Robert E. Howard, ...\n",
       "182  PJB 2101  <title> To Julian Bond from Robert Kline, 30 S...\n",
       "183  PJB 2365  <title> To Julian Bond from W. Hamilton Enslow...\n",
       "184  PJB 2360  <title> To Julian Bond from Walter Browe, 6 Ma...\n",
       "\n",
       "[185 rows x 2 columns]"
      ]
     },
     "execution_count": 13,
     "metadata": {},
     "output_type": "execute_result"
    }
   ],
   "source": [
    "df_final"
   ]
  },
  {
   "cell_type": "code",
   "execution_count": null,
   "metadata": {},
   "outputs": [],
   "source": []
  },
  {
   "cell_type": "code",
   "execution_count": 19,
   "metadata": {},
   "outputs": [],
   "source": [
    "# to check how it looks with a two page doc\n",
    "# newlist = [x for x in list if \"To Julian Bond from Margaret Linton\" in x]\n",
    "# newlist"
   ]
  },
  {
   "cell_type": "code",
   "execution_count": 15,
   "metadata": {},
   "outputs": [
    {
     "data": {
      "text/plain": [
       "'<title> From Julian Bond to Abraham Feinberg, 10 Oct 1968</title>\\n    </head>\\n\\n    <body>\\n    <h1 class=\"work-title\">From Julian Bond to Abraham Feinberg, 10 Oct 1968</h1>\\n    <div class=\"export-metadata\"><span class=\"translation_missing\" title=\"translation missing: en.export.show.html.erb.export_metadata, work: From Julian Bond to Abraham Feinberg, 10 Oct 1968, collection: The Papers of Julian Bond, time: 2025-04-10 21:21:16 +0000\">Export Metadata</span>\\n        <p><span class=\"translation_missing\" title=\"translation missing: en.export.show.html.erb.identifier, work: PJB 2086\">Identifier</span></p>\\n      <p>\\n        <span class=\"translation_missing\" title=\"translation missing: en.export.show.html.erb.fromthepage_version, version: 22.10\">Fromthepage Version</span>\\n      </p>\\n    </div>\\n\\n    <hr />\\n    <h2 class=\"divider\"><span class=\"translation_missing\" title=\"translation missing: en.export.show.html.erb.page_transcripts\">Page Transcripts</span></h2>\\n\\n    <div class=\"pages\">\\n      <div id=\"page-33946002\">\\n        <h3><a name=\"page-33946002\">1</a></h3>\\n        <div class=\"page-content\">\\n              <p>October 10, 1968</p>\\n\\n<p>Dear Dr. Feinberg,</p>\\n\\n<p>Thank you for your kind le<s>e</s>tter. I appreciate your words.</p>\\n\\n<p>I am looking forward to receiving HANOI DIARY. It will be a great pleasure to add it to my library. I shall try to get a comment to you soon.</p>\\n\\n<p>With every good wish,</p>\\n\\n<p>Sincerely,</p>\\n\\n<p>Julian Bond</p>\\n\\n<p>Dr. Abraham L. Feinberg<br/>\\n154 Old Forest Hill Road<br/>\\nToronto 10, Ontario<br/>\\nCana<s>g</s>da</p>\\n        </div>\\n\\n            <div class=\"page-history\">\\n              <strong><span class=\"translation_missing\" title=\"translation missing: en.export.show.html.erb.page_edit_history\">Page Edit History</span></strong>\\n              <ul>\\n                <li>\\n                  <small class=\"page-version-username\">\\n                    Jan Pilkington\\n                  </small>\\n                  <small class=\"page-version-date\">03/01/2024 08:21 PM</small>\\n                </li>\\n                <li>\\n                  <small class=\"page-version-username\">\\n                    emtranscribes\\n                  </small>\\n                  <small class=\"page-version-date\">02/28/2024 03:16 PM</small>\\n                </li>\\n                <li>\\n                  <small class=\"page-version-username\">\\n                    Carlos Perez\\n                  </small>\\n                  <small class=\"page-version-date\">02/01/2024 09:31 PM</small>\\n                </li>\\n              </ul>\\n            </div>\\n\\n      </div>\\n      <br />\\n    </div>\\n\\n      <hr />\\n    </body>\\n  </html>\\n'"
      ]
     },
     "execution_count": 15,
     "metadata": {},
     "output_type": "execute_result"
    }
   ],
   "source": [
    "# if you wanna take a look at the final dataframe\n",
    "\n",
    "mylist = df_final['Document Body'].tolist()\n",
    "mylist[0]\n",
    "# I wonder if the title tags would break this"
   ]
  },
  {
   "cell_type": "markdown",
   "metadata": {},
   "source": [
    "NEW: \"username\" now reflects preferred attribution name for all contributors instead of just username. Yay!"
   ]
  },
  {
   "cell_type": "code",
   "execution_count": 19,
   "metadata": {},
   "outputs": [],
   "source": [
    "editors_tag = 'small'\n",
    "editors_tag_class = ' class=\"page-version-username\"'\n",
    "# title_tag = 'title'\n",
    "# title_tag_class = ''\n",
    "# I think I would prefer to match on title even if PJB ID is more robust because title is easier to extrac\n",
    "content_tag = 'div'\n",
    "content_tag_class = ' class=\"page-content\"'\n",
    "tags = {editors_tag: editors_tag_class,\n",
    "       # title_tag: title_tag_class,\n",
    "       content_tag: content_tag_class}\n",
    "final_list = []\n",
    "\n",
    "for i in range(len(mylist)):\n",
    "    dirty = mylist[i]\n",
    "    dictionary = {}\n",
    "    for tag, tag_class in tags.items():\n",
    "        reg_str = \"<\" + tag + tag_class + \">(.*?)</\" + tag + \">\"\n",
    "        res = re.findall(reg_str, dirty, re.DOTALL)\n",
    "        key = tag\n",
    "        dictionary[key] = res\n",
    "    dictionary['small'] = set(dictionary['small'])\n",
    "    for k,v in dictionary.items():\n",
    "        target = ' '.join(v)\n",
    "        target_stage_2 = target.replace('\\n','')\n",
    "        dictionary[k] = target_stage_2.strip(' ')\n",
    "    check = dictionary['div'] + \"<p>Thanks to FromThePage transcription contributors: \" + dictionary['small'] + \"</p>\"\n",
    "    final_list.append(check)\n",
    "    "
   ]
  },
  {
   "cell_type": "code",
   "execution_count": 21,
   "metadata": {},
   "outputs": [],
   "source": [
    "df_final['Document Body'] = final_list"
   ]
  },
  {
   "cell_type": "code",
   "execution_count": 23,
   "metadata": {},
   "outputs": [
    {
     "name": "stdout",
     "output_type": "stream",
     "text": [
      "['PJB 2086', 'PJB 2232', 'PJB 2243', 'PJB 2155', 'PJB 2169', 'PJB 2142', 'PJB 2144', 'PJB 2343', 'PJB 2275', 'PJB 2304', 'PJB 2127', 'PJB 2236', 'PJB 2178', 'PJB 2198', 'PJB 2261', 'PJB 2107', 'PJB 2157', 'PJB 2208', 'PJB 2331', 'PJB 2118', 'PJB 2067', 'PJB 2253', 'PJB 2167', 'PJB 2245', 'PJB 2058', 'PJB 2175', 'PJB 2241', 'PJB 2186', 'PJB 2293', 'PJB 2054', 'PJB 2140', 'PJB 2347', 'PJB 2173', 'PJB 2257', 'PJB 2104', 'PJB 2255', 'PJB 2171', 'PJB 2330', 'PJB 2088', 'PJB 2265', 'PJB 2229', 'PJB 2112', 'PJB 2081', 'PJB 2075', 'PJB 2134', 'PJB 2267', 'PJB 2337', 'PJB 2277', 'PJB 2073', 'PJB 2345', 'PJB 2291', 'PJB 2216', 'PJB 2138', 'PJB 2108', 'PJB 2289', 'PJB 2218', 'PJB 2110', 'PJB 2065', 'PJB 2098', 'PJB 2069', 'PJB 2165', 'PJB 2478', 'PJB 2239', 'PJB 2484', 'PJB 2285', 'PJB 2488', 'PJB 2339', 'PJB 2269', 'PJB 2247', 'PJB 2487', 'PJB 2152', 'PJB 2477', 'PJB 2278', 'PJB 2190', 'PJB 2192', 'PJB 2120', 'PJB 2263', 'PJB 2200', 'PJB 2341', 'PJB 2180', 'PJB 2481', 'PJB 2490', 'PJB 2063', 'PJB 2182', 'PJB 2214', 'PJB 2124', 'PJB 2212', 'PJB 2177', 'PJB 2251', 'PJB 2467', 'PJB 2470', 'PJB 2234', 'PJB 2227', 'PJB 2196', 'PJB 2161', 'PJB 2092', 'PJB 2115', 'PJB 2150', 'PJB 2287', 'PJB 2188', 'PJB 2463', 'PJB 2249', 'PJB 2102', 'PJB 2283', 'PJB 2159', 'PJB 2464', 'PJB 2471', 'PJB 2480', 'PJB 2319', 'PJB 2472', 'PJB 2061', 'PJB 2469', 'PJB 2281', 'PJB 2202', 'PJB 2094', 'PJB 2465', 'PJB 2482', 'PJB 2052', 'PJB 2071', 'PJB 2474', 'PJB 2491', 'PJB 2306', 'PJB 2483', 'PJB 2493', 'PJB 2259', 'PJB 2400', 'PJB 2492', 'PJB 2460', 'PJB 2307', 'PJB 2117', 'PJB 32064542', 'PJB 2233', 'PJB 2060', 'PJB 2301', 'PJB 2068', 'PJB 2059', 'PJB 2355', 'PJB 2056', 'PJB 2055', 'PJB 2298', 'PJB 2326', 'PJB 2317', 'PJB 2292', 'PJB 2356', 'PJB 2066', 'PJB 2099', 'PJB 2085', 'PJB 2070', 'PJB 2240', 'PJB 2295', 'PJB 2303', 'PJB 2286', 'PJB 1912', 'PJB 2279', 'PJB 2191', 'PJB 2193', 'PJB 2264', 'PJB 2083', 'PJB 2321', 'PJB 2133', 'PJB 2181', 'PJB 2129', 'PJB 2206', 'PJB 2366', 'PJB 2364', 'PJB 2361', 'PJB 2064', 'PJB 2302', 'PJB 2252', 'PJB 2235', 'PJB 2197', 'PJB 2224', 'PJB 2226', 'PJB 2093', 'PJB 2300', 'PJB 2288', 'PJB 2189', 'PJB 2250', 'PJB 2334', 'PJB 2284', 'PJB 2221', 'PJB 2205', 'PJB 2101', 'PJB 2365', 'PJB 2360']\n"
     ]
    },
    {
     "data": {
      "text/html": [
       "<div>\n",
       "<style scoped>\n",
       "    .dataframe tbody tr th:only-of-type {\n",
       "        vertical-align: middle;\n",
       "    }\n",
       "\n",
       "    .dataframe tbody tr th {\n",
       "        vertical-align: top;\n",
       "    }\n",
       "\n",
       "    .dataframe thead th {\n",
       "        text-align: right;\n",
       "    }\n",
       "</style>\n",
       "<table border=\"1\" class=\"dataframe\">\n",
       "  <thead>\n",
       "    <tr style=\"text-align: right;\">\n",
       "      <th></th>\n",
       "      <th>PJB ID</th>\n",
       "      <th>Document Body</th>\n",
       "    </tr>\n",
       "  </thead>\n",
       "  <tbody>\n",
       "    <tr>\n",
       "      <th>0</th>\n",
       "      <td>PJB 2086</td>\n",
       "      <td>&lt;p&gt;October 10, 1968&lt;/p&gt;&lt;p&gt;Dear Dr. Feinberg,&lt;/...</td>\n",
       "    </tr>\n",
       "    <tr>\n",
       "      <th>1</th>\n",
       "      <td>PJB 2232</td>\n",
       "      <td>&lt;p&gt;October 28, 1968&lt;/p&gt;&lt;p&gt;Dear Mrs. Allison,&lt;/...</td>\n",
       "    </tr>\n",
       "    <tr>\n",
       "      <th>2</th>\n",
       "      <td>PJB 2243</td>\n",
       "      <td>&lt;p&gt;October 28, 1968&lt;/p&gt;&lt;p&gt;Dear Ms. Boyd,&lt;/p&gt;&lt;p...</td>\n",
       "    </tr>\n",
       "    <tr>\n",
       "      <th>3</th>\n",
       "      <td>PJB 2155</td>\n",
       "      <td>&lt;p&gt;October 18, 1968&lt;/p&gt;&lt;p&gt;Dear Al,&lt;/p&gt;&lt;p&gt;I am ...</td>\n",
       "    </tr>\n",
       "    <tr>\n",
       "      <th>4</th>\n",
       "      <td>PJB 2169</td>\n",
       "      <td>&lt;p&gt;October 21, 1968&lt;/p&gt;&lt;p&gt;Dear Mrs. Watt&lt;s&gt;a&lt;/...</td>\n",
       "    </tr>\n",
       "    <tr>\n",
       "      <th>...</th>\n",
       "      <td>...</td>\n",
       "      <td>...</td>\n",
       "    </tr>\n",
       "    <tr>\n",
       "      <th>180</th>\n",
       "      <td>PJB 2221</td>\n",
       "      <td>&lt;p&gt;Richard Fulton INC.&lt;br/&gt;200 W. 57th St.&lt;br/...</td>\n",
       "    </tr>\n",
       "    <tr>\n",
       "      <th>181</th>\n",
       "      <td>PJB 2205</td>\n",
       "      <td>&lt;p&gt;September 23, 1968&lt;/p&gt;&lt;p&gt;Highlight Society&lt;...</td>\n",
       "    </tr>\n",
       "    <tr>\n",
       "      <th>182</th>\n",
       "      <td>PJB 2101</td>\n",
       "      <td>&lt;p&gt;[Letterhead logo]: Illustrated image of 20t...</td>\n",
       "    </tr>\n",
       "    <tr>\n",
       "      <th>183</th>\n",
       "      <td>PJB 2365</td>\n",
       "      <td>&lt;p&gt;9616 NE 27th&lt;br/&gt;Bellevue, WA 98004&lt;br/&gt;May...</td>\n",
       "    </tr>\n",
       "    <tr>\n",
       "      <th>184</th>\n",
       "      <td>PJB 2360</td>\n",
       "      <td>&lt;p&gt;LAKE MICHIGAN COLLEGE&lt;br/&gt;BENTON HARBOR, MI...</td>\n",
       "    </tr>\n",
       "  </tbody>\n",
       "</table>\n",
       "<p>185 rows × 2 columns</p>\n",
       "</div>"
      ],
      "text/plain": [
       "       PJB ID                                      Document Body\n",
       "0    PJB 2086  <p>October 10, 1968</p><p>Dear Dr. Feinberg,</...\n",
       "1    PJB 2232  <p>October 28, 1968</p><p>Dear Mrs. Allison,</...\n",
       "2    PJB 2243  <p>October 28, 1968</p><p>Dear Ms. Boyd,</p><p...\n",
       "3    PJB 2155  <p>October 18, 1968</p><p>Dear Al,</p><p>I am ...\n",
       "4    PJB 2169  <p>October 21, 1968</p><p>Dear Mrs. Watt<s>a</...\n",
       "..        ...                                                ...\n",
       "180  PJB 2221  <p>Richard Fulton INC.<br/>200 W. 57th St.<br/...\n",
       "181  PJB 2205  <p>September 23, 1968</p><p>Highlight Society<...\n",
       "182  PJB 2101  <p>[Letterhead logo]: Illustrated image of 20t...\n",
       "183  PJB 2365  <p>9616 NE 27th<br/>Bellevue, WA 98004<br/>May...\n",
       "184  PJB 2360  <p>LAKE MICHIGAN COLLEGE<br/>BENTON HARBOR, MI...\n",
       "\n",
       "[185 rows x 2 columns]"
      ]
     },
     "execution_count": 23,
     "metadata": {},
     "output_type": "execute_result"
    }
   ],
   "source": [
    "id_list = df_final['PJB ID'].to_list()\n",
    "new_ids = []\n",
    "for id in id_list:\n",
    "    # Remove any spaces or PJBs for standardization\n",
    "    id = id.replace(\" \", \"\")\n",
    "    id = id.replace(\"PJB\", \"\")\n",
    "    id = 'PJB ' + id\n",
    "    new_ids.append(id)\n",
    "        \n",
    "print(new_ids)\n",
    "df_final['PJB ID'] = new_ids\n",
    "df_final"
   ]
  },
  {
   "cell_type": "code",
   "execution_count": 39,
   "metadata": {},
   "outputs": [
    {
     "name": "stdout",
     "output_type": "stream",
     "text": [
      "<p>WESTERN UNION<br/>TELEGRAM</p><p>1104P EDT AUG 30 68 AC504 K616</p><p>WZA467 NL PD WG WELLINGTON KANS 30<br/>HONORABLE JULIAN BOND<br/>162 EAST EUHARLEE ST SOUTHWEST ATLA<br/>CONGRATULATIONS ON MAGNIFICIENT PERFORMANCE IN CHICAGO.  KANSAS<br/>STATE CONFERENCE OF NAACP BRANCHES CORDIALLY INVIT YOU TO ADDRESS<br/>ITS ANNUAL FREEDOM FUN DINNER TO BE HELD IN TOPEKA KANSAS<br/>NOV 16 1968 AT 7PM.  ALTHOUGH YOU HAVE MADE PUBLIC APPEARANCES<br/>IN MANY SECTIONS OF COUNTRY NO ONE IN KANSAS CAN REMEMBER YOUR<br/>EVER VISITING STATE.  FOR THIS AND OTHR REASONS WE URGE YOU<br/>TO SERIOUSLY CONSIDER ACCEPTING OUR INVIGATIONS.<br/>YOU MAY CALL OR WIRE COLLECT<br/>DR CHARLES ROQUEMORE PRESIDENT<br/>220 EAST KANSAS AVE<br/>WELLINGTON KANS FA 64691</p>                       <p>Dear ........:<br/>Please forgive me for taking so long to answer your kind telegram.<br/>I am sorry but I cannot come to Kansas on the date you have indicated.<br/>My schedule is a busy one, and I am trying to limit my time away from home.<br/>Sincerely,</p><p>A-72571</p><p>Thanks to FromThePage transcription contributors: Carlos Perez                                       Debra Haraldson</p>\n"
     ]
    }
   ],
   "source": [
    "example = df_final[df_final['PJB ID'] == 'PJB 2068']\n",
    "print(example['Document Body'][134])"
   ]
  },
  {
   "cell_type": "markdown",
   "metadata": {},
   "source": [
    "This presents a particularly interesting problem, but one that I imagine solving would simply cause more problems than solutions. In using this new method, line breaks (`<br/>`) hold together instead of disappearing. This is good when we want to use linebreaks (frequently in Series II, for addresses) but bad when contributors literally represent line breaks (against transcription guidelines). But I suppose it can always be sorted out in proofreading."
   ]
  },
  {
   "cell_type": "code",
   "execution_count": 42,
   "metadata": {},
   "outputs": [
    {
     "name": "stdout",
     "output_type": "stream",
     "text": [
      "20250410\n"
     ]
    }
   ],
   "source": [
    "# export to csv for transfer to Drupal!\n",
    "import datetime\n",
    "# just gonna do UTC minus 5 because timezones are a pain, and this doesn't need to be perfect\n",
    "# so sometimes it'll be CDT and sometimes EST but so be it\n",
    "date = datetime.datetime.now(datetime.UTC) - datetime.timedelta(hours = 5) \n",
    "print(f'{date:%Y%m%d}')\n",
    "df_final.to_csv(f'export_to_drupal_{date:%m%d%Y}.csv', index=False)"
   ]
  }
 ],
 "metadata": {
  "colab": {
   "provenance": []
  },
  "kernelspec": {
   "display_name": "Python 3 (ipykernel)",
   "language": "python",
   "name": "python3"
  },
  "language_info": {
   "codemirror_mode": {
    "name": "ipython",
    "version": 3
   },
   "file_extension": ".py",
   "mimetype": "text/x-python",
   "name": "python",
   "nbconvert_exporter": "python",
   "pygments_lexer": "ipython3",
   "version": "3.12.4"
  }
 },
 "nbformat": 4,
 "nbformat_minor": 4
}
