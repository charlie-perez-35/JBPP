{
 "cells": [
  {
   "cell_type": "code",
   "execution_count": 3,
   "id": "27935459-e7d5-4d5d-a37a-99f2e23f93a4",
   "metadata": {},
   "outputs": [
    {
     "name": "stdout",
     "output_type": "stream",
     "text": [
      "Collecting pypdf\n",
      "  Downloading pypdf-5.6.0-py3-none-any.whl.metadata (7.2 kB)\n",
      "Downloading pypdf-5.6.0-py3-none-any.whl (304 kB)\n",
      "   ---------------------------------------- 0.0/304.2 kB ? eta -:--:--\n",
      "   -------------------- ------------------- 153.6/304.2 kB 3.1 MB/s eta 0:00:01\n",
      "   --------------------------------- ------ 256.0/304.2 kB 3.1 MB/s eta 0:00:01\n",
      "   ---------------------------------------  297.0/304.2 kB 2.6 MB/s eta 0:00:01\n",
      "   ---------------------------------------- 304.2/304.2 kB 2.4 MB/s eta 0:00:00\n",
      "Installing collected packages: pypdf\n",
      "Successfully installed pypdf-5.6.0\n"
     ]
    },
    {
     "name": "stderr",
     "output_type": "stream",
     "text": [
      "\n",
      "[notice] A new release of pip is available: 24.1.2 -> 25.1.1\n",
      "[notice] To update, run: python.exe -m pip install --upgrade pip\n"
     ]
    }
   ],
   "source": [
    "! pip install pypdf"
   ]
  },
  {
   "cell_type": "code",
   "execution_count": 7,
   "id": "a4dc3b19-4ead-409e-a227-eff5e307a3b4",
   "metadata": {},
   "outputs": [
    {
     "name": "stdout",
     "output_type": "stream",
     "text": [
      "Requirement already satisfied: pip in c:\\users\\charl\\anaconda3\\lib\\site-packages (24.1.2)\n",
      "Collecting pip\n",
      "  Downloading pip-25.1.1-py3-none-any.whl.metadata (3.6 kB)\n",
      "Downloading pip-25.1.1-py3-none-any.whl (1.8 MB)\n",
      "   ---------------------------------------- 0.0/1.8 MB ? eta -:--:--\n",
      "   -- ------------------------------------- 0.1/1.8 MB 2.4 MB/s eta 0:00:01\n",
      "   ---- ----------------------------------- 0.2/1.8 MB 3.5 MB/s eta 0:00:01\n",
      "   ---------- ----------------------------- 0.5/1.8 MB 3.5 MB/s eta 0:00:01\n",
      "   ------------------ --------------------- 0.9/1.8 MB 4.5 MB/s eta 0:00:01\n",
      "   ------------------------ --------------- 1.1/1.8 MB 4.7 MB/s eta 0:00:01\n",
      "   ------------------------------- -------- 1.4/1.8 MB 5.4 MB/s eta 0:00:01\n",
      "   ---------------------------------- ----- 1.6/1.8 MB 5.0 MB/s eta 0:00:01\n",
      "   ---------------------------------------  1.8/1.8 MB 5.3 MB/s eta 0:00:01\n",
      "   ---------------------------------------- 1.8/1.8 MB 4.8 MB/s eta 0:00:00\n",
      "Installing collected packages: pip\n",
      "  Attempting uninstall: pip\n",
      "    Found existing installation: pip 24.1.2\n",
      "    Uninstalling pip-24.1.2:\n",
      "      Successfully uninstalled pip-24.1.2\n",
      "Successfully installed pip-25.1.1\n"
     ]
    }
   ],
   "source": [
    "! python.exe -m pip install --upgrade pip"
   ]
  },
  {
   "cell_type": "code",
   "execution_count": 5,
   "id": "42af333d-807b-474e-aade-9f5b207741f7",
   "metadata": {},
   "outputs": [
    {
     "data": {
      "text/plain": [
       "'C:\\\\Users\\\\charl\\\\JBPP'"
      ]
     },
     "execution_count": 5,
     "metadata": {},
     "output_type": "execute_result"
    }
   ],
   "source": [
    "import pandas as pd\n",
    "import numpy as np\n",
    "import os\n",
    "\n",
    "os.getcwd()"
   ]
  },
  {
   "cell_type": "code",
   "execution_count": 9,
   "id": "7cfef8f0-9005-4685-a755-e2b65b5747c5",
   "metadata": {},
   "outputs": [
    {
     "data": {
      "text/html": [
       "<div>\n",
       "<style scoped>\n",
       "    .dataframe tbody tr th:only-of-type {\n",
       "        vertical-align: middle;\n",
       "    }\n",
       "\n",
       "    .dataframe tbody tr th {\n",
       "        vertical-align: top;\n",
       "    }\n",
       "\n",
       "    .dataframe thead th {\n",
       "        text-align: right;\n",
       "    }\n",
       "</style>\n",
       "<table border=\"1\" class=\"dataframe\">\n",
       "  <thead>\n",
       "    <tr style=\"text-align: right;\">\n",
       "      <th></th>\n",
       "      <th>pid</th>\n",
       "      <th>title</th>\n",
       "      <th>description</th>\n",
       "      <th>location</th>\n",
       "      <th>iiif</th>\n",
       "    </tr>\n",
       "  </thead>\n",
       "  <tbody>\n",
       "    <tr>\n",
       "      <th>0</th>\n",
       "      <td>tsm:3381073</td>\n",
       "      <td>From Julian Bond to Susan Phillis, 2 Jan 1974</td>\n",
       "      <td>1</td>\n",
       "      <td>NaN</td>\n",
       "      <td>https://iiif.lib.virginia.edu/iiif/tsm:3381073...</td>\n",
       "    </tr>\n",
       "    <tr>\n",
       "      <th>1</th>\n",
       "      <td>tsm:3381074</td>\n",
       "      <td>To Julian Bond from Susan Phillis, 11 Dec 1973</td>\n",
       "      <td>1</td>\n",
       "      <td>NaN</td>\n",
       "      <td>https://iiif.lib.virginia.edu/iiif/tsm:3381074...</td>\n",
       "    </tr>\n",
       "    <tr>\n",
       "      <th>2</th>\n",
       "      <td>tsm:3381075</td>\n",
       "      <td>From Julian Bond to John Britton, 2 Jan 1974</td>\n",
       "      <td>1</td>\n",
       "      <td>NaN</td>\n",
       "      <td>https://iiif.lib.virginia.edu/iiif/tsm:3381075...</td>\n",
       "    </tr>\n",
       "    <tr>\n",
       "      <th>3</th>\n",
       "      <td>tsm:3381076</td>\n",
       "      <td>From Julian Bond to George Howe, 2 Jan 1974</td>\n",
       "      <td>1</td>\n",
       "      <td>NaN</td>\n",
       "      <td>https://iiif.lib.virginia.edu/iiif/tsm:3381076...</td>\n",
       "    </tr>\n",
       "    <tr>\n",
       "      <th>4</th>\n",
       "      <td>tsm:3381077</td>\n",
       "      <td>To Julian Bond from George Howe, 19 Dec 1973</td>\n",
       "      <td>1</td>\n",
       "      <td>NaN</td>\n",
       "      <td>https://iiif.lib.virginia.edu/iiif/tsm:3381077...</td>\n",
       "    </tr>\n",
       "    <tr>\n",
       "      <th>5</th>\n",
       "      <td>tsm:3381078</td>\n",
       "      <td>From Julian Bond to Lourie Fornise, 2 Jan 1974</td>\n",
       "      <td>1</td>\n",
       "      <td>NaN</td>\n",
       "      <td>https://iiif.lib.virginia.edu/iiif/tsm:3381078...</td>\n",
       "    </tr>\n",
       "    <tr>\n",
       "      <th>6</th>\n",
       "      <td>tsm:3381079</td>\n",
       "      <td>To Julian Bond from Lourie Fornise, 30 Nov 1973</td>\n",
       "      <td>1</td>\n",
       "      <td>NaN</td>\n",
       "      <td>https://iiif.lib.virginia.edu/iiif/tsm:3381079...</td>\n",
       "    </tr>\n",
       "    <tr>\n",
       "      <th>7</th>\n",
       "      <td>tsm:3381080</td>\n",
       "      <td>From Julian Bond to Joe Andrews, 2 Jan 1974</td>\n",
       "      <td>1</td>\n",
       "      <td>NaN</td>\n",
       "      <td>https://iiif.lib.virginia.edu/iiif/tsm:3381080...</td>\n",
       "    </tr>\n",
       "    <tr>\n",
       "      <th>8</th>\n",
       "      <td>tsm:3381081</td>\n",
       "      <td>To Julian Bond from Joe Andrews, 11 Dec 1973</td>\n",
       "      <td>1</td>\n",
       "      <td>NaN</td>\n",
       "      <td>https://iiif.lib.virginia.edu/iiif/tsm:3381081...</td>\n",
       "    </tr>\n",
       "    <tr>\n",
       "      <th>9</th>\n",
       "      <td>tsm:3381082</td>\n",
       "      <td>From Julian Bond to Julian [Price], 2 Jan 1974...</td>\n",
       "      <td>1</td>\n",
       "      <td>NaN</td>\n",
       "      <td>https://iiif.lib.virginia.edu/iiif/tsm:3381082...</td>\n",
       "    </tr>\n",
       "    <tr>\n",
       "      <th>10</th>\n",
       "      <td>tsm:3381083</td>\n",
       "      <td>From Julian Bond to Julian Price, 2 Jan 1974 [...</td>\n",
       "      <td>1</td>\n",
       "      <td>NaN</td>\n",
       "      <td>https://iiif.lib.virginia.edu/iiif/tsm:3381083...</td>\n",
       "    </tr>\n",
       "    <tr>\n",
       "      <th>11</th>\n",
       "      <td>tsm:3381084</td>\n",
       "      <td>From Julian Bond to Julian Price, 2 Jan 1974 [...</td>\n",
       "      <td>2</td>\n",
       "      <td>NaN</td>\n",
       "      <td>https://iiif.lib.virginia.edu/iiif/tsm:3381084...</td>\n",
       "    </tr>\n",
       "  </tbody>\n",
       "</table>\n",
       "</div>"
      ],
      "text/plain": [
       "            pid                                              title  \\\n",
       "0   tsm:3381073      From Julian Bond to Susan Phillis, 2 Jan 1974   \n",
       "1   tsm:3381074     To Julian Bond from Susan Phillis, 11 Dec 1973   \n",
       "2   tsm:3381075       From Julian Bond to John Britton, 2 Jan 1974   \n",
       "3   tsm:3381076        From Julian Bond to George Howe, 2 Jan 1974   \n",
       "4   tsm:3381077       To Julian Bond from George Howe, 19 Dec 1973   \n",
       "5   tsm:3381078     From Julian Bond to Lourie Fornise, 2 Jan 1974   \n",
       "6   tsm:3381079    To Julian Bond from Lourie Fornise, 30 Nov 1973   \n",
       "7   tsm:3381080        From Julian Bond to Joe Andrews, 2 Jan 1974   \n",
       "8   tsm:3381081       To Julian Bond from Joe Andrews, 11 Dec 1973   \n",
       "9   tsm:3381082  From Julian Bond to Julian [Price], 2 Jan 1974...   \n",
       "10  tsm:3381083  From Julian Bond to Julian Price, 2 Jan 1974 [...   \n",
       "11  tsm:3381084  From Julian Bond to Julian Price, 2 Jan 1974 [...   \n",
       "\n",
       "    description  location                                               iiif  \n",
       "0             1       NaN  https://iiif.lib.virginia.edu/iiif/tsm:3381073...  \n",
       "1             1       NaN  https://iiif.lib.virginia.edu/iiif/tsm:3381074...  \n",
       "2             1       NaN  https://iiif.lib.virginia.edu/iiif/tsm:3381075...  \n",
       "3             1       NaN  https://iiif.lib.virginia.edu/iiif/tsm:3381076...  \n",
       "4             1       NaN  https://iiif.lib.virginia.edu/iiif/tsm:3381077...  \n",
       "5             1       NaN  https://iiif.lib.virginia.edu/iiif/tsm:3381078...  \n",
       "6             1       NaN  https://iiif.lib.virginia.edu/iiif/tsm:3381079...  \n",
       "7             1       NaN  https://iiif.lib.virginia.edu/iiif/tsm:3381080...  \n",
       "8             1       NaN  https://iiif.lib.virginia.edu/iiif/tsm:3381081...  \n",
       "9             1       NaN  https://iiif.lib.virginia.edu/iiif/tsm:3381082...  \n",
       "10            1       NaN  https://iiif.lib.virginia.edu/iiif/tsm:3381083...  \n",
       "11            2       NaN  https://iiif.lib.virginia.edu/iiif/tsm:3381084...  "
      ]
     },
     "execution_count": 9,
     "metadata": {},
     "output_type": "execute_result"
    }
   ],
   "source": [
    "pdf_path = 'PDF experimentation/pdf_experiment_test.pdf'\n",
    "digi_metadata = pd.read_csv('PDF experimentation/unit-60349.csv')\n",
    "digi_metadata"
   ]
  },
  {
   "cell_type": "code",
   "execution_count": 15,
   "id": "76ef6b8f-9301-4944-b256-d3d41233c958",
   "metadata": {},
   "outputs": [],
   "source": [
    "# need to manually insert output prefix? no reference to PJB ID at the moment? both problems that ought to be fixed\n",
    "# os.mkdir('PDF experimentation/test-output')\n",
    "output_dir = 'PDF experimentation/test-output'\n",
    "pjb_name = 'mss13347-b17-f3'"
   ]
  },
  {
   "cell_type": "code",
   "execution_count": 17,
   "id": "af36b765-31cd-4925-8d59-383d4005acfb",
   "metadata": {},
   "outputs": [],
   "source": [
    "def page_lengths_from_titles(titles):\n",
    "    lengths = []\n",
    "    current_title = titles[0]\n",
    "    count = 0\n",
    "\n",
    "    for title in titles:\n",
    "        if title == current_title:\n",
    "            count += 1\n",
    "        else:\n",
    "            lengths.append(count)\n",
    "            current_title = title\n",
    "            count = 1\n",
    "    lengths.append(count)  # add the last document's count\n",
    "    return lengths"
   ]
  },
  {
   "cell_type": "code",
   "execution_count": 21,
   "id": "3ad260d1-6e47-404f-8c75-2915c193b034",
   "metadata": {},
   "outputs": [],
   "source": [
    "titles = digi_metadata['title']\n",
    "\n",
    "page_lengths = page_lengths_from_titles(titles)"
   ]
  },
  {
   "cell_type": "code",
   "execution_count": 35,
   "id": "62dcbb47-f997-408d-96a9-4b0caefb2242",
   "metadata": {},
   "outputs": [],
   "source": [
    "from pypdf import PdfReader, PdfWriter\n",
    "\n",
    "def split_pdf_by_lengths(pdf_path, page_lengths, output_dir=output_dir, output_prefix=pjb_name):\n",
    "    \"\"\"\n",
    "    Splits a PDF into multiple PDFs based on a list of page lengths.\n",
    "\n",
    "    Args:\n",
    "        pdf_path (str): Path to the original PDF file.\n",
    "        page_lengths (List[int]): List of page counts for each desired split.\n",
    "        output_prefix (str): Prefix for output files (default: 'split').\n",
    "    \"\"\"\n",
    "    reader = PdfReader(pdf_path)\n",
    "    pages = len(reader.pages)\n",
    "    current = 0\n",
    "\n",
    "    for i, length in enumerate(page_lengths):\n",
    "        if current + length > pages:\n",
    "            raise ValueError(f'Not enough pages to fulfill document {i+1} with {length} pages.')\n",
    "        \n",
    "        writer = PdfWriter()\n",
    "        for page_num in range(current, current + length):\n",
    "            writer.add_page(reader.pages[page_num])\n",
    "\n",
    "        output_path = f\"{output_dir}/{output_prefix}_{i+1}.pdf\"\n",
    "        with open(output_path, \"wb\") as f_out:\n",
    "            writer.write(f_out)\n",
    "        print(f\"Saved: {output_path}\")\n",
    "\n",
    "        current += length\n",
    "\n",
    "    if current < total_pages:\n",
    "        print(f\"Warning: {total_pages - current} page(s) were not used.\")"
   ]
  },
  {
   "cell_type": "code",
   "execution_count": 37,
   "id": "914145c2-27e5-40c4-aa7b-97858377fa0a",
   "metadata": {},
   "outputs": [
    {
     "name": "stdout",
     "output_type": "stream",
     "text": [
      "Saved: PDF experimentation/test-output/mss13347-b17-f3_1.pdf\n",
      "Saved: PDF experimentation/test-output/mss13347-b17-f3_2.pdf\n",
      "Saved: PDF experimentation/test-output/mss13347-b17-f3_3.pdf\n",
      "Saved: PDF experimentation/test-output/mss13347-b17-f3_4.pdf\n",
      "Saved: PDF experimentation/test-output/mss13347-b17-f3_5.pdf\n",
      "Saved: PDF experimentation/test-output/mss13347-b17-f3_6.pdf\n",
      "Saved: PDF experimentation/test-output/mss13347-b17-f3_7.pdf\n",
      "Saved: PDF experimentation/test-output/mss13347-b17-f3_8.pdf\n",
      "Saved: PDF experimentation/test-output/mss13347-b17-f3_9.pdf\n"
     ]
    },
    {
     "ename": "ValueError",
     "evalue": "Not enough pages to fulfill document 10 with 1 pages.",
     "output_type": "error",
     "traceback": [
      "\u001b[1;31m---------------------------------------------------------------------------\u001b[0m",
      "\u001b[1;31mValueError\u001b[0m                                Traceback (most recent call last)",
      "Cell \u001b[1;32mIn[37], line 1\u001b[0m\n\u001b[1;32m----> 1\u001b[0m split_pdf_by_lengths(pdf_path, page_lengths)\n",
      "Cell \u001b[1;32mIn[35], line 18\u001b[0m, in \u001b[0;36msplit_pdf_by_lengths\u001b[1;34m(pdf_path, page_lengths, output_dir, output_prefix)\u001b[0m\n\u001b[0;32m     16\u001b[0m \u001b[38;5;28;01mfor\u001b[39;00m i, length \u001b[38;5;129;01min\u001b[39;00m \u001b[38;5;28menumerate\u001b[39m(page_lengths):\n\u001b[0;32m     17\u001b[0m     \u001b[38;5;28;01mif\u001b[39;00m current \u001b[38;5;241m+\u001b[39m length \u001b[38;5;241m>\u001b[39m pages:\n\u001b[1;32m---> 18\u001b[0m         \u001b[38;5;28;01mraise\u001b[39;00m \u001b[38;5;167;01mValueError\u001b[39;00m(\u001b[38;5;124mf\u001b[39m\u001b[38;5;124m'\u001b[39m\u001b[38;5;124mNot enough pages to fulfill document \u001b[39m\u001b[38;5;132;01m{\u001b[39;00mi\u001b[38;5;241m+\u001b[39m\u001b[38;5;241m1\u001b[39m\u001b[38;5;132;01m}\u001b[39;00m\u001b[38;5;124m with \u001b[39m\u001b[38;5;132;01m{\u001b[39;00mlength\u001b[38;5;132;01m}\u001b[39;00m\u001b[38;5;124m pages.\u001b[39m\u001b[38;5;124m'\u001b[39m)\n\u001b[0;32m     20\u001b[0m     writer \u001b[38;5;241m=\u001b[39m PdfWriter()\n\u001b[0;32m     21\u001b[0m     \u001b[38;5;28;01mfor\u001b[39;00m page_num \u001b[38;5;129;01min\u001b[39;00m \u001b[38;5;28mrange\u001b[39m(current, current \u001b[38;5;241m+\u001b[39m length):\n",
      "\u001b[1;31mValueError\u001b[0m: Not enough pages to fulfill document 10 with 1 pages."
     ]
    }
   ],
   "source": [
    "split_pdf_by_lengths(pdf_path, page_lengths)"
   ]
  }
 ],
 "metadata": {
  "kernelspec": {
   "display_name": "Python 3 (ipykernel)",
   "language": "python",
   "name": "python3"
  },
  "language_info": {
   "codemirror_mode": {
    "name": "ipython",
    "version": 3
   },
   "file_extension": ".py",
   "mimetype": "text/x-python",
   "name": "python",
   "nbconvert_exporter": "python",
   "pygments_lexer": "ipython3",
   "version": "3.12.4"
  }
 },
 "nbformat": 4,
 "nbformat_minor": 5
}
