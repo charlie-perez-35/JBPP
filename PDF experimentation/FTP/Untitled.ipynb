{
 "cells": [
  {
   "cell_type": "code",
   "execution_count": 5,
   "id": "63698388-537e-44ca-aefe-2839a87b8246",
   "metadata": {},
   "outputs": [],
   "source": [
    "import pandas as pd"
   ]
  },
  {
   "cell_type": "code",
   "execution_count": 3,
   "id": "2d26f964-f3e8-46d2-a948-7d89a8a7a0e9",
   "metadata": {},
   "outputs": [
    {
     "data": {
      "text/plain": [
       "'2.3.0'"
      ]
     },
     "execution_count": 3,
     "metadata": {},
     "output_type": "execute_result"
    }
   ],
   "source": [
    "import numpy as np\n",
    "np.__version__"
   ]
  },
  {
   "cell_type": "code",
   "execution_count": 7,
   "id": "73747b77-4b22-4de2-80bb-b87718622eba",
   "metadata": {},
   "outputs": [],
   "source": [
    "# I think my default numpy is being really weird and I still don't know how to fix it, \n",
    "# fear I may have to start using venvs"
   ]
  },
  {
   "cell_type": "code",
   "execution_count": 21,
   "id": "1cd4de95-b2d1-4381-b167-6a479ad8aab8",
   "metadata": {},
   "outputs": [],
   "source": [
    "test = pd.read_csv('FTP exports/b14f3_export_07092025.csv', index_col = False)"
   ]
  },
  {
   "cell_type": "code",
   "execution_count": 37,
   "id": "48472496-518a-4a1e-8e70-181cbbacbee0",
   "metadata": {},
   "outputs": [],
   "source": [
    "test.drop('Unnamed: 0', axis = 1, inplace = True)"
   ]
  },
  {
   "cell_type": "code",
   "execution_count": 45,
   "id": "9dfc028b-30d9-4fd6-88ef-6d640e0fbe83",
   "metadata": {},
   "outputs": [],
   "source": [
    "test_simple = test.drop('Title', axis = 1)"
   ]
  },
  {
   "cell_type": "code",
   "execution_count": 47,
   "id": "c6bcf2f7-b80a-4a9c-bae5-c6d7a421f0e4",
   "metadata": {},
   "outputs": [],
   "source": [
    "test_simple.to_csv('test_remove_columns.csv', index = False)"
   ]
  },
  {
   "cell_type": "code",
   "execution_count": 59,
   "id": "915cbdf2-16be-434d-926e-5f6a19c77664",
   "metadata": {},
   "outputs": [],
   "source": [
    "test['Document Body'] = test.apply(lambda row: row['Document Body'].replace('\\n', ''), axis =1)"
   ]
  },
  {
   "cell_type": "code",
   "execution_count": 69,
   "id": "68810de9-2416-4e2f-9e09-f34812494bdd",
   "metadata": {},
   "outputs": [],
   "source": [
    "test['Document Body'] = test.apply(lambda row: row['Document Body'].replace('\\r', ''), axis =1)"
   ]
  },
  {
   "cell_type": "code",
   "execution_count": 67,
   "id": "c47c062b-2963-4611-89dd-202446de0eb0",
   "metadata": {},
   "outputs": [
    {
     "data": {
      "text/html": [
       "<div>\n",
       "<style scoped>\n",
       "    .dataframe tbody tr th:only-of-type {\n",
       "        vertical-align: middle;\n",
       "    }\n",
       "\n",
       "    .dataframe tbody tr th {\n",
       "        vertical-align: top;\n",
       "    }\n",
       "\n",
       "    .dataframe thead th {\n",
       "        text-align: right;\n",
       "    }\n",
       "</style>\n",
       "<table border=\"1\" class=\"dataframe\">\n",
       "  <thead>\n",
       "    <tr style=\"text-align: right;\">\n",
       "      <th></th>\n",
       "      <th>ID</th>\n",
       "      <th>Title</th>\n",
       "      <th>Document Body</th>\n",
       "    </tr>\n",
       "  </thead>\n",
       "  <tbody>\n",
       "  </tbody>\n",
       "</table>\n",
       "</div>"
      ],
      "text/plain": [
       "Empty DataFrame\n",
       "Columns: [ID, Title, Document Body]\n",
       "Index: []"
      ]
     },
     "execution_count": 67,
     "metadata": {},
     "output_type": "execute_result"
    }
   ],
   "source": [
    "test[test['Document Body'].str.contains('0xD')]"
   ]
  },
  {
   "cell_type": "code",
   "execution_count": 71,
   "id": "0eb28f9d-bf9e-4489-9c02-722b34cefbec",
   "metadata": {},
   "outputs": [],
   "source": [
    "test.to_csv('test_remove_newlines_carriage.csv')"
   ]
  }
 ],
 "metadata": {
  "kernelspec": {
   "display_name": "Python 3 (ipykernel)",
   "language": "python",
   "name": "python3"
  },
  "language_info": {
   "codemirror_mode": {
    "name": "ipython",
    "version": 3
   },
   "file_extension": ".py",
   "mimetype": "text/x-python",
   "name": "python",
   "nbconvert_exporter": "python",
   "pygments_lexer": "ipython3",
   "version": "3.12.4"
  }
 },
 "nbformat": 4,
 "nbformat_minor": 5
}
