{
 "cells": [
  {
   "cell_type": "code",
   "execution_count": 3,
   "id": "27935459-e7d5-4d5d-a37a-99f2e23f93a4",
   "metadata": {},
   "outputs": [
    {
     "name": "stdout",
     "output_type": "stream",
     "text": [
      "Collecting pypdf\n",
      "  Downloading pypdf-5.6.0-py3-none-any.whl.metadata (7.2 kB)\n",
      "Downloading pypdf-5.6.0-py3-none-any.whl (304 kB)\n",
      "   ---------------------------------------- 0.0/304.2 kB ? eta -:--:--\n",
      "   -------------------- ------------------- 153.6/304.2 kB 3.1 MB/s eta 0:00:01\n",
      "   --------------------------------- ------ 256.0/304.2 kB 3.1 MB/s eta 0:00:01\n",
      "   ---------------------------------------  297.0/304.2 kB 2.6 MB/s eta 0:00:01\n",
      "   ---------------------------------------- 304.2/304.2 kB 2.4 MB/s eta 0:00:00\n",
      "Installing collected packages: pypdf\n",
      "Successfully installed pypdf-5.6.0\n"
     ]
    },
    {
     "name": "stderr",
     "output_type": "stream",
     "text": [
      "\n",
      "[notice] A new release of pip is available: 24.1.2 -> 25.1.1\n",
      "[notice] To update, run: python.exe -m pip install --upgrade pip\n"
     ]
    }
   ],
   "source": [
    "! pip install pypdf"
   ]
  },
  {
   "cell_type": "code",
   "execution_count": 7,
   "id": "a4dc3b19-4ead-409e-a227-eff5e307a3b4",
   "metadata": {},
   "outputs": [
    {
     "name": "stdout",
     "output_type": "stream",
     "text": [
      "Requirement already satisfied: pip in c:\\users\\charl\\anaconda3\\lib\\site-packages (24.1.2)\n",
      "Collecting pip\n",
      "  Downloading pip-25.1.1-py3-none-any.whl.metadata (3.6 kB)\n",
      "Downloading pip-25.1.1-py3-none-any.whl (1.8 MB)\n",
      "   ---------------------------------------- 0.0/1.8 MB ? eta -:--:--\n",
      "   -- ------------------------------------- 0.1/1.8 MB 2.4 MB/s eta 0:00:01\n",
      "   ---- ----------------------------------- 0.2/1.8 MB 3.5 MB/s eta 0:00:01\n",
      "   ---------- ----------------------------- 0.5/1.8 MB 3.5 MB/s eta 0:00:01\n",
      "   ------------------ --------------------- 0.9/1.8 MB 4.5 MB/s eta 0:00:01\n",
      "   ------------------------ --------------- 1.1/1.8 MB 4.7 MB/s eta 0:00:01\n",
      "   ------------------------------- -------- 1.4/1.8 MB 5.4 MB/s eta 0:00:01\n",
      "   ---------------------------------- ----- 1.6/1.8 MB 5.0 MB/s eta 0:00:01\n",
      "   ---------------------------------------  1.8/1.8 MB 5.3 MB/s eta 0:00:01\n",
      "   ---------------------------------------- 1.8/1.8 MB 4.8 MB/s eta 0:00:00\n",
      "Installing collected packages: pip\n",
      "  Attempting uninstall: pip\n",
      "    Found existing installation: pip 24.1.2\n",
      "    Uninstalling pip-24.1.2:\n",
      "      Successfully uninstalled pip-24.1.2\n",
      "Successfully installed pip-25.1.1\n"
     ]
    }
   ],
   "source": [
    "! python.exe -m pip install --upgrade pip"
   ]
  },
  {
   "cell_type": "code",
   "execution_count": null,
   "id": "42af333d-807b-474e-aade-9f5b207741f7",
   "metadata": {},
   "outputs": [],
   "source": [
    "import pandas as pd\n",
    "import numpy as np\n"
   ]
  },
  {
   "cell_type": "code",
   "execution_count": null,
   "id": "62dcbb47-f997-408d-96a9-4b0caefb2242",
   "metadata": {},
   "outputs": [],
   "source": [
    "from pypdf import PdfReader, PdfWriter\n",
    "\n",
    "def split_pdf_by_lengths(pdf_path, page_lengths, output_prefix=\"split\"):\n",
    "    \"\"\"\n",
    "    Splits a PDF into multiple PDFs based on a list of page lengths.\n",
    "\n",
    "    Args:\n",
    "        pdf_path (str): Path to the original PDF file.\n",
    "        page_lengths (List[int]): List of page counts for each desired split.\n",
    "        output_prefix (str): Prefix for output files (default: 'split').\n",
    "    \"\"\"\n",
    "    reader = PdfReader(pdf_path)\n",
    "    total_pages = len(reader.pages)\n",
    "    current_page = 0\n",
    "\n",
    "    for i, length in enumerate(page_lengths):\n",
    "        if current_page + length > total_pages:\n",
    "            raise ValueError(f\"Not enough pages to fulfill document {i+1} with {length} pages.\")\n",
    "        \n",
    "        writer = PdfWriter()\n",
    "        for page_num in range(current_page, current_page + length):\n",
    "            writer.add_page(reader.pages[page_num])\n",
    "\n",
    "        output_path = f\"{output_prefix}_{i+1}.pdf\"\n",
    "        with open(output_path, \"wb\") as f_out:\n",
    "            writer.write(f_out)\n",
    "        print(f\"Saved: {output_path}\")\n",
    "\n",
    "        current_page += length\n",
    "\n",
    "    if current_page < total_pages:\n",
    "        print(f\"Warning: {total_pages - current_page} page(s) were not used.\")\n",
    "\n",
    "# Example usage\n",
    "# split_pdf_by_lengths(\"your_file.pdf\", [2, 5, 3])  # Splits into 3 files\n"
   ]
  }
 ],
 "metadata": {
  "kernelspec": {
   "display_name": "Python 3 (ipykernel)",
   "language": "python",
   "name": "python3"
  },
  "language_info": {
   "codemirror_mode": {
    "name": "ipython",
    "version": 3
   },
   "file_extension": ".py",
   "mimetype": "text/x-python",
   "name": "python",
   "nbconvert_exporter": "python",
   "pygments_lexer": "ipython3",
   "version": "3.12.4"
  }
 },
 "nbformat": 4,
 "nbformat_minor": 5
}
